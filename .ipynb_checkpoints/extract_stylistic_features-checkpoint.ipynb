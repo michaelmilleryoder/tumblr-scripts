{
 "cells": [
  {
   "cell_type": "markdown",
   "metadata": {},
   "source": [
    "# Process data"
   ]
  },
  {
   "cell_type": "markdown",
   "metadata": {},
   "source": [
    "## Concatenate posts"
   ]
  },
  {
   "cell_type": "code",
   "execution_count": 53,
   "metadata": {},
   "outputs": [
    {
     "data": {
      "application/vnd.jupyter.widget-view+json": {
       "model_id": "3ef36fe2ff33483abc4e0114d8119563",
       "version_major": 2,
       "version_minor": 0
      },
      "text/plain": [
       "HBox(children=(IntProgress(value=0, max=1540), HTML(value='')))"
      ]
     },
     "metadata": {},
     "output_type": "display_data"
    }
   ],
   "source": [
    "import pandas as pd\n",
    "import os\n",
    "from tqdm import tqdm_notebook as tqdm\n",
    "\n",
    "community = 'voltron'\n",
    "data_dirpath = f'../data/{community}_posts'\n",
    "\n",
    "posts = []\n",
    "for fname in tqdm(os.listdir(data_dirpath)):\n",
    "    fpath = os.path.join(data_dirpath, fname)\n",
    "    part = pd.read_csv(fpath, sep='\\t')\n",
    "    posts.extend(part.values.tolist())"
   ]
  },
  {
   "cell_type": "code",
   "execution_count": 54,
   "metadata": {},
   "outputs": [
    {
     "name": "stdout",
     "output_type": "stream",
     "text": [
      "Index(['post_tags_string', 'post_id', 'activity_time_epoch', 'tumblelog_id',\n",
      "       'is_private', 'post_title', 'post_short_url', 'post_slug', 'post_type',\n",
      "       'post_caption', 'post_format', 'post_note_count', 'post_tags',\n",
      "       'post_content', 'reblogged_from_post_id', 'reblogged_from_metadata',\n",
      "       'created_time_epoch', 'updated_time_epoch', 'is_submission', 'mentions',\n",
      "       'source_title', 'source_url', 'post_classifier', 'blog_classifier',\n",
      "       'activity_date'],\n",
      "      dtype='object')\n",
      "(4255856, 25)\n"
     ]
    }
   ],
   "source": [
    "data = pd.DataFrame(posts, columns=part.columns)\n",
    "print(data.columns)\n",
    "print(data.shape)"
   ]
  },
  {
   "cell_type": "markdown",
   "metadata": {},
   "source": [
    "## Remove duplicate posts, non-string posts"
   ]
  },
  {
   "cell_type": "code",
   "execution_count": 55,
   "metadata": {},
   "outputs": [
    {
     "data": {
      "text/plain": [
       "(1971849, 25)"
      ]
     },
     "execution_count": 55,
     "metadata": {},
     "output_type": "execute_result"
    }
   ],
   "source": [
    "data.drop_duplicates('post_id', inplace=True)\n",
    "data.shape"
   ]
  },
  {
   "cell_type": "code",
   "execution_count": 40,
   "metadata": {},
   "outputs": [
    {
     "data": {
      "text/plain": [
       "(1971848, 25)"
      ]
     },
     "execution_count": 40,
     "metadata": {},
     "output_type": "execute_result"
    }
   ],
   "source": [
    "data.dropna(subset=['post_id'], inplace=True)\n",
    "data.shape"
   ]
  },
  {
   "cell_type": "code",
   "execution_count": 56,
   "metadata": {},
   "outputs": [
    {
     "data": {
      "text/plain": [
       "(1880600, 25)"
      ]
     },
     "execution_count": 56,
     "metadata": {},
     "output_type": "execute_result"
    }
   ],
   "source": [
    "data = data[data['post_content'].map(lambda x: isinstance(x, str) and len(x) > 0)]\n",
    "data.shape"
   ]
  },
  {
   "cell_type": "markdown",
   "metadata": {},
   "source": [
    "## Preprocess text"
   ]
  },
  {
   "cell_type": "code",
   "execution_count": 57,
   "metadata": {},
   "outputs": [],
   "source": [
    "import re\n",
    "import spacy\n",
    "\n",
    "from html.parser import HTMLParser\n",
    "\n",
    "class MLStripper(HTMLParser):\n",
    "    def __init__(self):\n",
    "        super().__init__()\n",
    "        self.reset()\n",
    "        self.fed = []\n",
    "    def handle_data(self, d):\n",
    "        self.fed.append(d)\n",
    "    def get_data(self):\n",
    "        return ' '.join(self.fed)\n",
    "\n",
    "def strip_tags(html):\n",
    "    s = MLStripper()\n",
    "    s.feed(html)\n",
    "    return s.get_data()\n",
    "\n",
    "nlp = spacy.load('en', disable=['tagger', 'parser', 'ner'])\n",
    "\n",
    "def process_text(text):\n",
    "    \"\"\" Extract body of text, preprocess it \"\"\"\n",
    "    \n",
    "    if not isinstance(text, str):\n",
    "        return ''\n",
    "    \n",
    "    m = re.search(r'body=(.*), note_count', text)\n",
    "    if not m: return ''\n",
    "    body = m.group(1)\n",
    "    \n",
    "    # Strip HTML \n",
    "    body = strip_tags(body)\n",
    "    \n",
    "    # Tokenize\n",
    "    toks = [tok.text for tok in nlp.tokenizer(body.lower())]\n",
    "    \n",
    "    return ' '.join(toks)"
   ]
  },
  {
   "cell_type": "code",
   "execution_count": 58,
   "metadata": {},
   "outputs": [
    {
     "data": {
      "application/vnd.jupyter.widget-view+json": {
       "model_id": "40038616b8b24927b645d9db0efba3a1",
       "version_major": 2,
       "version_minor": 0
      },
      "text/plain": [
       "HBox(children=(IntProgress(value=0, max=1880600), HTML(value='')))"
      ]
     },
     "metadata": {},
     "output_type": "display_data"
    }
   ],
   "source": [
    "data['post_body'] = list(map(process_text, tqdm(data['post_content'])))"
   ]
  },
  {
   "cell_type": "code",
   "execution_count": 59,
   "metadata": {},
   "outputs": [
    {
     "data": {
      "text/plain": [
       "(569677, 26)"
      ]
     },
     "execution_count": 59,
     "metadata": {},
     "output_type": "execute_result"
    }
   ],
   "source": [
    "data = data[data['post_body'].map(lambda x: len(x) > 0)]\n",
    "data.shape"
   ]
  },
  {
   "cell_type": "markdown",
   "metadata": {},
   "source": [
    "## Save out"
   ]
  },
  {
   "cell_type": "code",
   "execution_count": 60,
   "metadata": {},
   "outputs": [],
   "source": [
    "data.to_csv(f'../data/{community}_posts.csv', index=False)"
   ]
  },
  {
   "cell_type": "markdown",
   "metadata": {},
   "source": [
    "# Extract stylistic features"
   ]
  },
  {
   "cell_type": "code",
   "execution_count": 65,
   "metadata": {},
   "outputs": [],
   "source": [
    "from string import punctuation\n",
    "from nltk.corpus import words\n",
    "\n",
    "en_words = set(words.words())\n",
    "def extract_style_features(text):\n",
    "    \n",
    "    features = {}\n",
    "    \n",
    "    # Number of words\n",
    "    toks = text.split()\n",
    "    n_words = len(toks)\n",
    "    features['n_words'] = n_words\n",
    "    features['n_characters'] = len(text)\n",
    "    \n",
    "    if n_words == 0: return features\n",
    "   \n",
    "    # Number, which punctuation\n",
    "    total_punctuation = 0\n",
    "    for p in punctuation:\n",
    "        p_count = text.count(p)\n",
    "        features[p] = p_count\n",
    "        total_punctuation += p_count\n",
    "    features['avg_punctuation'] = total_punctuation/n_words\n",
    "    \n",
    "    # Capitalization\n",
    "    total_capitals = sum(1 for c in text if c.isupper())\n",
    "    word_initial_capitals = sum(1 for w in toks if w[0].isupper())\n",
    "    features['n_capitals'] = total_capitals\n",
    "    features['avg_capitalized_words'] = word_initial_capitals/n_words\n",
    "    features['avg_capitalized_letters'] = total_capitals/features['n_characters']\n",
    "    \n",
    "    # Out-of-vocabulary words\n",
    "    features['n_oov'] = sum(1 for w in toks if not w in en_words)\n",
    "    features['avg_oov'] = features['n_oov']/features['n_words']\n",
    "    \n",
    "    # Repeated characters\n",
    "    total_char_repeats = 0\n",
    "    for char in set(text):\n",
    "        repeated_count = text.count(''.join([char]*3))\n",
    "        if repeated_count > 0:\n",
    "            features[f'repeated_{char}'] = repeated_count\n",
    "            total_char_repeats += repeated_count\n",
    "            \n",
    "    features['total_char_repeats'] = total_char_repeats\n",
    "    \n",
    "    return features"
   ]
  },
  {
   "cell_type": "code",
   "execution_count": 17,
   "metadata": {},
   "outputs": [],
   "source": [
    "pd.set_option('display.max_colwidth', -1)"
   ]
  },
  {
   "cell_type": "code",
   "execution_count": 20,
   "metadata": {},
   "outputs": [
    {
     "data": {
      "text/plain": [
       "'{mentions={}, format=html, title=, body=<p>Lance: you just have to be the bigger person and let it go.</p><p>Allura: Okay. *uses her shape shifting power to grow taller* I don?t see how this is supposed to make me want to let it go.</p>, note_count=0, slug=lance-you-just-have-to-be-the-bigger-person-and, tags={(voltron),(allurance),(lallura)}}'"
      ]
     },
     "execution_count": 20,
     "metadata": {},
     "output_type": "execute_result"
    }
   ],
   "source": [
    "test = data.loc[1, 'post_content']\n",
    "test"
   ]
  },
  {
   "cell_type": "code",
   "execution_count": 66,
   "metadata": {},
   "outputs": [
    {
     "data": {
      "application/vnd.jupyter.widget-view+json": {
       "model_id": "5670762cc965403a804b43a7466e5928",
       "version_major": 2,
       "version_minor": 0
      },
      "text/plain": [
       "HBox(children=(IntProgress(value=0, max=569677), HTML(value='')))"
      ]
     },
     "metadata": {},
     "output_type": "display_data"
    }
   ],
   "source": [
    "data['style_features'] = list(map(extract_style_features, tqdm(data['post_body'])))"
   ]
  },
  {
   "cell_type": "code",
   "execution_count": 67,
   "metadata": {},
   "outputs": [
    {
     "ename": "TypeError",
     "evalue": "to_pickle() got an unexpected keyword argument 'index'",
     "output_type": "error",
     "traceback": [
      "\u001b[0;31m---------------------------------------------------------------------------\u001b[0m",
      "\u001b[0;31mTypeError\u001b[0m                                 Traceback (most recent call last)",
      "\u001b[0;32m<ipython-input-67-c0cb66ae63b0>\u001b[0m in \u001b[0;36m<module>\u001b[0;34m\u001b[0m\n\u001b[0;32m----> 1\u001b[0;31m \u001b[0mdata\u001b[0m\u001b[0;34m.\u001b[0m\u001b[0mto_pickle\u001b[0m\u001b[0;34m(\u001b[0m\u001b[0;34mf'../data/{community}_posts.csv'\u001b[0m\u001b[0;34m,\u001b[0m \u001b[0mindex\u001b[0m\u001b[0;34m=\u001b[0m\u001b[0;32mFalse\u001b[0m\u001b[0;34m)\u001b[0m\u001b[0;34m\u001b[0m\u001b[0;34m\u001b[0m\u001b[0m\n\u001b[0m",
      "\u001b[0;31mTypeError\u001b[0m: to_pickle() got an unexpected keyword argument 'index'"
     ]
    }
   ],
   "source": [
    "data.to_pickle(f'../data/{community}_posts.pkl')"
   ]
  }
 ],
 "metadata": {
  "kernelspec": {
   "display_name": "Python 3",
   "language": "python",
   "name": "python3"
  },
  "language_info": {
   "codemirror_mode": {
    "name": "ipython",
    "version": 3
   },
   "file_extension": ".py",
   "mimetype": "text/x-python",
   "name": "python",
   "nbconvert_exporter": "python",
   "pygments_lexer": "ipython3",
   "version": "3.7.3"
  }
 },
 "nbformat": 4,
 "nbformat_minor": 2
}
