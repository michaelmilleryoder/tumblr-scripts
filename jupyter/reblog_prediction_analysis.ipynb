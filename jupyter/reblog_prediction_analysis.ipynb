{
 "cells": [
  {
   "cell_type": "code",
   "execution_count": 2,
   "metadata": {},
   "outputs": [],
   "source": [
    "import pandas as pd\n",
    "import os\n",
    "\n",
    "data_dirpath = '/usr2/mamille2/tumblr/data/sample1k/'"
   ]
  },
  {
   "cell_type": "markdown",
   "metadata": {},
   "source": [
    "# Separate out performance on posts that have tags vs posts that don't have tags\n",
    "Compare performance of FFN, baseline features with FFN, baseline+identity features separately for posts that have tags vs ones that do not"
   ]
  },
  {
   "cell_type": "code",
   "execution_count": 3,
   "metadata": {},
   "outputs": [
    {
     "data": {
      "text/plain": [
       "(71267,)"
      ]
     },
     "execution_count": 3,
     "metadata": {},
     "output_type": "execute_result"
    }
   ],
   "source": [
    "import numpy as np\n",
    "\n",
    "# Load predictions from FFN, only baseline features\n",
    "\n",
    "baseline_preds_fpath = os.path.join(data_dirpath, 'output', 'predictions', 'ffn_baseline_test_preds.txt')\n",
    "baseline_preds = np.loadtxt(baseline_preds_fpath)\n",
    "baseline_preds.shape"
   ]
  },
  {
   "cell_type": "code",
   "execution_count": 4,
   "metadata": {},
   "outputs": [
    {
     "data": {
      "text/plain": [
       "(71267,)"
      ]
     },
     "execution_count": 4,
     "metadata": {},
     "output_type": "execute_result"
    }
   ],
   "source": [
    "# Load predictions from FFN, baseline+identity features\n",
    "\n",
    "final_preds_fpath = os.path.join(data_dirpath, 'output', 'predictions', 'ffn_labels_baseline+exp1+exp2_all_test_preds.txt')\n",
    "final_preds = np.loadtxt(baseline_preds_fpath)\n",
    "final_preds.shape"
   ]
  },
  {
   "cell_type": "markdown",
   "metadata": {},
   "source": [
    "## Get whether or not post tags was empty for specific instances"
   ]
  },
  {
   "cell_type": "code",
   "execution_count": 12,
   "metadata": {
    "scrolled": true
   },
   "outputs": [
    {
     "name": "stdout",
     "output_type": "stream",
     "text": [
      "71267\n",
      "71267\n",
      "71267\n"
     ]
    },
    {
     "data": {
      "text/plain": [
       "Index(['post_id', 'tumblog_id_follower', 'tumblog_id_followee', 'post_tags',\n",
       "       'post_type', 'post_note_count', 'processed_blog_description_follower',\n",
       "       'processed_blog_description_followee', 'age_terms_follower',\n",
       "       'age_terms_followee', 'ethnicity/nationality_terms_follower',\n",
       "       'ethnicity/nationality_terms_followee', 'fandoms_terms_follower',\n",
       "       'fandoms_terms_followee', 'gender_terms_follower',\n",
       "       'gender_terms_followee', 'gender/sexuality_terms_follower',\n",
       "       'gender/sexuality_terms_followee', 'interests_terms_follower',\n",
       "       'interests_terms_followee', 'location_terms_follower',\n",
       "       'location_terms_followee', 'personality type_terms_follower',\n",
       "       'personality type_terms_followee', 'pronouns_terms_follower',\n",
       "       'pronouns_terms_followee', 'relationship status_terms_follower',\n",
       "       'relationship status_terms_followee', 'roleplay_terms_follower',\n",
       "       'roleplay_terms_followee', 'roleplay/fandoms_terms_follower',\n",
       "       'roleplay/fandoms_terms_followee', 'sexual orientation_terms_follower',\n",
       "       'sexual orientation_terms_followee', 'weight_terms_follower',\n",
       "       'weight_terms_followee', 'zodiac_terms_follower',\n",
       "       'zodiac_terms_followee'],\n",
       "      dtype='object')"
      ]
     },
     "execution_count": 12,
     "metadata": {},
     "output_type": "execute_result"
    }
   ],
   "source": [
    "from sklearn.model_selection import train_test_split\n",
    "\n",
    "# Load feature info\n",
    "reblog_fpath = os.path.join(data_dirpath, 'feature_tables', 'reblog_features.csv')\n",
    "reblog_features = pd.read_csv(reblog_fpath)\n",
    "reblog_train, reblog_test = train_test_split(reblog_features, test_size=0.1, random_state=12345)\n",
    "print(len(reblog_test))\n",
    "\n",
    "nonreblog_fpath = os.path.join(data_dirpath, 'feature_tables', 'nonreblog_features.csv')\n",
    "nonreblog_features = pd.read_csv(nonreblog_fpath)\n",
    "nonreblog_train, nonreblog_test = train_test_split(nonreblog_features, test_size=0.1, random_state=12345)\n",
    "print(len(nonreblog_test))\n",
    "\n",
    "# Load gold labels\n",
    "ranking_fpath = os.path.join(data_dirpath, 'feature_tables', 'ranking_labels.csv')\n",
    "ranking_labels = pd.read_csv(ranking_fpath).iloc[:len(reblog_features)]\n",
    "labels_train, labels_test = train_test_split(ranking_labels['ranking_label'], test_size=0.1, random_state=12345)\n",
    "print(len(labels_test))\n",
    "\n",
    "nonreblog_test.columns"
   ]
  },
  {
   "cell_type": "code",
   "execution_count": 17,
   "metadata": {},
   "outputs": [
    {
     "data": {
      "text/plain": [
       "pandas.core.series.Series"
      ]
     },
     "execution_count": 17,
     "metadata": {},
     "output_type": "execute_result"
    }
   ],
   "source": [
    "type(labels_test)"
   ]
  },
  {
   "cell_type": "code",
   "execution_count": 19,
   "metadata": {
    "scrolled": true
   },
   "outputs": [
    {
     "data": {
      "text/plain": [
       "1"
      ]
     },
     "execution_count": 19,
     "metadata": {},
     "output_type": "execute_result"
    }
   ],
   "source": [
    "labels_test.iloc[0]"
   ]
  },
  {
   "cell_type": "code",
   "execution_count": null,
   "metadata": {},
   "outputs": [],
   "source": [
    "# Build merged dataset\n",
    "lines = [['actual_label', 'baseline_pred', 'final_pred', 'reblog_post_tag', 'nonreblog_post_tag']]\n",
    "for i in range(len(reblog_test)):\n",
    "    actual_label = labels_test.iloc[i]\n",
    "    baseline_pred = baseline_preds[i]\n",
    "    final_pred = final_preds[i]\n",
    "    reblog_post_tag = len(reblog_test.iloc[i]['post_tags']) > 2\n",
    "    reblog_post_tag = len(nonreblog_test.iloc[i]['post_tags']) > 2\n",
    "    lines.append([actual_label, baseline_pred, final_pred, reblog_post_tag, nonreblog_post_tag])\n",
    "    \n",
    "preds_tags = "
   ]
  },
  {
   "cell_type": "code",
   "execution_count": 16,
   "metadata": {},
   "outputs": [
    {
     "data": {
      "text/plain": [
       "2"
      ]
     },
     "execution_count": 16,
     "metadata": {},
     "output_type": "execute_result"
    }
   ],
   "source": [
    "len(reblog_test.iloc[0]['post_tags'])"
   ]
  }
 ],
 "metadata": {
  "kernelspec": {
   "display_name": "Python 3",
   "language": "python",
   "name": "python3"
  },
  "language_info": {
   "codemirror_mode": {
    "name": "ipython",
    "version": 3
   },
   "file_extension": ".py",
   "mimetype": "text/x-python",
   "name": "python",
   "nbconvert_exporter": "python",
   "pygments_lexer": "ipython3",
   "version": "3.6.4"
  }
 },
 "nbformat": 4,
 "nbformat_minor": 2
}
