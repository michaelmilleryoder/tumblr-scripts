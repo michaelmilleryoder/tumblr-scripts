{
 "cells": [
  {
   "cell_type": "code",
   "execution_count": 1,
   "metadata": {},
   "outputs": [],
   "source": [
    "import pandas as pd\n",
    "import os\n",
    "\n",
    "data_dirpath = '/usr2/mamille2/tumblr/data/sample1k/'"
   ]
  },
  {
   "cell_type": "markdown",
   "metadata": {},
   "source": [
    "# Separate out performance on posts that have tags vs posts that don't have tags\n",
    "Compare performance of (FFN, baseline features) with (FFN, baseline+identity features) separately for posts that have tags vs ones that do not"
   ]
  },
  {
   "cell_type": "code",
   "execution_count": 2,
   "metadata": {},
   "outputs": [
    {
     "data": {
      "text/plain": [
       "(71267,)"
      ]
     },
     "execution_count": 2,
     "metadata": {},
     "output_type": "execute_result"
    }
   ],
   "source": [
    "import numpy as np\n",
    "\n",
    "# Load predictions from FFN, only baseline features on test set\n",
    "\n",
    "baseline_preds_fpath = os.path.join(data_dirpath, 'output', 'predictions', 'ffn_baseline_all_test_preds.txt')\n",
    "# baseline_preds_fpath = os.path.join(data_dirpath, 'output', 'predictions', 'ffn_baseline_all_train_preds.txt')\n",
    "baseline_preds = np.loadtxt(baseline_preds_fpath)\n",
    "baseline_preds.shape"
   ]
  },
  {
   "cell_type": "code",
   "execution_count": 3,
   "metadata": {},
   "outputs": [
    {
     "data": {
      "text/plain": [
       "(71267,)"
      ]
     },
     "execution_count": 3,
     "metadata": {},
     "output_type": "execute_result"
    }
   ],
   "source": [
    "# Load predictions from FFN, baseline+identity features on test set\n",
    "\n",
    "final_preds_fpath = os.path.join(data_dirpath, 'output', 'predictions', 'ffn_labels_baseline+exp1+exp2_all_test_preds.txt')\n",
    "# final_preds_fpath = os.path.join(data_dirpath, 'output', 'predictions', 'ffn_labels_baseline+exp1+exp2_all_train_preds.txt')\n",
    "final_preds = np.loadtxt(final_preds_fpath)\n",
    "final_preds.shape"
   ]
  },
  {
   "cell_type": "markdown",
   "metadata": {},
   "source": [
    "## Get whether or not post tags was empty for specific instances"
   ]
  },
  {
   "cell_type": "code",
   "execution_count": 5,
   "metadata": {
    "scrolled": true
   },
   "outputs": [
    {
     "name": "stdout",
     "output_type": "stream",
     "text": [
      "71267\n",
      "71267\n",
      "71267\n"
     ]
    },
    {
     "data": {
      "text/plain": [
       "Index(['post_id', 'tumblog_id_follower', 'tumblog_id_followee', 'post_tags',\n",
       "       'post_type', 'post_note_count', 'processed_blog_description_follower',\n",
       "       'processed_blog_description_followee', 'age_terms_follower',\n",
       "       'age_terms_followee', 'ethnicity/nationality_terms_follower',\n",
       "       'ethnicity/nationality_terms_followee', 'fandoms_terms_follower',\n",
       "       'fandoms_terms_followee', 'gender_terms_follower',\n",
       "       'gender_terms_followee', 'gender/sexuality_terms_follower',\n",
       "       'gender/sexuality_terms_followee', 'interests_terms_follower',\n",
       "       'interests_terms_followee', 'location_terms_follower',\n",
       "       'location_terms_followee', 'personality type_terms_follower',\n",
       "       'personality type_terms_followee', 'pronouns_terms_follower',\n",
       "       'pronouns_terms_followee', 'relationship status_terms_follower',\n",
       "       'relationship status_terms_followee', 'roleplay_terms_follower',\n",
       "       'roleplay_terms_followee', 'roleplay/fandoms_terms_follower',\n",
       "       'roleplay/fandoms_terms_followee', 'sexual orientation_terms_follower',\n",
       "       'sexual orientation_terms_followee', 'weight_terms_follower',\n",
       "       'weight_terms_followee', 'zodiac_terms_follower',\n",
       "       'zodiac_terms_followee'],\n",
       "      dtype='object')"
      ]
     },
     "execution_count": 5,
     "metadata": {},
     "output_type": "execute_result"
    }
   ],
   "source": [
    "from sklearn.model_selection import train_test_split\n",
    "\n",
    "# Load feature info\n",
    "reblog_fpath = os.path.join(data_dirpath, 'feature_tables', 'reblog_features.csv')\n",
    "reblog_features = pd.read_csv(reblog_fpath)\n",
    "reblog_train, reblog_test = train_test_split(reblog_features, test_size=0.1, random_state=12345)\n",
    "print(len(reblog_test))\n",
    "# print(len(reblog_train))\n",
    "\n",
    "nonreblog_fpath = os.path.join(data_dirpath, 'feature_tables', 'nonreblog_features.csv')\n",
    "nonreblog_features = pd.read_csv(nonreblog_fpath)\n",
    "nonreblog_train, nonreblog_test = train_test_split(nonreblog_features, test_size=0.1, random_state=12345)\n",
    "print(len(nonreblog_test))\n",
    "# print(len(nonreblog_train))\n",
    "\n",
    "# Load gold labels\n",
    "ranking_fpath = os.path.join(data_dirpath, 'feature_tables', 'ranking_labels.csv')\n",
    "ranking_labels = pd.read_csv(ranking_fpath).iloc[:len(reblog_features)]\n",
    "labels_train, labels_test = train_test_split(ranking_labels['ranking_label'], test_size=0.1, random_state=12345)\n",
    "print(len(labels_test))\n",
    "# print(len(labels_train))\n",
    "\n",
    "nonreblog_test.columns"
   ]
  },
  {
   "cell_type": "code",
   "execution_count": 17,
   "metadata": {},
   "outputs": [
    {
     "data": {
      "text/plain": [
       "pandas.core.series.Series"
      ]
     },
     "execution_count": 17,
     "metadata": {},
     "output_type": "execute_result"
    }
   ],
   "source": [
    "type(labels_test)"
   ]
  },
  {
   "cell_type": "code",
   "execution_count": 19,
   "metadata": {
    "scrolled": true
   },
   "outputs": [
    {
     "data": {
      "text/plain": [
       "1"
      ]
     },
     "execution_count": 19,
     "metadata": {},
     "output_type": "execute_result"
    }
   ],
   "source": [
    "labels_test.iloc[0]"
   ]
  },
  {
   "cell_type": "code",
   "execution_count": 6,
   "metadata": {},
   "outputs": [
    {
     "data": {
      "text/plain": [
       "str"
      ]
     },
     "execution_count": 6,
     "metadata": {},
     "output_type": "execute_result"
    }
   ],
   "source": [
    "type(reblog_test.iloc[0]['post_tags'])"
   ]
  },
  {
   "cell_type": "code",
   "execution_count": 16,
   "metadata": {},
   "outputs": [
    {
     "data": {
      "text/plain": [
       "2"
      ]
     },
     "execution_count": 16,
     "metadata": {},
     "output_type": "execute_result"
    }
   ],
   "source": [
    "len(reblog_test.iloc[0]['post_tags'])"
   ]
  },
  {
   "cell_type": "code",
   "execution_count": 6,
   "metadata": {},
   "outputs": [
    {
     "name": "stdout",
     "output_type": "stream",
     "text": [
      "71267\n",
      "Index(['actual_label', 'baseline_pred', 'final_pred', 'reblog_post_tag',\n",
      "       'nonreblog_post_tag', 'n_post_tags'],\n",
      "      dtype='object')\n"
     ]
    }
   ],
   "source": [
    "# Build merged dataset\n",
    "lines = []\n",
    "header = ['actual_label', 'baseline_pred', 'final_pred', 'reblog_post_tag', 'nonreblog_post_tag', 'n_post_tags']\n",
    "for i in range(len(reblog_test)):\n",
    "# for i in range(len(reblog_train)):\n",
    "    actual_label = labels_test.iloc[i]\n",
    "#     actual_label = labels_train.iloc[i]\n",
    "    baseline_pred = baseline_preds[i]\n",
    "    final_pred = final_preds[i]\n",
    "    reblog_post_tag = len(reblog_test.iloc[i]['post_tags']) > 2\n",
    "    nonreblog_post_tag = len(nonreblog_test.iloc[i]['post_tags']) > 2\n",
    "#     reblog_post_tag = len(reblog_train.iloc[i]['post_tags']) > 2\n",
    "#     nonreblog_post_tag = len(nonreblog_train.iloc[i]['post_tags']) > 2\n",
    "    n_post_tags = int(reblog_post_tag) + int(nonreblog_post_tag)\n",
    "    lines.append([actual_label, baseline_pred, final_pred, reblog_post_tag, nonreblog_post_tag, n_post_tags])\n",
    "    \n",
    "preds_tags = pd.DataFrame(lines, columns=header)\n",
    "print(len(preds_tags))\n",
    "print(preds_tags.columns)"
   ]
  },
  {
   "cell_type": "code",
   "execution_count": 7,
   "metadata": {},
   "outputs": [
    {
     "name": "stdout",
     "output_type": "stream",
     "text": [
      "0: 43574 (61.1%)\n",
      "1: 22725 (31.9%)\n",
      "2: 4968 (7.0%)\n"
     ]
    }
   ],
   "source": [
    "# Split into 3 groups: no post tags, one post tags, both post tags\n",
    "\n",
    "tag_splits = {}\n",
    "\n",
    "for n_tags in range(3):\n",
    "    \n",
    "    tag_splits[n_tags] = preds_tags[preds_tags['n_post_tags']==n_tags]\n",
    "    print(f\"{n_tags}: {len(tag_splits[n_tags])} ({len(tag_splits[n_tags])/len(preds_tags):.1%})\")"
   ]
  },
  {
   "cell_type": "code",
   "execution_count": 8,
   "metadata": {},
   "outputs": [
    {
     "name": "stdout",
     "output_type": "stream",
     "text": [
      "Baseline\n",
      "0: 0.6968605131500436\n",
      "1: 0.8433443344334434\n",
      "2: 0.8180354267310789\n",
      "\n",
      "Final\n",
      "0: 0.7453527332813146\n",
      "1: 0.8705830583058306\n",
      "2: 0.8482286634460547\n"
     ]
    }
   ],
   "source": [
    "# Accuracy for each group\n",
    "\n",
    "accuracies = {}\n",
    "\n",
    "# Baseline\n",
    "print(\"Baseline\")\n",
    "accuracies['baseline'] = {}\n",
    "for n_tags in range(3):\n",
    "    accuracies['baseline'][n_tags] = sum(tag_splits[n_tags]['actual_label'] == tag_splits[n_tags]['baseline_pred'])/len(tag_splits[n_tags])\n",
    "    print(f\"{n_tags}: {accuracies['baseline'][n_tags]}\")\n",
    "    \n",
    "# Final\n",
    "print(\"\\nFinal\")\n",
    "accuracies['final'] = {}\n",
    "for n_tags in range(3):\n",
    "    accuracies['final'][n_tags] = sum(tag_splits[n_tags]['actual_label'] == tag_splits[n_tags]['final_pred'])/len(tag_splits[n_tags])\n",
    "    print(f\"{n_tags}: {accuracies['final'][n_tags]}\")"
   ]
  },
  {
   "cell_type": "code",
   "execution_count": 9,
   "metadata": {},
   "outputs": [
    {
     "name": "stderr",
     "output_type": "stream",
     "text": [
      "/usr0/home/mamille2/anaconda3/lib/python3.6/site-packages/matplotlib/cbook/deprecation.py:107: MatplotlibDeprecationWarning: Adding an axes using the same arguments as a previous axes currently reuses the earlier instance.  In a future version, a new instance will always be created and returned.  Meanwhile, this warning can be suppressed, and the future behavior ensured, by passing a unique label to each axes instance.\n",
      "  warnings.warn(message, mplDeprecation, stacklevel=1)\n"
     ]
    },
    {
     "data": {
      "image/png": "[encoded data removed]",
      "text/plain": [
       "<Figure size 432x288 with 1 Axes>"
      ]
     },
     "metadata": {},
     "output_type": "display_data"
    }
   ],
   "source": [
    "%matplotlib inline\n",
    "\n",
    "import matplotlib.pyplot as plt\n",
    "import numpy as np\n",
    "\n",
    "# Graph\n",
    "plt.title(\"Baseline versus final model accuracy across tag levels\")\n",
    "\n",
    "x = np.array(range(len(accuracies['baseline'])))\n",
    "# labels = list(accuracies['baseline'].keys())\n",
    "labels = ['neither has tags (61%)', 'one has tags (32%)', 'both have tags (7%)']\n",
    "ax = plt.subplot(111)\n",
    "ax.bar(x, accuracies['baseline'].values(), width=0.2, color='b', align='center')\n",
    "ax.bar(x+0.2, accuracies['final'].values(), width=0.2, color='r', align='center')\n",
    "ax.legend(['baseline', 'final'])\n",
    "\n",
    "plt.xticks(x, labels)\n",
    "plt.show()"
   ]
  }
 ],
 "metadata": {
  "kernelspec": {
   "display_name": "Python 3",
   "language": "python",
   "name": "python3"
  },
  "language_info": {
   "codemirror_mode": {
    "name": "ipython",
    "version": 3
   },
   "file_extension": ".py",
   "mimetype": "text/x-python",
   "name": "python",
   "nbconvert_exporter": "python",
   "pygments_lexer": "ipython3",
   "version": "3.6.8"
  }
 },
 "nbformat": 4,
 "nbformat_minor": 2
}
