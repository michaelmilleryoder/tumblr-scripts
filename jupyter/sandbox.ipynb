{
 "cells": [
  {
   "cell_type": "code",
   "execution_count": 19,
   "metadata": {},
   "outputs": [],
   "source": [
    "import numpy as np\n",
    "from IPython.core.debugger import set_trace"
   ]
  },
  {
   "cell_type": "code",
   "execution_count": 14,
   "metadata": {},
   "outputs": [
    {
     "data": {
      "text/plain": [
       "{3}"
      ]
     },
     "execution_count": 14,
     "metadata": {},
     "output_type": "execute_result"
    }
   ],
   "source": [
    "set(np.flatnonzero(np.asarray([0,0,0,1])))"
   ]
  },
  {
   "cell_type": "code",
   "execution_count": 24,
   "metadata": {},
   "outputs": [],
   "source": [
    "def set_metrics(preds, actual):\n",
    "    \"\"\" Returns set measures of precision, recall and f1 \"\"\"\n",
    "    \n",
    "    precisions = []\n",
    "    recalls = []\n",
    "    \n",
    "    for pred, act in zip(preds, actual):\n",
    "        pred_labels = set(np.flatnonzero(pred)) # binary encoding to indices\n",
    "        actual_labels = set(np.flatnonzero(act))\n",
    "        correct = pred_labels.intersection(actual_labels)\n",
    "        prec = len(correct)/len(pred_labels)\n",
    "        precisions.append(prec)\n",
    "        rec = len(correct)/len(actual_labels)\n",
    "        recalls.append(rec)\n",
    "        \n",
    "    total_prec = np.mean(precisions)\n",
    "    total_rec = np.mean(recalls)\n",
    "    total_f1 = 2 * total_prec * total_rec / (total_prec + total_rec)\n",
    "    \n",
    "    return (total_prec, total_rec, total_f1)"
   ]
  },
  {
   "cell_type": "code",
   "execution_count": 21,
   "metadata": {},
   "outputs": [],
   "source": [
    "preds = np.asarray([\n",
    "    [0,0,0,1],\n",
    "    [0,0,1,1],\n",
    "    [0,1,1,0]\n",
    "])\n",
    "\n",
    "actual = np.asarray([\n",
    "    [0,0,1,1],\n",
    "    [0,0,0,1],\n",
    "    [0,1,1,0]\n",
    "])"
   ]
  },
  {
   "cell_type": "code",
   "execution_count": 25,
   "metadata": {},
   "outputs": [
    {
     "data": {
      "text/plain": [
       "(0.83333333333333337, 0.83333333333333337, 0.83333333333333337)"
      ]
     },
     "execution_count": 25,
     "metadata": {},
     "output_type": "execute_result"
    }
   ],
   "source": [
    "set_metrics(preds, actual)"
   ]
  }
 ],
 "metadata": {
  "kernelspec": {
   "display_name": "Python 3",
   "language": "python",
   "name": "python3"
  },
  "language_info": {
   "codemirror_mode": {
    "name": "ipython",
    "version": 3
   },
   "file_extension": ".py",
   "mimetype": "text/x-python",
   "name": "python",
   "nbconvert_exporter": "python",
   "pygments_lexer": "ipython3",
   "version": "3.6.4"
  }
 },
 "nbformat": 4,
 "nbformat_minor": 2
}
