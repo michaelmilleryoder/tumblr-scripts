{
 "cells": [
  {
   "cell_type": "code",
   "execution_count": 1,
   "metadata": {
    "collapsed": true
   },
   "outputs": [],
   "source": [
    "import pytumblr"
   ]
  },
  {
   "cell_type": "code",
   "execution_count": 2,
   "metadata": {
    "collapsed": false,
    "scrolled": true
   },
   "outputs": [
    {
     "data": {
      "text/plain": [
       "{'user': {'blogs': [{'admin': True,\n",
       "    'ask': False,\n",
       "    'ask_anon': False,\n",
       "    'ask_page_title': 'Ask me anything',\n",
       "    'can_send_fan_mail': True,\n",
       "    'can_subscribe': False,\n",
       "    'description': '',\n",
       "    'drafts': 0,\n",
       "    'facebook': 'N',\n",
       "    'facebook_opengraph_enabled': 'N',\n",
       "    'followed': False,\n",
       "    'followers': 0,\n",
       "    'is_adult': False,\n",
       "    'is_blocked_from_primary': False,\n",
       "    'is_nsfw': False,\n",
       "    'likes': 0,\n",
       "    'messages': 0,\n",
       "    'name': 'michaelmilleryoder',\n",
       "    'posts': 0,\n",
       "    'primary': True,\n",
       "    'queue': 0,\n",
       "    'reply_conditions': '3',\n",
       "    'share_likes': True,\n",
       "    'subscribed': False,\n",
       "    'title': 'Untitled',\n",
       "    'total_posts': 0,\n",
       "    'tweet': 'N',\n",
       "    'twitter_enabled': False,\n",
       "    'twitter_send': False,\n",
       "    'type': 'public',\n",
       "    'updated': 0,\n",
       "    'url': 'http://michaelmilleryoder.tumblr.com/'},\n",
       "   {'admin': True,\n",
       "    'ask': False,\n",
       "    'ask_anon': False,\n",
       "    'ask_page_title': 'Ask me anything',\n",
       "    'can_send_fan_mail': False,\n",
       "    'can_subscribe': True,\n",
       "    'description': '',\n",
       "    'drafts': 0,\n",
       "    'facebook': 'N',\n",
       "    'facebook_opengraph_enabled': 'N',\n",
       "    'followed': False,\n",
       "    'followers': 9,\n",
       "    'is_adult': False,\n",
       "    'is_blocked_from_primary': False,\n",
       "    'is_nsfw': False,\n",
       "    'messages': 0,\n",
       "    'name': 'goshen2palestine',\n",
       "    'posts': 28,\n",
       "    'primary': False,\n",
       "    'queue': 0,\n",
       "    'reply_conditions': '3',\n",
       "    'share_likes': False,\n",
       "    'subscribed': False,\n",
       "    'title': 'Goshen to Palestine, summer 2011',\n",
       "    'total_posts': 28,\n",
       "    'tweet': 'N',\n",
       "    'twitter_enabled': False,\n",
       "    'twitter_send': False,\n",
       "    'type': 'public',\n",
       "    'updated': 1313445177,\n",
       "    'url': 'http://goshen2palestine.tumblr.com/'}],\n",
       "  'default_post_format': 'html',\n",
       "  'following': 11,\n",
       "  'likes': 0,\n",
       "  'name': 'michaelmilleryoder'}}"
      ]
     },
     "execution_count": 2,
     "metadata": {},
     "output_type": "execute_result"
    }
   ],
   "source": [
    "# OAuth\n",
    "\n",
    "with open('../../oauth.txt') as f:\n",
    "    lines = f.read().splitlines()\n",
    "    \n",
    "client = pytumblr.TumblrRestClient(lines[0], lines[1], lines[2], lines[3])\n",
    "client.info()"
   ]
  },
  {
   "cell_type": "markdown",
   "metadata": {},
   "source": [
    "# Querying blog descriptions"
   ]
  },
  {
   "cell_type": "code",
   "execution_count": 14,
   "metadata": {
    "collapsed": false
   },
   "outputs": [
    {
     "data": {
      "text/plain": [
       "{'kiramii': 'COMMISSIONS: OPEN (ask for more info)\\n\\nHello! My name is Kaytlin! I am a big pc gamer, and an animal artist. I am disabled and cannot walk or stand. if you have any questions about how to contact me, just send an ask!',\n",
       " 'other-otherkin': 'REQUESTS CLOSED, ASK IS OPEN FOR HELP. This is a blog dedicated to helping otherkins/therians find the things they want! Current ask count: 182',\n",
       " 'otherkinfashionunder20': 'do you want cute kin stuff but don\\'t have a large enough budget?<p>\\nhere\\'s a catalogue of kin-related products that are under $20! <p>all kintypes are welcome here!<p>feel free to send requests through \\'ask\\' and submit cute finds!\\n<p>\\n<b>ask box temporarily closed</b><br><a href=\"http://otherkinfashionunder20.tumblr.com/tags2\">tags</a> || <a href=\"http://otherkinfashionunder20.tumblr.com/ask\">ask</a>'}"
      ]
     },
     "execution_count": 14,
     "metadata": {},
     "output_type": "execute_result"
    }
   ],
   "source": [
    "desc = {}\n",
    "\n",
    "for name in ['otherkinfashionunder20', 'other-otherkin', 'kiramii']:\n",
    "    info = client.blog_info(name)\n",
    "    desc[name] = info['blog']['description']\n",
    "    \n",
    "desc"
   ]
  },
  {
   "cell_type": "markdown",
   "metadata": {},
   "source": [
    "# Querying tags (terf)"
   ]
  },
  {
   "cell_type": "code",
   "execution_count": 4,
   "metadata": {
    "collapsed": false
   },
   "outputs": [],
   "source": [
    "posts = client.tagged('terf', filter='text')"
   ]
  },
  {
   "cell_type": "code",
   "execution_count": 6,
   "metadata": {
    "collapsed": false
   },
   "outputs": [
    {
     "ename": "KeyError",
     "evalue": "'body'",
     "output_type": "error",
     "traceback": [
      "\u001b[0;31m---------------------------------------------------------------------------\u001b[0m",
      "\u001b[0;31mKeyError\u001b[0m                                  Traceback (most recent call last)",
      "\u001b[0;32m<ipython-input-6-dca404f09ee6>\u001b[0m in \u001b[0;36m<module>\u001b[0;34m()\u001b[0m\n\u001b[0;32m----> 1\u001b[0;31m \u001b[0;34m[\u001b[0m\u001b[0mposts\u001b[0m\u001b[0;34m[\u001b[0m\u001b[0mi\u001b[0m\u001b[0;34m]\u001b[0m\u001b[0;34m[\u001b[0m\u001b[0;34m'body'\u001b[0m\u001b[0;34m]\u001b[0m \u001b[0;32mfor\u001b[0m \u001b[0mi\u001b[0m \u001b[0;32min\u001b[0m \u001b[0mrange\u001b[0m\u001b[0;34m(\u001b[0m\u001b[0;36m20\u001b[0m\u001b[0;34m)\u001b[0m\u001b[0;34m]\u001b[0m\u001b[0;34m\u001b[0m\u001b[0m\n\u001b[0m",
      "\u001b[0;32m<ipython-input-6-dca404f09ee6>\u001b[0m in \u001b[0;36m<listcomp>\u001b[0;34m(.0)\u001b[0m\n\u001b[0;32m----> 1\u001b[0;31m \u001b[0;34m[\u001b[0m\u001b[0mposts\u001b[0m\u001b[0;34m[\u001b[0m\u001b[0mi\u001b[0m\u001b[0;34m]\u001b[0m\u001b[0;34m[\u001b[0m\u001b[0;34m'body'\u001b[0m\u001b[0;34m]\u001b[0m \u001b[0;32mfor\u001b[0m \u001b[0mi\u001b[0m \u001b[0;32min\u001b[0m \u001b[0mrange\u001b[0m\u001b[0;34m(\u001b[0m\u001b[0;36m20\u001b[0m\u001b[0;34m)\u001b[0m\u001b[0;34m]\u001b[0m\u001b[0;34m\u001b[0m\u001b[0m\n\u001b[0m",
      "\u001b[0;31mKeyError\u001b[0m: 'body'"
     ]
    }
   ],
   "source": [
    "[posts[i]['body'] for i in range(20)]"
   ]
  }
 ],
 "metadata": {
  "kernelspec": {
   "display_name": "Python 3",
   "language": "python",
   "name": "python3"
  },
  "language_info": {
   "codemirror_mode": {
    "name": "ipython",
    "version": 3
   },
   "file_extension": ".py",
   "mimetype": "text/x-python",
   "name": "python",
   "nbconvert_exporter": "python",
   "pygments_lexer": "ipython3",
   "version": "3.6.0"
  }
 },
 "nbformat": 4,
 "nbformat_minor": 2
}
