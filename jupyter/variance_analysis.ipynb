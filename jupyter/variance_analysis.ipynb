{
 "cells": [
  {
   "cell_type": "markdown",
   "metadata": {},
   "source": [
    "# Read in tables"
   ]
  },
  {
   "cell_type": "code",
   "execution_count": 1,
   "metadata": {},
   "outputs": [],
   "source": [
    "import csv\n",
    "import os\n",
    "\n",
    "feature_tables_dir = 'feature_tables/sample1000/'\n",
    "filenames = ['reblog_features.csv', 'nonreblog_features.csv', 'ranking_labels.csv']\n",
    "joined_filenames = [os.path.join(feature_tables_dir, filename) for filename in filenames]\n",
    "csv_readers = [csv.DictReader(open(filename, 'r')) for filename in joined_filenames]"
   ]
  },
  {
   "cell_type": "code",
   "execution_count": 2,
   "metadata": {},
   "outputs": [
    {
     "name": "stdout",
     "output_type": "stream",
     "text": [
      "712670 712670\n"
     ]
    }
   ],
   "source": [
    "instances = []\n",
    "instance_labels = []\n",
    "for row in zip(*csv_readers):\n",
    "    reblog_features = row[0]\n",
    "    nonreblog_features = row[1]\n",
    "    label = int(row[2]['ranking_label'])\n",
    "    instance = (reblog_features, nonreblog_features)\n",
    "    instances.append(instance)\n",
    "    instance_labels.append(label)\n",
    "    \n",
    "print(len(instances), len(instance_labels))"
   ]
  },
  {
   "cell_type": "markdown",
   "metadata": {},
   "source": [
    "# Feature Extraction"
   ]
  },
  {
   "cell_type": "markdown",
   "metadata": {},
   "source": [
    "### Create tag vocabulary"
   ]
  },
  {
   "cell_type": "code",
   "execution_count": 3,
   "metadata": {},
   "outputs": [
    {
     "name": "stdout",
     "output_type": "stream",
     "text": [
      "14318\n"
     ]
    }
   ],
   "source": [
    "from collections import defaultdict\n",
    "\n",
    "def update_tag_counts(tag_counts, counted_ids, candidate):\n",
    "    candidate_tags = [tag.lower() for tag in eval(candidate['post_tags'])]\n",
    "    followee_id = candidate['tumblog_id_followee']    \n",
    "    for tag in candidate_tags:\n",
    "        if not followee_id in counted_ids[tag]:\n",
    "            tag_counts[tag] += 1\n",
    "            counted_ids[tag].add(followee_id)\n",
    "        \n",
    "counted_ids = defaultdict(lambda: set())\n",
    "tag_counts = defaultdict(int)\n",
    "for reblog_candidate, nonreblog_candidate in instances:\n",
    "    update_tag_counts(tag_counts, counted_ids, reblog_candidate)\n",
    "    update_tag_counts(tag_counts, counted_ids, nonreblog_candidate)\n",
    "\n",
    "tag_counts_filtered = {k:v for k,v in tag_counts.items() if v > 1}\n",
    "tag_vocab = tag_counts_filtered.keys()\n",
    "print(len(tag_vocab))"
   ]
  },
  {
   "cell_type": "code",
   "execution_count": 4,
   "metadata": {},
   "outputs": [],
   "source": [
    "identity_categories = ['age', 'ethnicity/nationality', 'fandoms', 'gender',\n",
    "                       'interests', 'location', 'personality type', 'pronouns', 'relationship status', 'roleplay',\n",
    "                       'sexual orientation', 'weight', 'zodiac']"
   ]
  },
  {
   "cell_type": "markdown",
   "metadata": {},
   "source": [
    "### Count category label instances"
   ]
  },
  {
   "cell_type": "code",
   "execution_count": 5,
   "metadata": {},
   "outputs": [],
   "source": [
    "category_label_counts = defaultdict(lambda: defaultdict(int))\n",
    "counted_ids = set()\n",
    "for category in identity_categories:\n",
    "    counted_ids = set()\n",
    "    for reblog_candidate, nonreblog_candidate in instances:\n",
    "        category_followee = category + '_terms_followee'\n",
    "        followee_id = reblog_candidate['tumblog_id_followee']\n",
    "        if not followee_id in counted_ids:\n",
    "            category_value = [x.lower() for x in eval(reblog_candidate[category_followee])]\n",
    "            for value in category_value:\n",
    "                category_label_counts[category][value] += 1\n",
    "            counted_ids.add(followee_id)\n",
    "            \n",
    "        followee_id = nonreblog_candidate['tumblog_id_followee']\n",
    "        if not followee_id in counted_ids:\n",
    "            category_value = [x.lower() for x in eval(nonreblog_candidate[category_followee])]\n",
    "            for value in category_value:\n",
    "                category_label_counts[category][value] += 1\n",
    "            counted_ids.add(followee_id)\n",
    "        \n",
    "        category_follower = category + '_terms_follower'\n",
    "        follower_id = reblog_candidate['tumblog_id_follower']\n",
    "        if not follower_id in counted_ids:\n",
    "            category_value = [x.lower() for x in eval(reblog_candidate[category_follower])]\n",
    "            for value in category_value:\n",
    "                category_label_counts[category][value] += 1\n",
    "            counted_ids.add(follower_id)\n"
   ]
  },
  {
   "cell_type": "markdown",
   "metadata": {},
   "source": [
    "### Create category label vocabulary"
   ]
  },
  {
   "cell_type": "code",
   "execution_count": 6,
   "metadata": {},
   "outputs": [
    {
     "name": "stdout",
     "output_type": "stream",
     "text": [
      "age 65\n",
      "ethnicity/nationality 81\n",
      "fandoms 54\n",
      "gender 33\n",
      "interests 71\n",
      "location 146\n",
      "personality type 29\n",
      "pronouns 56\n",
      "relationship status 9\n",
      "roleplay 7\n",
      "sexual orientation 18\n",
      "weight 21\n",
      "zodiac 7\n"
     ]
    }
   ],
   "source": [
    "category_vocabs = defaultdict(lambda: set())\n",
    "for identity_category in category_label_counts:\n",
    "    category_labels_filtered_vocab = set([k for k,v in category_label_counts[identity_category].items() if v > 1])\n",
    "    category_vocabs[identity_category] = category_labels_filtered_vocab\n",
    "    print(identity_category, len(category_vocabs[identity_category]))\n",
    "    \"\"\"\n",
    "    sorted_category_labels = sorted(category_label_filtered[category].items(), key=lambda x: x[1], reverse=True)    \n",
    "    print(category)\n",
    "    print('-----------------')\n",
    "    for i in range(1, 21):\n",
    "        if i == len(sorted_category_labels):\n",
    "            break\n",
    "        print(sorted_category_labels[i][0], sorted_category_labels[i][1])\n",
    "    print('-----------------')\n",
    "    \"\"\""
   ]
  },
  {
   "cell_type": "markdown",
   "metadata": {},
   "source": [
    "# Variance Analyses"
   ]
  },
  {
   "cell_type": "code",
   "execution_count": 7,
   "metadata": {},
   "outputs": [],
   "source": [
    "import numpy as np"
   ]
  },
  {
   "cell_type": "code",
   "execution_count": 8,
   "metadata": {},
   "outputs": [],
   "source": [
    "def variance_analysis(candidate, follower_category_variance):\n",
    "    follower_id = reblog_candidate['tumblog_id_follower']\n",
    "    for identity_category in identity_categories:\n",
    "        identity_category_followee = eval(reblog_candidate[identity_category + '_terms_followee'])\n",
    "        followee_presence = len(identity_category_followee) > 0\n",
    "\n",
    "        if followee_presence:\n",
    "            follower_category_variance[identity_category][follower_id].append(1)\n",
    "        else:\n",
    "            follower_category_variance[identity_category][follower_id].append(0)\n",
    "    "
   ]
  },
  {
   "cell_type": "code",
   "execution_count": 9,
   "metadata": {},
   "outputs": [],
   "source": [
    "follower_category_variance = defaultdict(lambda: defaultdict(lambda: []))\n",
    "follower_followee_counted = defaultdict(lambda: set())\n",
    "for reblog_candidate, nonreblog_candidate in instances:\n",
    "    follower_id = reblog_candidate['tumblog_id_follower']\n",
    "\n",
    "    followee_id_1 = reblog_candidate['tumblog_id_followee']\n",
    "    if not followee_id_1 in follower_followee_counted[follower_id]:\n",
    "        variance_analysis(reblog_candidate, follower_category_variance)\n",
    "        follower_followee_counted[follower_id].add(followee_id_1)\n",
    "    \n",
    "    followee_id_2 = nonreblog_candidate['tumblog_id_followee']        \n",
    "    if not followee_id_2 in follower_followee_counted[follower_id]:\n",
    "        variance_analysis(nonreblog_candidate, follower_category_variance)\n",
    "        follower_followee_counted[follower_id].add(followee_id_2)"
   ]
  },
  {
   "cell_type": "code",
   "execution_count": 35,
   "metadata": {},
   "outputs": [],
   "source": [
    "category_variance = defaultdict(lambda: [])\n",
    "category_user_remove = defaultdict(lambda: set())\n",
    "for identity_category in follower_category_variance:\n",
    "    for follower_id in follower_category_variance[identity_category]:\n",
    "        var = np.var(follower_category_variance[identity_category][follower_id])\n",
    "        if var == 0:\n",
    "            category_user_remove[identity_category].add(follower_id)\n",
    "        category_variance[identity_category].append(var)"
   ]
  },
  {
   "cell_type": "code",
   "execution_count": 27,
   "metadata": {},
   "outputs": [
    {
     "data": {
      "image/png": "[encoded data removed]",
      "text/plain": [
       "<Figure size 432x288 with 4 Axes>"
      ]
     },
     "metadata": {
      "needs_background": "light"
     },
     "output_type": "display_data"
    },
    {
     "data": {
      "image/png": "[encoded data removed]",
      "text/plain": [
       "<Figure size 432x288 with 4 Axes>"
      ]
     },
     "metadata": {
      "needs_background": "light"
     },
     "output_type": "display_data"
    },
    {
     "data": {
      "image/png": "[encoded data removed]",
      "text/plain": [
       "<Figure size 432x288 with 4 Axes>"
      ]
     },
     "metadata": {
      "needs_background": "light"
     },
     "output_type": "display_data"
    },
    {
     "data": {
      "image/png": "[encoded data removed]",
      "text/plain": [
       "<Figure size 432x288 with 1 Axes>"
      ]
     },
     "metadata": {
      "needs_background": "light"
     },
     "output_type": "display_data"
    }
   ],
   "source": [
    "import matplotlib.pyplot as plt\n",
    "identity_histograms = dict()\n",
    "for i, identity_category in enumerate(category_variance):\n",
    "    if i % 4 == 0:\n",
    "        fig = plt.figure()\n",
    "    plt.subplot(2, 2, i % 4 + 1)\n",
    "    plt.subplots_adjust(hspace = .5)\n",
    "    plt.hist(category_variance[identity_category], bins=20)\n",
    "    plt.title(identity_category + \" variance\")\n",
    "    if i % 4 == 3:\n",
    "        plt.show()\n",
    "        fig.savefig('variance_' + (str(int(i/4) + 1)) + '.png')"
   ]
  },
  {
   "cell_type": "code",
   "execution_count": 33,
   "metadata": {},
   "outputs": [
    {
     "name": "stdout",
     "output_type": "stream",
     "text": [
      "age, 67.84702549575071\n",
      "ethnicity/nationality, 41.78470254957507\n",
      "fandoms, 35.69405099150141\n",
      "gender, 54.107648725212464\n",
      "interests, 65.01416430594901\n",
      "location, 59.773371104815865\n",
      "personality type, 22.096317280453256\n",
      "pronouns, 48.44192634560906\n",
      "relationship status, 31.586402266288953\n",
      "roleplay, 7.932011331444759\n",
      "sexual orientation, 41.5014164305949\n",
      "weight, 12.464589235127479\n",
      "zodiac, 21.671388101983002\n"
     ]
    }
   ],
   "source": [
    "for identity_category in category_variance:\n",
    "    category_total = 0\n",
    "    category_nonzero = 0\n",
    "    for var in category_variance[identity_category]:\n",
    "        if var != 0:\n",
    "            category_nonzero += 1\n",
    "        category_total += 1\n",
    "    print(identity_category + ', ' + str(category_nonzero/category_total * 100))\n",
    "            "
   ]
  },
  {
   "cell_type": "code",
   "execution_count": 42,
   "metadata": {},
   "outputs": [],
   "source": [
    "instance_counts_category = defaultdict(int)\n",
    "follower_instance_counts = defaultdict(int)\n",
    "for reblog_candidate, nonreblog_candidate in instances:\n",
    "    follower_id = reblog_candidate['tumblog_id_follower']\n",
    "    follower_instance_counts[follower_id] += 1\n",
    "    for identity_category in category_user_remove:\n",
    "        if not follower_id in category_user_remove[identity_category]:\n",
    "            instance_counts_category[identity_category] += 1"
   ]
  },
  {
   "cell_type": "code",
   "execution_count": 41,
   "metadata": {},
   "outputs": [
    {
     "name": "stdout",
     "output_type": "stream",
     "text": [
      "age, 706762\n",
      "ethnicity/nationality, 655043\n",
      "fandoms, 588391\n",
      "gender, 677943\n",
      "interests, 701201\n",
      "location, 693419\n",
      "personality type, 454376\n",
      "pronouns, 671308\n",
      "relationship status, 599991\n",
      "roleplay, 229298\n",
      "sexual orientation, 638863\n",
      "weight, 348450\n",
      "zodiac, 481834\n"
     ]
    }
   ],
   "source": [
    "for identity_category in instance_counts_category:\n",
    "    print(identity_category + ', ' + str(instance_counts_category[identity_category]))"
   ]
  },
  {
   "cell_type": "code",
   "execution_count": 46,
   "metadata": {},
   "outputs": [
    {
     "name": "stdout",
     "output_type": "stream",
     "text": [
      "[44012, 33434, 29234, 28029, 25492, 17114, 16690, 16460, 16195, 14055, 12148, 12130, 11909, 10111, 10005, 9635, 8274, 8200, 7704, 7674, 7175, 6905, 6337, 6301, 5906, 5815, 5300, 5279, 5171, 5135, 5108, 4945, 4866, 4864, 4788, 4721, 4550, 4465, 4385, 4346, 4314, 4099, 4040, 4009, 3990, 3830, 3625, 3542, 3461, 3358, 3196, 3153, 3121, 3116, 2988, 2968, 2849, 2830, 2757, 2695, 2665, 2581, 2567, 2528, 2490, 2480, 2470, 2465, 2464, 2395, 2247, 2185, 2143, 2107, 2099, 2085, 2083, 2056, 2045, 2019, 2010, 1993, 1985, 1975, 1961, 1926, 1900, 1876, 1855, 1795, 1760, 1750, 1715, 1692, 1681, 1655, 1650, 1650, 1635, 1631, 1609, 1577, 1554, 1545, 1530, 1525, 1472, 1459, 1414, 1411, 1397, 1373, 1371, 1367, 1346, 1266, 1244, 1234, 1190, 1187, 1159, 1144, 1140, 1116, 1096, 1026, 1023, 957, 955, 945, 945, 916, 900, 900, 824, 812, 792, 789, 783, 777, 772, 753, 748, 734, 729, 725, 685, 680, 670, 654, 652, 647, 629, 595, 593, 588, 571, 571, 558, 557, 550, 549, 547, 534, 525, 521, 521, 520, 519, 511, 510, 510, 508, 500, 500, 497, 485, 483, 482, 481, 469, 466, 465, 460, 448, 446, 445, 444, 435, 435, 435, 433, 429, 425, 420, 408, 392, 392, 388, 387, 384, 382, 382, 378, 376, 375, 369, 365, 363, 363, 361, 360, 353, 350, 348, 340, 328, 325, 314, 309, 305, 305, 304, 300, 297, 297, 294, 290, 287, 286, 285, 285, 278, 275, 274, 274, 270, 265, 256, 253, 253, 253, 250, 245, 245, 245, 242, 242, 241, 235, 235, 232, 232, 230, 228, 228, 226, 224, 223, 220, 220, 215, 210, 209, 200, 199, 194, 193, 193, 190, 188, 185, 184, 183, 179, 178, 178, 176, 175, 172, 170, 170, 170, 170, 170, 164, 162, 160, 160, 158, 155, 155, 154, 151, 150, 150, 145, 145, 143, 142, 139, 137, 137, 135, 130, 128, 127, 125, 124, 120, 120, 120, 117, 116, 116, 116, 116, 115, 114, 114, 112, 111, 109, 109, 109, 108, 107, 105, 102, 100, 100, 97, 97, 96, 96, 95, 95, 94, 93, 93, 93, 91, 90, 90, 90, 89, 88, 87, 85, 81, 80, 79, 79, 79, 79, 78, 77, 76, 76, 75, 75, 74, 73, 73, 72, 71, 71, 71, 70, 70, 69, 67, 67, 65, 65, 65, 65, 64, 64, 64, 61, 61, 60, 60, 60, 60, 59, 56, 55, 55, 55, 55, 55, 55, 55, 54, 53, 52, 51, 51, 51, 50, 50, 50, 50, 50, 50, 50, 50, 49, 48, 48, 47, 46, 45, 45, 45, 45, 45, 45, 44, 44, 44, 43, 43, 43, 42, 42, 42, 42, 42, 41, 41, 40, 40, 40, 40, 39, 39, 38, 38, 37, 36, 36, 36, 35, 35, 35, 35, 35, 35, 35, 35, 35, 35, 34, 34, 33, 33, 33, 32, 32, 31, 31, 31, 31, 30, 30, 30, 30, 30, 30, 29, 29, 29, 29, 28, 28, 28, 28, 28, 28, 27, 27, 26, 26, 26, 25, 25, 25, 25, 25, 25, 25, 25, 24, 24, 24, 24, 23, 23, 23, 23, 22, 22, 22, 22, 22, 22, 21, 21, 20, 20, 20, 20, 20, 20, 20, 20, 20, 20, 20, 20, 19, 19, 19, 19, 18, 18, 17, 16, 16, 16, 16, 15, 15, 15, 15, 15, 15, 15, 15, 15, 15, 14, 14, 14, 14, 14, 13, 13, 13, 13, 13, 13, 13, 12, 12, 12, 12, 12, 12, 11, 10, 10, 10, 10, 10, 10, 10, 10, 10, 10, 10, 10, 10, 10, 10, 10, 10, 10, 10, 10, 9, 9, 9, 9, 9, 9, 9, 8, 8, 8, 8, 8, 8, 8, 7, 7, 7, 7, 7, 7, 7, 6, 6, 6, 6, 6, 6, 6, 6, 6, 6, 6, 6, 5, 5, 5, 5, 5, 5, 5, 5, 5, 5, 5, 5, 5, 5, 5, 5, 5, 5, 5, 5, 5, 5, 5, 5, 5, 5, 5, 5, 5, 5, 5, 5, 4, 4, 4, 4, 4, 4, 4, 4, 3, 3, 3, 3, 3, 3, 3, 3, 3, 3, 3, 2, 2, 2, 2, 2, 2, 2, 2, 2, 2, 2, 2, 2, 2, 2, 2, 2, 2, 2, 1, 1, 1, 1, 1, 1, 1, 1, 1, 1, 1, 1, 1, 1, 1, 1, 1, 1, 1, 1]\n"
     ]
    }
   ],
   "source": [
    "print(sorted(follower_instance_counts.values(), reverse=True))"
   ]
  },
  {
   "cell_type": "code",
   "execution_count": null,
   "metadata": {},
   "outputs": [],
   "source": []
  }
 ],
 "metadata": {
  "kernelspec": {
   "display_name": "Python 3",
   "language": "python",
   "name": "python3"
  },
  "language_info": {
   "codemirror_mode": {
    "name": "ipython",
    "version": 3
   },
   "file_extension": ".py",
   "mimetype": "text/x-python",
   "name": "python",
   "nbconvert_exporter": "python",
   "pygments_lexer": "ipython3",
   "version": "3.6.4"
  }
 },
 "nbformat": 4,
 "nbformat_minor": 2
}
