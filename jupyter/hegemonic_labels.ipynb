{
 "cells": [
  {
   "cell_type": "code",
   "execution_count": 1,
   "metadata": {},
   "outputs": [],
   "source": [
    "import pandas as pd\n",
    "import os\n",
    "import re\n",
    "from tqdm import tqdm_notebook as tqdm\n",
    "import numpy as np\n",
    "\n",
    "data_dirpath = '/usr2/mamille2/tumblr/data/'"
   ]
  },
  {
   "cell_type": "markdown",
   "metadata": {},
   "source": [
    "# Measure proportion of hegemonic labels"
   ]
  },
  {
   "cell_type": "markdown",
   "metadata": {},
   "source": [
    "## Define set of hegemonic labels"
   ]
  },
  {
   "cell_type": "code",
   "execution_count": 5,
   "metadata": {},
   "outputs": [],
   "source": [
    "hegemonic_labels = {\n",
    "    'gender': [\n",
    "        r'\\bcis',\n",
    "    ],\n",
    "    'sexual orientation': [\n",
    "        'straight', r'\\bcishet',\n",
    "    ],\n",
    "    'pronouns': [ # Should be better about any type of delimiter or no delimiter with these\n",
    "        'she/her',\n",
    "        'she her',\n",
    "        'he/him',\n",
    "        'he him',\n",
    "    ],\n",
    "    'ethnicity/nationality': [\n",
    "        'white', 'caucasian',\n",
    "    ],\n",
    "}\n",
    "\n",
    "opp_hegemonic_labels = {\n",
    "    'gender': [\n",
    "        'trans', 'ftm', 'mtf',\n",
    "        'nonbinary', r'non-binary', r'non binary', '\\bnb\\b', '\\bbigender', r'\\bagender', r'neutrois', \n",
    "        r'genderfluid', r'gender-fluid',\n",
    "        r'lgbt', r'\\bqueer\\b',\n",
    "    ],\n",
    "    'sexual orientation': [\n",
    "        r'gay', 'r\\bhomo\\b',\n",
    "        r'lesbian',\n",
    "        r'bisexual', r'\\bbi\\b', r'bisexual', r'pansexual', r'\\bpan\\b', r'\\bwlw\\b', r'\\bmlm\\b',\n",
    "        r'lgbt', r'\\bqueer\\b',\n",
    "        r'\\bace\\b', r'\\basexual', r'aro-ace', r'aro/ace',\n",
    "        r'demisexual',\n",
    "    ],\n",
    "    'pronouns': [ # Should be better about any type of delimiter or no delimiter with these\n",
    "        r'(?:\\W|\\b)they(?:\\W|\\b)', r'(?:\\W|\\b)them(?:\\W|\\b)',\n",
    "        r'(?:\\W|\\b)xe(?:\\W|\\b)', r'(?:\\W|\\b)xem(?:\\W|\\b)',\n",
    "        r'theythem',\n",
    "    ],\n",
    "    'ethnicity/nationality': [\n",
    "        r'black', r'african(-| )american', r'afro(-| )american',\n",
    "        r'latin', r'afrolatin',\n",
    "        r'cuban', r'mexican',\n",
    "        r'asian', r'chinese', r'korean', r'japanese', r'indian',\n",
    "    ],\n",
    "}\n",
    "\n",
    "hegemonic_excl_terms = {\n",
    "    'gender': [\n",
    "        r\"isn't a cishet\",\n",
    "        r'if ur a cishet',\n",
    "        r\"don't call me: cishet\",\n",
    "        r\"cishet aces\",\n",
    "        r\"anti-cishet\",\n",
    "        r\"cishets begone\",\n",
    "        r\"cishet scum\",\n",
    "        r\"hate cishets\",\n",
    "        r\"cishet sims\",\n",
    "        r\"isntcishet\",\n",
    "        r\"cishets\",\n",
    "        r\"you are white or cishet\",\n",
    "        r\"cishet men\",\n",
    "        r\"cishet males\",\n",
    "        r\"cishet guys\",\n",
    "        r\"terf/twerf/cishet/man\",\n",
    "        r\"if cishet\",\n",
    "        r\"not cishet\",\n",
    "        r\"isn't a cishet\",\n",
    "        r'if ur a cishet',\n",
    "    ],\n",
    "    'pronouns': [\n",
    "        'they/them',\n",
    "    ],\n",
    "    'ethnicity/nationality': [\n",
    "        r'white lies',\n",
    "        r'snow white',\n",
    "        r'great white',\n",
    "    ],\n",
    "}\n",
    "hegemonic_excl_terms['sexual orientation'] = hegemonic_excl_terms['gender']"
   ]
  },
  {
   "cell_type": "code",
   "execution_count": null,
   "metadata": {},
   "outputs": [],
   "source": [
    "pd.set_option('display.max_colwidth', -1)\n",
    "pd.set_option('display.max_rows', 1000)"
   ]
  },
  {
   "cell_type": "code",
   "execution_count": null,
   "metadata": {},
   "outputs": [],
   "source": [
    "# Load annotated data\n",
    "# data = pd.read_pickle(os.path.join(data_dirpath, 'blog_descriptions_recent100_100posts.pkl'))\n",
    "data = pd.read_pickle(os.path.join(data_dirpath, 'blog_descriptions_recent100.pkl'))\n",
    "print(len(data))\n",
    "data.columns"
   ]
  },
  {
   "cell_type": "code",
   "execution_count": null,
   "metadata": {
    "scrolled": true
   },
   "outputs": [],
   "source": [
    "# Basic stats\n",
    "cats = ['age', 'location', 'gender', 'sexual orientation', 'pronouns', \n",
    "        'personality type', 'ethnicity/nationality', 'relationship status', 'roleplay',\n",
    "        'fandoms', 'interests', 'weight',\n",
    "        'gender/sexuality', 'roleplay/fandoms']\n",
    "\n",
    "outlines = []\n",
    "\n",
    "for col in cats:\n",
    "    annotated = sum(data[col])\n",
    "    outlines.append([col, annotated, annotated/len(data) * 100])\n",
    "#     print(f\"{col}: {annotated}\\t{annotated/len(data): .1%}\")\n",
    "\n",
    "# No annotations\n",
    "any_annote = sum([any(line) for line in list(zip(*[data[col] for col in cats]))])\n",
    "no_annote = len(data) - any_annote\n",
    "# print()\n",
    "# print(f'# with no annotations: {no_annote}\\t{no_annote/len(data): .1%}')\n",
    "outlines.append(['none', no_annote, no_annote/len(data) * 100])\n",
    "\n",
    "table = pd.DataFrame(outlines, columns=['category', 'n_instances', '% descriptions'])\\\n",
    "        .sort_values('% descriptions', ascending=False).reset_index(drop=True)\n",
    "table"
   ]
  },
  {
   "cell_type": "markdown",
   "metadata": {},
   "source": [
    "## Annotate hegemonic, opposite labels"
   ]
  },
  {
   "cell_type": "code",
   "execution_count": null,
   "metadata": {},
   "outputs": [],
   "source": [
    "# Annotate for hegemonic, opposite labels\n",
    "for cat, terms in sorted(hegemonic_labels.items()):\n",
    "    print(cat)\n",
    "#     data[f'{cat}_hegemonic_present'] = data['parsed_blog_description'].map(lambda x: any(re.search(t, x) for t in terms) and \\\n",
    "#                                                                           not any(re.search(e, x) for e in hegemonic_excl_terms[cat]))\n",
    "    data[f'{cat}_hegemonic_present'] = list(map(lambda x: any(re.search(t, x) for t in terms) and not any(re.search(e, x) for e in hegemonic_excl_terms[cat]),\n",
    "                                                                                                          data['parsed_blog_description']))\n",
    "    \n",
    "print()\n",
    "for cat, terms in sorted(opp_hegemonic_labels.items()):\n",
    "    print(cat)\n",
    "#     data[f'{cat}_opposite_present'] = data['parsed_blog_description'].map(lambda x: any(re.search(t, x) for t in terms))\n",
    "    data[f'{cat}_opposite_present'] = list(map(lambda x: any(re.search(t, x) for t in terms), tqdm(data['parsed_blog_description'].tolist())))"
   ]
  },
  {
   "cell_type": "code",
   "execution_count": null,
   "metadata": {},
   "outputs": [],
   "source": [
    "# Combine gender, sexual orientation and pronouns to annonate for gender/sexuality/hegemonic\n",
    "data['gender/sexuality_opposite_present'] = [g or s or p for (g,s,p) in zip(*[data[f'{cat}_opposite_present'] for cat in ['gender', 'sexual orientation', 'pronouns']])]\n",
    "print(sum(data['gender/sexuality_opposite_present']))\n",
    "data['gender/sexuality_hegemonic_present'] = [g or s or p for (g,s,p) in zip(*[data[f'{cat}_hegemonic_present'] for cat in ['gender', 'sexual orientation', 'pronouns']])]\n",
    "print(sum(data['gender/sexuality_hegemonic_present']))"
   ]
  },
  {
   "cell_type": "code",
   "execution_count": null,
   "metadata": {},
   "outputs": [],
   "source": [
    "# Save hegemonic annotations\n",
    "data.to_pickle(os.path.join(data_dirpath, 'blog_descriptions_recent100.pkl'))"
   ]
  },
  {
   "cell_type": "code",
   "execution_count": null,
   "metadata": {
    "scrolled": true
   },
   "outputs": [],
   "source": [
    "# Count hegemonic labels\n",
    "hegemonic_count = {}\n",
    "cats = list(hegemonic_labels.keys()) + ['gender/sexuality']\n",
    "for cat in cats:\n",
    "    hegemonic_count[cat] = len(data[(data[cat]==True) & (data[f'{cat}_hegemonic_present'] == True)])\n",
    "    \n",
    "# Count opposite labels\n",
    "opp_count = {}\n",
    "for cat in cats:\n",
    "    opp_count[cat] = len(data[(data[cat]==True) & (data[f'{cat}_opposite_present'] == True)])\n",
    "\n",
    "# Build table of results\n",
    "outlines = []\n",
    "for cat in cats:\n",
    "    given_count = table.loc[table['category']==cat, 'n_instances'].item()\n",
    "    outlines.append([cat, given_count, hegemonic_count[cat], hegemonic_count[cat]/given_count * 100,\n",
    "                    opp_count[cat], opp_count[cat]/given_count * 100])\n",
    "    \n",
    "results = pd.DataFrame(outlines, columns=['category', 'given number', 'hegemonic number', 'hegemonic %', \n",
    "                                         'opposite number', 'opposite %'])\n",
    "results"
   ]
  },
  {
   "cell_type": "markdown",
   "metadata": {},
   "source": [
    "## 1-time"
   ]
  },
  {
   "cell_type": "code",
   "execution_count": null,
   "metadata": {},
   "outputs": [],
   "source": [
    "# Check for certain terms\n",
    "# term = r'\\bhet\\b'\n",
    "term = r'\\basdfalskdjf ;alkdjs f;lakjsa\\b'\n",
    "term_rows = data.loc[data['parsed_blog_description'].map(lambda x: True if re.search(term, x) is not None else False), ['parsed_blog_description', 'gender', 'sexual orientation']]\n",
    "print(len(term_rows))\n",
    "term_rows"
   ]
  },
  {
   "cell_type": "code",
   "execution_count": null,
   "metadata": {},
   "outputs": [],
   "source": [
    "min(term_rows['gender'])"
   ]
  },
  {
   "cell_type": "markdown",
   "metadata": {},
   "source": [
    "# See which factors are associated with giving a hegemonic label"
   ]
  },
  {
   "cell_type": "markdown",
   "metadata": {},
   "source": [
    "## Count how many hegemonic labels are given w and wo non-hegemonic labels"
   ]
  },
  {
   "cell_type": "code",
   "execution_count": 2,
   "metadata": {},
   "outputs": [
    {
     "name": "stdout",
     "output_type": "stream",
     "text": [
      "5226750\n"
     ]
    },
    {
     "data": {
      "text/plain": [
       "Index(['tumblog_id', 'activity_time_epoch', 'tumblr_blog_name',\n",
       "       'tumblr_blog_title', 'tumblr_blog_description', 'tumblr_blog_url',\n",
       "       'tumblr_blog_theme', 'is_group_blog', 'is_primary', 'is_private',\n",
       "       'created_time_epoch', 'updated_time_epoch', 'timezone', 'language',\n",
       "       'blog_classifier', 'generated_date', 'parsed_blog_description',\n",
       "       'age_terms', 'age', 'ethnicity/nationality_terms',\n",
       "       'ethnicity/nationality', 'fandoms_terms', 'fandoms', 'gender_terms',\n",
       "       'gender', 'gender/sexuality_terms', 'gender/sexuality',\n",
       "       'interests_terms', 'interests', 'location_terms', 'location',\n",
       "       'personality type_terms', 'personality type', 'pronouns_terms',\n",
       "       'pronouns', 'relationship status_terms', 'relationship status',\n",
       "       'roleplay_terms', 'roleplay', 'roleplay/fandoms_terms',\n",
       "       'roleplay/fandoms', 'sexual orientation_terms', 'sexual orientation',\n",
       "       'weight_terms', 'weight', 'ethnicity/nationality_hegemonic_present',\n",
       "       'gender_hegemonic_present', 'pronouns_hegemonic_present',\n",
       "       'sexual orientation_hegemonic_present',\n",
       "       'ethnicity/nationality_opposite_present', 'gender_opposite_present',\n",
       "       'pronouns_opposite_present', 'sexual orientation_opposite_present',\n",
       "       'gender/sexuality_opposite_present',\n",
       "       'gender/sexuality_hegemonic_present'],\n",
       "      dtype='object')"
      ]
     },
     "execution_count": 2,
     "metadata": {},
     "output_type": "execute_result"
    }
   ],
   "source": [
    "# Load data\n",
    "data = pd.read_pickle(os.path.join(data_dirpath, 'blog_descriptions_recent100.pkl'))\n",
    "print(len(data))\n",
    "data.columns"
   ]
  },
  {
   "cell_type": "code",
   "execution_count": 3,
   "metadata": {},
   "outputs": [
    {
     "name": "stdout",
     "output_type": "stream",
     "text": [
      "['ethnicity/nationality_hegemonic_present', 'gender_hegemonic_present', 'pronouns_hegemonic_present', 'sexual orientation_hegemonic_present']\n",
      "['ethnicity/nationality_opposite_present', 'gender_opposite_present', 'pronouns_opposite_present', 'sexual orientation_opposite_present']\n"
     ]
    }
   ],
   "source": [
    "hegemonic_cols = [col for col in data.columns.tolist() if 'hegemonic' in col]\n",
    "hegemonic_cols = [col for col in hegemonic_cols if col != 'gender/sexuality_hegemonic_present']\n",
    "print(hegemonic_cols)\n",
    "\n",
    "opposite_cols = [col for col in data.columns.tolist() if 'opposite' in col]\n",
    "opposite_cols = [col for col in opposite_cols if col != 'gender/sexuality_opposite_present']\n",
    "print(opposite_cols)"
   ]
  },
  {
   "cell_type": "code",
   "execution_count": 5,
   "metadata": {},
   "outputs": [],
   "source": [
    "mask = [any(t) for t in zip(*[data[col] for col in opposite_cols])]\n",
    "opp = data[mask]\n",
    "count_opp = len(opp)\n",
    "count_opp"
   ]
  },
  {
   "cell_type": "code",
   "execution_count": 9,
   "metadata": {},
   "outputs": [
    {
     "data": {
      "text/plain": [
       "4949845"
      ]
     },
     "execution_count": 9,
     "metadata": {},
     "output_type": "execute_result"
    }
   ],
   "source": [
    "count_nonopp = len(data) - count_opp\n",
    "count_nonopp"
   ]
  },
  {
   "cell_type": "code",
   "execution_count": 10,
   "metadata": {},
   "outputs": [
    {
     "data": {
      "text/plain": [
       "0.011584201121449257"
      ]
     },
     "execution_count": 10,
     "metadata": {},
     "output_type": "execute_result"
    }
   ],
   "source": [
    "len(all_hegemonic)/count_nonopp"
   ]
  },
  {
   "cell_type": "code",
   "execution_count": 7,
   "metadata": {},
   "outputs": [
    {
     "data": {
      "text/plain": [
       "81256"
      ]
     },
     "execution_count": 7,
     "metadata": {},
     "output_type": "execute_result"
    }
   ],
   "source": [
    "mask = [any(t) for t in zip(*[data[col] for col in hegemonic_cols])]\n",
    "any_hegemonic = data[mask]\n",
    "len(any_hegemonic)"
   ]
  },
  {
   "cell_type": "code",
   "execution_count": 8,
   "metadata": {},
   "outputs": [
    {
     "data": {
      "text/plain": [
       "57340"
      ]
     },
     "execution_count": 8,
     "metadata": {},
     "output_type": "execute_result"
    }
   ],
   "source": [
    "mask = [not any(t) for t in zip(*[any_hegemonic[col] for col in opposite_cols])]\n",
    "all_hegemonic = any_hegemonic[mask]\n",
    "len(all_hegemonic)"
   ]
  },
  {
   "cell_type": "code",
   "execution_count": null,
   "metadata": {},
   "outputs": [],
   "source": [
    "len(all_hegemonic)/len(any_hegemonic)"
   ]
  }
 ],
 "metadata": {
  "kernelspec": {
   "display_name": "Python 3",
   "language": "python",
   "name": "python3"
  },
  "language_info": {
   "codemirror_mode": {
    "name": "ipython",
    "version": 3
   },
   "file_extension": ".py",
   "mimetype": "text/x-python",
   "name": "python",
   "nbconvert_exporter": "python",
   "pygments_lexer": "ipython3",
   "version": "3.6.4"
  }
 },
 "nbformat": 4,
 "nbformat_minor": 2
}
