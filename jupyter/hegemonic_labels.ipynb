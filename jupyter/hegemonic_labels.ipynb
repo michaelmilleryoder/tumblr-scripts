{
 "cells": [
  {
   "cell_type": "code",
   "execution_count": 1,
   "metadata": {},
   "outputs": [],
   "source": [
    "import pandas as pd\n",
    "import os\n",
    "\n",
    "data_dirpath = '/usr2/mamille2/tumblr/data/'"
   ]
  },
  {
   "cell_type": "markdown",
   "metadata": {},
   "source": [
    "# Measure proportion of hegemonic labels"
   ]
  },
  {
   "cell_type": "markdown",
   "metadata": {},
   "source": [
    "## Define set of hegemonic labels"
   ]
  },
  {
   "cell_type": "code",
   "execution_count": 2,
   "metadata": {},
   "outputs": [],
   "source": [
    "hegemonic_labels = {\n",
    "    'gender': [ # Should include 'male' and 'female', girl, etc, anything that isn't trans (make regular expressions)\n",
    "        'cis',\n",
    "    ],\n",
    "    'sexual orientation': [\n",
    "        'straight',\n",
    "    ],\n",
    "    'pronouns': [ # Should be better about any type of delimiter or no delimiter with these\n",
    "        'she/her',\n",
    "        'she her',\n",
    "        'he/him',\n",
    "        'he him',\n",
    "    ],\n",
    "    'ethnicity/nationality': [\n",
    "        'white',\n",
    "    ],\n",
    "}\n",
    "\n",
    "hegemonic_excl_terms = {\n",
    "    'gender': [\n",
    "    ],\n",
    "    'sexual orientation': [\n",
    "    ],\n",
    "    'pronouns': [\n",
    "        'they/them',\n",
    "    ],\n",
    "    'ethnicity/nationality': [\n",
    "    ],\n",
    "}"
   ]
  },
  {
   "cell_type": "code",
   "execution_count": 3,
   "metadata": {},
   "outputs": [
    {
     "name": "stdout",
     "output_type": "stream",
     "text": [
      "5226750\n"
     ]
    },
    {
     "data": {
      "text/plain": [
       "Index(['tumblog_id', 'activity_time_epoch', 'tumblr_blog_name',\n",
       "       'tumblr_blog_title', 'tumblr_blog_description', 'tumblr_blog_url',\n",
       "       'tumblr_blog_theme', 'is_group_blog', 'is_primary', 'is_private',\n",
       "       'created_time_epoch', 'updated_time_epoch', 'timezone', 'language',\n",
       "       'blog_classifier', 'generated_date', 'parsed_blog_description',\n",
       "       'age_terms', 'age', 'ethnicity/nationality_terms',\n",
       "       'ethnicity/nationality', 'fandoms_terms', 'fandoms', 'gender_terms',\n",
       "       'gender', 'gender/sexuality_terms', 'gender/sexuality',\n",
       "       'interests_terms', 'interests', 'location_terms', 'location',\n",
       "       'personality type_terms', 'personality type', 'pronouns_terms',\n",
       "       'pronouns', 'relationship status_terms', 'relationship status',\n",
       "       'roleplay_terms', 'roleplay', 'roleplay/fandoms_terms',\n",
       "       'roleplay/fandoms', 'sexual orientation_terms', 'sexual orientation',\n",
       "       'weight_terms', 'weight'],\n",
       "      dtype='object')"
      ]
     },
     "execution_count": 3,
     "metadata": {},
     "output_type": "execute_result"
    }
   ],
   "source": [
    "# Load annotated data\n",
    "# data = pd.read_pickle(os.path.join(data_dirpath, 'blog_descriptions_recent100_100posts.pkl'))\n",
    "data = pd.read_pickle(os.path.join(data_dirpath, 'blog_descriptions_recent100.pkl'))\n",
    "print(len(data))\n",
    "data.columns"
   ]
  },
  {
   "cell_type": "code",
   "execution_count": 6,
   "metadata": {},
   "outputs": [
    {
     "data": {
      "text/html": [
       "<div>\n",
       "<style scoped>\n",
       "    .dataframe tbody tr th:only-of-type {\n",
       "        vertical-align: middle;\n",
       "    }\n",
       "\n",
       "    .dataframe tbody tr th {\n",
       "        vertical-align: top;\n",
       "    }\n",
       "\n",
       "    .dataframe thead th {\n",
       "        text-align: right;\n",
       "    }\n",
       "</style>\n",
       "<table border=\"1\" class=\"dataframe\">\n",
       "  <thead>\n",
       "    <tr style=\"text-align: right;\">\n",
       "      <th></th>\n",
       "      <th>category</th>\n",
       "      <th>n_instances</th>\n",
       "      <th>percentage of descriptions</th>\n",
       "    </tr>\n",
       "  </thead>\n",
       "  <tbody>\n",
       "    <tr>\n",
       "      <th>0</th>\n",
       "      <td>none</td>\n",
       "      <td>2935957</td>\n",
       "      <td>56.171751</td>\n",
       "    </tr>\n",
       "    <tr>\n",
       "      <th>1</th>\n",
       "      <td>gender/sexuality</td>\n",
       "      <td>860774</td>\n",
       "      <td>16.468628</td>\n",
       "    </tr>\n",
       "    <tr>\n",
       "      <th>2</th>\n",
       "      <td>interests</td>\n",
       "      <td>796236</td>\n",
       "      <td>15.233864</td>\n",
       "    </tr>\n",
       "    <tr>\n",
       "      <th>3</th>\n",
       "      <td>age</td>\n",
       "      <td>724675</td>\n",
       "      <td>13.864734</td>\n",
       "    </tr>\n",
       "    <tr>\n",
       "      <th>4</th>\n",
       "      <td>gender</td>\n",
       "      <td>480900</td>\n",
       "      <td>9.200746</td>\n",
       "    </tr>\n",
       "    <tr>\n",
       "      <th>5</th>\n",
       "      <td>roleplay/fandoms</td>\n",
       "      <td>414261</td>\n",
       "      <td>7.925786</td>\n",
       "    </tr>\n",
       "    <tr>\n",
       "      <th>6</th>\n",
       "      <td>location</td>\n",
       "      <td>388432</td>\n",
       "      <td>7.431616</td>\n",
       "    </tr>\n",
       "    <tr>\n",
       "      <th>7</th>\n",
       "      <td>fandoms</td>\n",
       "      <td>340216</td>\n",
       "      <td>6.509131</td>\n",
       "    </tr>\n",
       "    <tr>\n",
       "      <th>8</th>\n",
       "      <td>pronouns</td>\n",
       "      <td>307186</td>\n",
       "      <td>5.877189</td>\n",
       "    </tr>\n",
       "    <tr>\n",
       "      <th>9</th>\n",
       "      <td>sexual orientation</td>\n",
       "      <td>227868</td>\n",
       "      <td>4.359650</td>\n",
       "    </tr>\n",
       "    <tr>\n",
       "      <th>10</th>\n",
       "      <td>ethnicity/nationality</td>\n",
       "      <td>173970</td>\n",
       "      <td>3.328455</td>\n",
       "    </tr>\n",
       "    <tr>\n",
       "      <th>11</th>\n",
       "      <td>personality type</td>\n",
       "      <td>129156</td>\n",
       "      <td>2.471058</td>\n",
       "    </tr>\n",
       "    <tr>\n",
       "      <th>12</th>\n",
       "      <td>roleplay</td>\n",
       "      <td>104137</td>\n",
       "      <td>1.992385</td>\n",
       "    </tr>\n",
       "    <tr>\n",
       "      <th>13</th>\n",
       "      <td>relationship status</td>\n",
       "      <td>104066</td>\n",
       "      <td>1.991027</td>\n",
       "    </tr>\n",
       "    <tr>\n",
       "      <th>14</th>\n",
       "      <td>weight</td>\n",
       "      <td>56049</td>\n",
       "      <td>1.072349</td>\n",
       "    </tr>\n",
       "  </tbody>\n",
       "</table>\n",
       "</div>"
      ],
      "text/plain": [
       "                 category  n_instances  percentage of descriptions\n",
       "0                    none      2935957                   56.171751\n",
       "1        gender/sexuality       860774                   16.468628\n",
       "2               interests       796236                   15.233864\n",
       "3                     age       724675                   13.864734\n",
       "4                  gender       480900                    9.200746\n",
       "5        roleplay/fandoms       414261                    7.925786\n",
       "6                location       388432                    7.431616\n",
       "7                 fandoms       340216                    6.509131\n",
       "8                pronouns       307186                    5.877189\n",
       "9      sexual orientation       227868                    4.359650\n",
       "10  ethnicity/nationality       173970                    3.328455\n",
       "11       personality type       129156                    2.471058\n",
       "12               roleplay       104137                    1.992385\n",
       "13    relationship status       104066                    1.991027\n",
       "14                 weight        56049                    1.072349"
      ]
     },
     "execution_count": 6,
     "metadata": {},
     "output_type": "execute_result"
    }
   ],
   "source": [
    "# Basic stats\n",
    "cats = ['age', 'location', 'gender', 'sexual orientation', 'pronouns', \n",
    "        'personality type', 'ethnicity/nationality', 'relationship status', 'roleplay',\n",
    "        'fandoms', 'interests', 'weight',\n",
    "        'gender/sexuality', 'roleplay/fandoms']\n",
    "\n",
    "outlines = []\n",
    "\n",
    "for col in cats:\n",
    "    annotated = sum(data[col])\n",
    "    outlines.append([col, annotated, annotated/len(data) * 100])\n",
    "#     print(f\"{col}: {annotated}\\t{annotated/len(data): .1%}\")\n",
    "\n",
    "# No annotations\n",
    "any_annote = sum([any(line) for line in list(zip(*[data[col] for col in cats]))])\n",
    "no_annote = len(data) - any_annote\n",
    "# print()\n",
    "# print(f'# with no annotations: {no_annote}\\t{no_annote/len(data): .1%}')\n",
    "outlines.append(['none', no_annote, no_annote/len(data) * 100])\n",
    "\n",
    "table = pd.DataFrame(outlines, columns=['category', 'n_instances', '% descriptions'])\\\n",
    "        .sort_values('percentage of descriptions', ascending=False).reset_index(drop=True)\n",
    "table"
   ]
  },
  {
   "cell_type": "code",
   "execution_count": 11,
   "metadata": {},
   "outputs": [
    {
     "name": "stdout",
     "output_type": "stream",
     "text": [
      "gender given: 1990\n",
      "sexual orientation given: 1309\n",
      "pronouns given: 2494\n",
      "ethnicity/nationality given: 728\n"
     ]
    }
   ],
   "source": [
    "given_count = {}\n",
    "for cat in hegemonic_labels:\n",
    "    given_count[cat] = len(data[data[cat]==True])\n",
    "    print(f'{cat} given: {given_count[cat]}')"
   ]
  },
  {
   "cell_type": "code",
   "execution_count": 9,
   "metadata": {},
   "outputs": [],
   "source": [
    "# Annotate for hegemonic labels\n",
    "for cat, terms in hegemonic_labels.items():\n",
    "    data[f'{cat}_hegemonic_present'] = data['parsed_blog_description'].map(lambda x: any(t in x for t in terms) and \\\n",
    "                                                                          not any(e in x for e in hegemonic_excl_terms[cat]))"
   ]
  },
  {
   "cell_type": "code",
   "execution_count": 10,
   "metadata": {},
   "outputs": [
    {
     "name": "stdout",
     "output_type": "stream",
     "text": [
      "gender: 57\n",
      "sexual orientation: 33\n",
      "pronouns: 551\n",
      "ethnicity/nationality: 52\n"
     ]
    }
   ],
   "source": [
    "# Count hegemonic labels\n",
    "\n",
    "hegemonic_count = {}\n",
    "\n",
    "for cat in hegemonic_labels:\n",
    "    hegemonic_count[cat] = len(data[(data[cat]==True) & (data[f'{cat}_hegemonic_present'] == True)])\n",
    "    print(f\"{cat}: {hegemonic_count[cat]}\")"
   ]
  },
  {
   "cell_type": "code",
   "execution_count": 14,
   "metadata": {},
   "outputs": [
    {
     "data": {
      "text/html": [
       "<div>\n",
       "<style scoped>\n",
       "    .dataframe tbody tr th:only-of-type {\n",
       "        vertical-align: middle;\n",
       "    }\n",
       "\n",
       "    .dataframe tbody tr th {\n",
       "        vertical-align: top;\n",
       "    }\n",
       "\n",
       "    .dataframe thead th {\n",
       "        text-align: right;\n",
       "    }\n",
       "</style>\n",
       "<table border=\"1\" class=\"dataframe\">\n",
       "  <thead>\n",
       "    <tr style=\"text-align: right;\">\n",
       "      <th></th>\n",
       "      <th>category</th>\n",
       "      <th>hegemonic number</th>\n",
       "      <th>given number</th>\n",
       "      <th>hegemonic %</th>\n",
       "    </tr>\n",
       "  </thead>\n",
       "  <tbody>\n",
       "    <tr>\n",
       "      <th>0</th>\n",
       "      <td>gender</td>\n",
       "      <td>57</td>\n",
       "      <td>1990</td>\n",
       "      <td>0.028643</td>\n",
       "    </tr>\n",
       "    <tr>\n",
       "      <th>1</th>\n",
       "      <td>sexual orientation</td>\n",
       "      <td>33</td>\n",
       "      <td>1309</td>\n",
       "      <td>0.025210</td>\n",
       "    </tr>\n",
       "    <tr>\n",
       "      <th>2</th>\n",
       "      <td>pronouns</td>\n",
       "      <td>551</td>\n",
       "      <td>2494</td>\n",
       "      <td>0.220930</td>\n",
       "    </tr>\n",
       "    <tr>\n",
       "      <th>3</th>\n",
       "      <td>ethnicity/nationality</td>\n",
       "      <td>52</td>\n",
       "      <td>728</td>\n",
       "      <td>0.071429</td>\n",
       "    </tr>\n",
       "  </tbody>\n",
       "</table>\n",
       "</div>"
      ],
      "text/plain": [
       "                category  hegemonic number  given number  hegemonic %\n",
       "0                 gender                57          1990     0.028643\n",
       "1     sexual orientation                33          1309     0.025210\n",
       "2               pronouns               551          2494     0.220930\n",
       "3  ethnicity/nationality                52           728     0.071429"
      ]
     },
     "execution_count": 14,
     "metadata": {},
     "output_type": "execute_result"
    }
   ],
   "source": [
    "# Build table of results\n",
    "\n",
    "outlines = []\n",
    "for cat in hegemonic_labels:\n",
    "    outlines.append([cat, hegemonic_count[cat], given_count[cat], hegemonic_count[cat]/given_count[cat]])\n",
    "    \n",
    "results = pd.DataFrame(outlines, columns=['category', 'hegemonic number', 'given number', 'hegemonic %'])\n",
    "results"
   ]
  }
 ],
 "metadata": {
  "kernelspec": {
   "display_name": "Python 3",
   "language": "python",
   "name": "python3"
  },
  "language_info": {
   "codemirror_mode": {
    "name": "ipython",
    "version": 3
   },
   "file_extension": ".py",
   "mimetype": "text/x-python",
   "name": "python",
   "nbconvert_exporter": "python",
   "pygments_lexer": "ipython3",
   "version": "3.6.4"
  }
 },
 "nbformat": 4,
 "nbformat_minor": 2
}
