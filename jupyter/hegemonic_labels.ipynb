{
 "cells": [
  {
   "cell_type": "code",
   "execution_count": 9,
   "metadata": {},
   "outputs": [],
   "source": [
    "import pandas as pd\n",
    "import os\n",
    "import re\n",
    "from tqdm import tqdm_notebook as tqdm\n",
    "import numpy as np\n",
    "from urllib.parse import urlsplit\n",
    "\n",
    "data_dirpath = '/usr2/mamille2/tumblr/data/'"
   ]
  },
  {
   "cell_type": "markdown",
   "metadata": {},
   "source": [
    "# Examine quick 50 blog author identity annotations"
   ]
  },
  {
   "cell_type": "code",
   "execution_count": 12,
   "metadata": {},
   "outputs": [
    {
     "name": "stdout",
     "output_type": "stream",
     "text": [
      "Index(['Tumblr blog', 'non-personal curation', 'rp', 'gender',\n",
      "       'sexual orientation', 'pronouns', 'ethnicity/nationality',\n",
      "       'gender evidence', 'sexual orientation evidence', 'ethnicity evidence',\n",
      "       'notes'],\n",
      "      dtype='object')\n",
      "50\n"
     ]
    }
   ],
   "source": [
    "annotations = pd.read_csv(os.path.join(data_dirpath, 'tumblr_identity_annotation.csv'))\n",
    "print(annotations.columns)\n",
    "print(len(annotations))"
   ]
  },
  {
   "cell_type": "code",
   "execution_count": 17,
   "metadata": {},
   "outputs": [
    {
     "name": "stdout",
     "output_type": "stream",
     "text": [
      "gender\n",
      "female         17\n",
      "male           8 \n",
      "LGBTQ \"guy\"    1 \n",
      "cis female     1 \n",
      "Name: gender, dtype: int64\n",
      "N/A: 23\n",
      "\n",
      "sexual orientation\n",
      "lesbian     6\n",
      "bisexual    4\n",
      "straight    3\n",
      "gay         1\n",
      "LGBTQ       1\n",
      "bi/aro      1\n",
      "Name: sexual orientation, dtype: int64\n",
      "N/A: 34\n",
      "\n",
      "pronouns\n",
      "she/her        4\n",
      "they/them      3\n",
      "he/she/they    1\n",
      "Name: pronouns, dtype: int64\n",
      "N/A: 42\n",
      "\n",
      "ethnicity/nationality\n",
      "white                5\n",
      "Spanish-speaking     2\n",
      "Turkish              2\n",
      "Brazilian            1\n",
      "Hungarian            1\n",
      "black                1\n",
      "Italian              1\n",
      "French               1\n",
      "Australian/white     1\n",
      "German               1\n",
      "Indian, Brazilian    1\n",
      "Name: ethnicity/nationality, dtype: int64\n",
      "N/A: 33\n",
      "\n"
     ]
    }
   ],
   "source": [
    "for cat in ['gender', 'sexual orientation', 'pronouns', 'ethnicity/nationality']:\n",
    "    print(cat)\n",
    "    print(annotations[cat].value_counts())\n",
    "    print(f\"N/A: {len(annotations) - annotations[cat].count()}\")\n",
    "    print()"
   ]
  },
  {
   "cell_type": "markdown",
   "metadata": {},
   "source": [
    "# Get list of blogs for sample human annotation (out of data from those who fill out blog descriptions)"
   ]
  },
  {
   "cell_type": "code",
   "execution_count": 2,
   "metadata": {},
   "outputs": [
    {
     "name": "stdout",
     "output_type": "stream",
     "text": [
      "Index(['post_id', 'activity_time_epoch', 'tumblog_id', 'post_title',\n",
      "       'post_short_url', 'post_type', 'post_caption', 'post_format',\n",
      "       'post_note_count', 'created_time_epoch', 'updated_time_epoch',\n",
      "       'is_submission', 'source_title', 'source_url', 'post_classifier',\n",
      "       'blog_classifier', 'accepts_answers', 'reblogged_from_post_id',\n",
      "       'reblogged_from_metadata', 'root_post_id', 'body', 'mentions',\n",
      "       'post_tags', 'parsed_tags_minfreq1'],\n",
      "      dtype='object')\n",
      "27342192\n"
     ]
    }
   ],
   "source": [
    "# Load textposts_recent100\n",
    "\n",
    "fpath = os.path.join(data_dirpath, 'textposts_recent100.pkl')\n",
    "posts = pd.read_pickle(fpath)\n",
    "print(posts.columns)\n",
    "print(len(posts))"
   ]
  },
  {
   "cell_type": "code",
   "execution_count": 6,
   "metadata": {},
   "outputs": [],
   "source": [
    "pd.set_option('display.max_colwidth', -1)\n",
    "pd.set_option('display.max_rows', 1000)"
   ]
  },
  {
   "cell_type": "code",
   "execution_count": 8,
   "metadata": {
    "scrolled": true
   },
   "outputs": [
    {
     "data": {
      "text/plain": [
       "548499      http://just-shower-thoughts.tumblr.com/post/136782798724/everything-in-the-universe-is-either-a-potato-or     \n",
       "21547974    http://taubchen.tumblr.com/post/159869605379/can-someone-tell-me-if-this-is-strawberry-or                     \n",
       "26622512    http://jee-q.tumblr.com/post/132179290518/im-not-really-single-im-dating-myself-i-take                        \n",
       "23908855    http://azereong.tumblr.com/post/157633624763                                                                  \n",
       "8386683     https://blackbutler-erabelle.tumblr.com/post/155264886271/cuteness-overload                                   \n",
       "572788      http://saekou.tumblr.com/post/96128209404/big-owain                                                           \n",
       "15760018    http://zany-the-nerd.tumblr.com/post/151427111107/child-whats-a-vhs-me                                        \n",
       "2491788     http://eeveestevie.tumblr.com/post/156719347344/if-ive-ever-made-you-cum-you-owe-me-a-vday-gift               \n",
       "10499450    http://bonjourfrenchwords.tumblr.com/post/160486492783/little-reminder-macaron-is-a-french                    \n",
       "12332218    http://66koi.tumblr.com/post/157619463908/does-anyone-else-constantly-get-the-feeling-that                    \n",
       "19081297    http://drowzylove.tumblr.com/post/144424332968/my-two-moods-are                                               \n",
       "22625298    http://chessys.tumblr.com/post/142912578592/u-know-when-ur-getting-dressed-and-ur-just-in-ur                  \n",
       "19821782    http://acoolsuggestion.tumblr.com/post/139364043655/honestly-the-best-feeling-ever-is-realizing-youre         \n",
       "3022134     https://earth-suggestion.tumblr.com/post/158319033667/me-always-remembers-to-water-plants-also-me             \n",
       "20081019    https://eskidencoksevmisbiri.tumblr.com/post/158785769015/ben-de-seni-seviyorum-hadi-birbirimize-hayatı       \n",
       "11537293    http://brown-nena.tumblr.com/post/142765534547/pours-coconut-oil-over-my-depression                           \n",
       "14773682    http://markusaleksander.tumblr.com/post/160974169859/it-had-been-a-while-since-he-had-a-day-to-himself        \n",
       "5514879     http://gatorbiscuits.tumblr.com/post/54018718863/my-dad-bought-new-scooby-doo-cereal-but-the-dog              \n",
       "25714368    http://thexfiles.tumblr.com/post/148086959125/i-literally-will-not-tell-people-who-are-hurting                \n",
       "6016424     http://io-sono-fedele.tumblr.com/post/147204067932/wenn-sie-dich-liebt-dann-liebt-sie-nur-dich-und            \n",
       "8755376     http://depressionfordays.tumblr.com/post/159359162094/for-whoever-may-need-it                                 \n",
       "13622763    http://florpincel.tumblr.com/post/147765193006/casa-comigo-quero-teu-amor-sem-teto                            \n",
       "2440077     http://artofthecatt.tumblr.com/post/156872303571/im-thinking-i-should-make-a-new-poster-for-the               \n",
       "5975513     https://daddy-crowe.tumblr.com/post/154732738957/daddys-rules                                                 \n",
       "7357031     http://vanillatwilightwallflower.tumblr.com/post/119943458432/does-anyone-else-ever-feel-like-theyve-lost     \n",
       "26716294    http://lez-bruh.tumblr.com/post/146094868186/do-u-ever-feel-so-unwanted-and-alone-and-u-just                  \n",
       "2677602     http://a--z--u--l.tumblr.com/post/156873194021/cuando-te-dicen-buenas-noches-bendiciones                      \n",
       "23053990    http://fadedfemales.tumblr.com/post/134033284060/a-girls-sleepy-voice-is-probably-the-cutest-thing            \n",
       "3257668     http://hlbstrk.tumblr.com/post/78577320408/derjenige-der-den-kontakt-braucht-hat-verloren                     \n",
       "14954134    http://almejavas.tumblr.com/post/157372976893/seja-sol-e-descongele-o-coração-de-alguém                       \n",
       "12319788    http://heartlessharless.tumblr.com/post/111995582707/5-ways-to-increasedecrease-suspense-in-your              \n",
       "17934714    https://wallpaperprintery.tumblr.com/post/158824815088/twenty-one-pilots-truce                                \n",
       "6318671     http://shittyidea.tumblr.com/post/139856316298/the-social-norm                                                \n",
       "23653948    http://darckcarnival.tumblr.com/post/13185493874/tell-me-how-youd-fuck-me-anonymously                         \n",
       "13372888    http://rad-x.tumblr.com/post/157096826125/i-need-very-obvious-very-direct-love-i-need-lots                    \n",
       "21989609    https://nacho2x1.tumblr.com/post/157162533205/ive-been-down-so-long-it-look-like-up-to-me                     \n",
       "21980048    https://yusufyalcin.tumblr.com/post/125283540380                                                              \n",
       "3252704     http://3plymike.tumblr.com/post/127764100259/gotta-make-em-laugh-so-they-forget-you-ugly                      \n",
       "12774755    http://a--z--u--l.tumblr.com/post/156465480016/tumblr-no-sería-tan-divertido-de-no-haber-sido-por             \n",
       "1268335     http://soulffles.tumblr.com/post/156698413952/victor-everything-my-husband-says-and-does-is                   \n",
       "21457458    http://griffys.tumblr.com/post/149664370198/why-is-2016-so-vengeful-who-hurt-her                              \n",
       "22380648    http://bitchycode.tumblr.com/post/156036718545/do-you-ever-get-that-sudden-outburst-of-motivation             \n",
       "22073689    http://lesbianrey.tumblr.com/post/157043561360/shout-out-to-me-in-5-yearshope-shes-doing                      \n",
       "22628509    http://nourrice.tumblr.com/post/156237220243/lurking-is-self-harm-is-the-realest-thing-ever                   \n",
       "1703432     http://lelkemben-hurrikan.tumblr.com/post/156796156341/ha-érdekelnéd-keresne                                  \n",
       "26646380    http://casshelps.tumblr.com/post/157546061188/under-the-cut-youll-find-280-gifs-of-alisha-boe                 \n",
       "3956500     http://un-escritor-dice.tumblr.com/post/135815701746/odio-tener-celos-de-todo-por-ahí-me-mandas-una           \n",
       "16027802    http://thatsmallbluebox.tumblr.com/post/57002189109/guys-on-september-1st-2017-we-should-all-go-to            \n",
       "15546439    http://writing-prompt-s.tumblr.com/post/155246114613/while-cleaning-your-attic-you-find-a-box-of-glass        \n",
       "19539869    http://violetwitchcraft.tumblr.com/post/143556379631/circle-casting-101                                       \n",
       "6463499     http://kamiusings.tumblr.com/post/156180250631/short-stories-my-favorite-kind-of-poetry-meme                  \n",
       "14736785    http://that-elf-from-smirkwood.tumblr.com/post/159913397462/hhhmmmm-i-love-love-love-how-tumblr-has-not-said-a\n",
       "25725358    https://the-real-seebs.tumblr.com/post/158396815893/pornhub-the-government-is-doing-a-bad-job-of-sex          \n",
       "14198293    http://gryffindor-headcanons.tumblr.com/post/144798361122/59-there-is-a-yardstick-duct-taped-to-the-top-of    \n",
       "10950157    https://bpd--ghostie.tumblr.com/post/129747544711/ive-been-suicidal-for-so-long-that-ive-just-been            \n",
       "23868962    http://disabilityhealth.tumblr.com                                                                            \n",
       "19135796    https://poovellamkettuppar.tumblr.com/post/154388159377/in-2017-i-wanna-be-the-girl-from-hotline-bling        \n",
       "21172890    http://shittyidea.tumblr.com/post/141665477989/mayonnaise-slushie                                             \n",
       "4917701     https://caoticaillusione.tumblr.com/post/152262300619/ho-come-la-sensazione-di-sbagliare-sempre-tutto         \n",
       "14988184    http://positivelyhonestsuggestion.tumblr.com/post/149303210903/this-blog-100-supports-chubby-tummies-arms-and \n",
       "9116075     https://ununoctium0720.tumblr.com/post/159855658095/a-szüleim-biztos-nem-olyan-gyereket-terveztek             \n",
       "8600241     http://fartgallery.tumblr.com/post/147193527812/puts-a-normal-sized-carrot-in-a-bag-of-baby                   \n",
       "22264687    http://furrypost-generator.tumblr.com/post/155516867571/local-furry-stands-menacingly-to-man-on-picnic        \n",
       "1163311     http://unsentimientoesuncorazon.tumblr.com/post/153226523769                                                  \n",
       "21947079    http://blutnebel.tumblr.com/post/101338120383/solange-du-darüber-in-tumblr-bloggst-ist-es-dir                 \n",
       "7221189     http://just-shower-thoughts.tumblr.com/post/137499220349/my-mom-asked-me-how-to-screenshot-on-her-iphone-i    \n",
       "20561057    http://yhrite.tumblr.com/post/159642738016/when-theres-nobody-to-guardian-angel-to-from                       \n",
       "662719      https://aliceisastute.tumblr.com/post/156826754634/my-queen-i-need-you-to-undress-for-me-its                  \n",
       "12680382    https://ambivelousthirteen.tumblr.com/post/157295682556/road-trip                                             \n",
       "4334247     http://figueroezekiel.tumblr.com/post/157494499493/doctor-you-have-2-minutes-to-live-me-ok-cool               \n",
       "7099821     http://northern-seidmadr.tumblr.com/post/145332579104/reblog-if-you-accept-witches-and-pagans-of-all          \n",
       "4251474     http://zi-taoxic.tumblr.com/post/123877829846/josh-dun-throwing-his-head-back-while-hes                       \n",
       "1356658     http://lunaffreyaa.tumblr.com/post/155372975545/imthe-1930s                                                   \n",
       "2079955     http://true-story-mylife.tumblr.com/post/149872568540/újra-meg-újra-összetörök                                \n",
       "11317201    http://shvsamshaw.tumblr.com/post/157805694938/i-dont-know-if-you-all-knew-this-but-quinn-the                 \n",
       "18075211    http://teupatrao.tumblr.com/post/100753760576/pare-de-olhar-para-trás-você-já-sabe-onde-esteve                \n",
       "27108816    http://gorgonsach.tumblr.com/post/148379224228/my-foot-is-asleep                                              \n",
       "25511107    http://spockothy.tumblr.com/post/98482304322/feminism-never-made-me-hate-men-but-the-reaction                 \n",
       "20901222    https://69biancaxxx.tumblr.com/post/137326178473/a-nut-a-day-will-keep-the-stress-away                        \n",
       "15424430    http://daftbangalter.tumblr.com/post/160707331981/somewhere-now-jared-thomas                                  \n",
       "25071077    https://mitchmarnerssmile.tumblr.com/post/159996519172/i-hate-falling-in-love-with-the-nhl-prospectschl       \n",
       "4551773     http://thexfiles.tumblr.com/post/147268374430/you-know-when-you-feel-the-exact-moment-your-mood               \n",
       "20962287    https://hidegmalnaszorp.tumblr.com/post/159329756882/a-sorsok-időnként-furcsa-módon-kapcsolódnak              \n",
       "1528029     http://hawtgyal.tumblr.com/post/157087808633                                                                  \n",
       "6249684     http://fightartblock.tumblr.com/post/143643510997/draw-yourself-challenge                                     \n",
       "14837262    https://arabwife.tumblr.com/post/156038931050/if-another-girl-has-your-attention-leave-me-alone               \n",
       "4645352     http://bibliotecha-secreta.tumblr.com/post/150211252183/faerie-meals                                          \n",
       "18933029    http://scorpiokyng12.tumblr.com/post/155251487248/charlotte-black-gay-male-train                              \n",
       "3305734     https://imstichgelassn.tumblr.com/post/156988958036/in-guten-zeiten-händchen-halten-können-alle-in            \n",
       "18805122    https://cwote.tumblr.com                                                                                      \n",
       "16893021    http://cause-i-lost-it-all.tumblr.com/post/158419250815/aos-poucos-eu-fui-deixando-de-ser-fui-deixando        \n",
       "562193      https://dirtydaddythings.tumblr.com/post/134524235842/why-am-i-a-daddy                                        \n",
       "20906416    http://klavyeninarasindakiekmekparcasi.tumblr.com/post/49505635498/arkadaşı-üzgün-olduğu-zaman-ne-yapacağını  \n",
       "16198978    http://training2cumquick.tumblr.com/post/159044821450/arrange-your-life-around-porn                           \n",
       "22321930    https://constructedlanguages.tumblr.com/                                                                      \n",
       "23032020    http://neymouse.tumblr.com/post/157384889068/estoy-pero-no-estoy-mi-cuerpo-esta-aquí-pero                     \n",
       "19638719    http://shpixn.tumblr.com/post/123758174786/if-you-start-a-ship-with-me-i-go-from-0-to-sign-me                 \n",
       "21796892    http://pigmenting.tumblr.com/post/139769430997/sometimes-i-forget-how-many-times-ive-picked                   \n",
       "476679      http://rad-x.tumblr.com/post/156855251355/wtf-people-actually-tell-their-crushes-they-like                    \n",
       "20611350    http://hijerking.tumblr.com/post/144605376361/u-kno-when-u-suddenly-feel-horrible-and-ur-not                  \n",
       "Name: source_url, dtype: object"
      ]
     },
     "execution_count": 8,
     "metadata": {},
     "output_type": "execute_result"
    }
   ],
   "source": [
    "# Sample from blogs\n",
    "non_nan_sources = posts['source_url'].dropna(inplace=False)\n",
    "blog_sample = non_nan_sources.sample(100)\n",
    "blog_sample"
   ]
  },
  {
   "cell_type": "code",
   "execution_count": 11,
   "metadata": {
    "scrolled": true
   },
   "outputs": [
    {
     "data": {
      "text/plain": [
       "['just-shower-thoughts.tumblr.com',\n",
       " 'taubchen.tumblr.com',\n",
       " 'jee-q.tumblr.com',\n",
       " 'azereong.tumblr.com',\n",
       " 'blackbutler-erabelle.tumblr.com',\n",
       " 'saekou.tumblr.com',\n",
       " 'zany-the-nerd.tumblr.com',\n",
       " 'eeveestevie.tumblr.com',\n",
       " 'bonjourfrenchwords.tumblr.com',\n",
       " '66koi.tumblr.com',\n",
       " 'drowzylove.tumblr.com',\n",
       " 'chessys.tumblr.com',\n",
       " 'acoolsuggestion.tumblr.com',\n",
       " 'earth-suggestion.tumblr.com',\n",
       " 'eskidencoksevmisbiri.tumblr.com',\n",
       " 'brown-nena.tumblr.com',\n",
       " 'markusaleksander.tumblr.com',\n",
       " 'gatorbiscuits.tumblr.com',\n",
       " 'thexfiles.tumblr.com',\n",
       " 'io-sono-fedele.tumblr.com',\n",
       " 'depressionfordays.tumblr.com',\n",
       " 'florpincel.tumblr.com',\n",
       " 'artofthecatt.tumblr.com',\n",
       " 'daddy-crowe.tumblr.com',\n",
       " 'vanillatwilightwallflower.tumblr.com',\n",
       " 'lez-bruh.tumblr.com',\n",
       " 'a--z--u--l.tumblr.com',\n",
       " 'fadedfemales.tumblr.com',\n",
       " 'hlbstrk.tumblr.com',\n",
       " 'almejavas.tumblr.com',\n",
       " 'heartlessharless.tumblr.com',\n",
       " 'wallpaperprintery.tumblr.com',\n",
       " 'shittyidea.tumblr.com',\n",
       " 'darckcarnival.tumblr.com',\n",
       " 'rad-x.tumblr.com',\n",
       " 'nacho2x1.tumblr.com',\n",
       " 'yusufyalcin.tumblr.com',\n",
       " '3plymike.tumblr.com',\n",
       " 'a--z--u--l.tumblr.com',\n",
       " 'soulffles.tumblr.com',\n",
       " 'griffys.tumblr.com',\n",
       " 'bitchycode.tumblr.com',\n",
       " 'lesbianrey.tumblr.com',\n",
       " 'nourrice.tumblr.com',\n",
       " 'lelkemben-hurrikan.tumblr.com',\n",
       " 'casshelps.tumblr.com',\n",
       " 'un-escritor-dice.tumblr.com',\n",
       " 'thatsmallbluebox.tumblr.com',\n",
       " 'writing-prompt-s.tumblr.com',\n",
       " 'violetwitchcraft.tumblr.com',\n",
       " 'kamiusings.tumblr.com',\n",
       " 'that-elf-from-smirkwood.tumblr.com',\n",
       " 'the-real-seebs.tumblr.com',\n",
       " 'gryffindor-headcanons.tumblr.com',\n",
       " 'bpd--ghostie.tumblr.com',\n",
       " 'disabilityhealth.tumblr.com',\n",
       " 'poovellamkettuppar.tumblr.com',\n",
       " 'shittyidea.tumblr.com',\n",
       " 'caoticaillusione.tumblr.com',\n",
       " 'positivelyhonestsuggestion.tumblr.com',\n",
       " 'ununoctium0720.tumblr.com',\n",
       " 'fartgallery.tumblr.com',\n",
       " 'furrypost-generator.tumblr.com',\n",
       " 'unsentimientoesuncorazon.tumblr.com',\n",
       " 'blutnebel.tumblr.com',\n",
       " 'just-shower-thoughts.tumblr.com',\n",
       " 'yhrite.tumblr.com',\n",
       " 'aliceisastute.tumblr.com',\n",
       " 'ambivelousthirteen.tumblr.com',\n",
       " 'figueroezekiel.tumblr.com',\n",
       " 'northern-seidmadr.tumblr.com',\n",
       " 'zi-taoxic.tumblr.com',\n",
       " 'lunaffreyaa.tumblr.com',\n",
       " 'true-story-mylife.tumblr.com',\n",
       " 'shvsamshaw.tumblr.com',\n",
       " 'teupatrao.tumblr.com',\n",
       " 'gorgonsach.tumblr.com',\n",
       " 'spockothy.tumblr.com',\n",
       " '69biancaxxx.tumblr.com',\n",
       " 'daftbangalter.tumblr.com',\n",
       " 'mitchmarnerssmile.tumblr.com',\n",
       " 'thexfiles.tumblr.com',\n",
       " 'hidegmalnaszorp.tumblr.com',\n",
       " 'hawtgyal.tumblr.com',\n",
       " 'fightartblock.tumblr.com',\n",
       " 'arabwife.tumblr.com',\n",
       " 'bibliotecha-secreta.tumblr.com',\n",
       " 'scorpiokyng12.tumblr.com',\n",
       " 'imstichgelassn.tumblr.com',\n",
       " 'cwote.tumblr.com',\n",
       " 'cause-i-lost-it-all.tumblr.com',\n",
       " 'dirtydaddythings.tumblr.com',\n",
       " 'klavyeninarasindakiekmekparcasi.tumblr.com',\n",
       " 'training2cumquick.tumblr.com',\n",
       " 'constructedlanguages.tumblr.com',\n",
       " 'neymouse.tumblr.com',\n",
       " 'shpixn.tumblr.com',\n",
       " 'pigmenting.tumblr.com',\n",
       " 'rad-x.tumblr.com',\n",
       " 'hijerking.tumblr.com']"
      ]
     },
     "execution_count": 11,
     "metadata": {},
     "output_type": "execute_result"
    }
   ],
   "source": [
    "blog_urls = [urlsplit(url).netloc for url in blog_sample]\n",
    "blog_urls"
   ]
  },
  {
   "cell_type": "markdown",
   "metadata": {},
   "source": [
    "# Investigate labels for gender/sexuality or ethnicity outside of blog descriptions"
   ]
  },
  {
   "cell_type": "markdown",
   "metadata": {},
   "source": [
    "## Sample blogs of people who give gender/sexuality or ethnicity labels"
   ]
  },
  {
   "cell_type": "code",
   "execution_count": 3,
   "metadata": {},
   "outputs": [
    {
     "name": "stdout",
     "output_type": "stream",
     "text": [
      "5226750\n",
      "Index(['tumblog_id', 'activity_time_epoch', 'tumblr_blog_name',\n",
      "       'tumblr_blog_title', 'tumblr_blog_description', 'tumblr_blog_url',\n",
      "       'tumblr_blog_theme', 'is_group_blog', 'is_primary', 'is_private',\n",
      "       'created_time_epoch', 'updated_time_epoch', 'timezone', 'language',\n",
      "       'blog_classifier', 'generated_date', 'parsed_blog_description',\n",
      "       'age_terms', 'age', 'ethnicity/nationality_terms',\n",
      "       'ethnicity/nationality', 'fandoms_terms', 'fandoms', 'gender_terms',\n",
      "       'gender', 'gender/sexuality_terms', 'gender/sexuality',\n",
      "       'interests_terms', 'interests', 'location_terms', 'location',\n",
      "       'personality type_terms', 'personality type', 'pronouns_terms',\n",
      "       'pronouns', 'relationship status_terms', 'relationship status',\n",
      "       'roleplay_terms', 'roleplay', 'roleplay/fandoms_terms',\n",
      "       'roleplay/fandoms', 'sexual orientation_terms', 'sexual orientation',\n",
      "       'weight_terms', 'weight', 'ethnicity/nationality_hegemonic_present',\n",
      "       'gender_hegemonic_present', 'pronouns_hegemonic_present',\n",
      "       'sexual orientation_hegemonic_present',\n",
      "       'ethnicity/nationality_opposite_present', 'gender_opposite_present',\n",
      "       'pronouns_opposite_present', 'sexual orientation_opposite_present',\n",
      "       'gender/sexuality_opposite_present',\n",
      "       'gender/sexuality_hegemonic_present'],\n",
      "      dtype='object')\n"
     ]
    }
   ],
   "source": [
    "# Load descriptions with category annotations\n",
    "descs = pd.read_pickle(os.path.join(data_dirpath, 'blog_descriptions_recent100.pkl')) # should annotate and use full set\n",
    "print(len(descs))\n",
    "print(descs.columns)"
   ]
  },
  {
   "cell_type": "code",
   "execution_count": 5,
   "metadata": {},
   "outputs": [
    {
     "data": {
      "text/html": [
       "<div>\n",
       "<style scoped>\n",
       "    .dataframe tbody tr th:only-of-type {\n",
       "        vertical-align: middle;\n",
       "    }\n",
       "\n",
       "    .dataframe tbody tr th {\n",
       "        vertical-align: top;\n",
       "    }\n",
       "\n",
       "    .dataframe thead th {\n",
       "        text-align: right;\n",
       "    }\n",
       "</style>\n",
       "<table border=\"1\" class=\"dataframe\">\n",
       "  <thead>\n",
       "    <tr style=\"text-align: right;\">\n",
       "      <th></th>\n",
       "      <th>tumblr_blog_url</th>\n",
       "      <th>gender/sexuality_terms</th>\n",
       "    </tr>\n",
       "  </thead>\n",
       "  <tbody>\n",
       "    <tr>\n",
       "      <th>2787979</th>\n",
       "      <td>https://nawtig.tumblr.com/</td>\n",
       "      <td>[them]</td>\n",
       "    </tr>\n",
       "    <tr>\n",
       "      <th>3349673</th>\n",
       "      <td>http://soaringstarbolts.tumblr.com/</td>\n",
       "      <td>[girl, princess]</td>\n",
       "    </tr>\n",
       "    <tr>\n",
       "      <th>5429055</th>\n",
       "      <td>https://subyeollie.tumblr.com/</td>\n",
       "      <td>[he/, him]</td>\n",
       "    </tr>\n",
       "    <tr>\n",
       "      <th>5557095</th>\n",
       "      <td>https://wrenweasly.tumblr.com/</td>\n",
       "      <td>[/they/, them, pronouns]</td>\n",
       "    </tr>\n",
       "    <tr>\n",
       "      <th>5559083</th>\n",
       "      <td>https://zeref-darkmoon.tumblr.com/</td>\n",
       "      <td>[man]</td>\n",
       "    </tr>\n",
       "    <tr>\n",
       "      <th>3590676</th>\n",
       "      <td>https://reginadellerose0.tumblr.com/</td>\n",
       "      <td>[Queen]</td>\n",
       "    </tr>\n",
       "    <tr>\n",
       "      <th>5137910</th>\n",
       "      <td>https://little-slut-baby.tumblr.com/</td>\n",
       "      <td>[her]</td>\n",
       "    </tr>\n",
       "    <tr>\n",
       "      <th>4156573</th>\n",
       "      <td>https://publicmaker123.tumblr.com/</td>\n",
       "      <td>[Gay]</td>\n",
       "    </tr>\n",
       "    <tr>\n",
       "      <th>4363527</th>\n",
       "      <td>https://fan-girl-lgbt.tumblr.com/</td>\n",
       "      <td>[girl, Gay, Ace, LGBT]</td>\n",
       "    </tr>\n",
       "    <tr>\n",
       "      <th>2108654</th>\n",
       "      <td>https://feet-and-tickles.tumblr.com/</td>\n",
       "      <td>[female]</td>\n",
       "    </tr>\n",
       "    <tr>\n",
       "      <th>3767758</th>\n",
       "      <td>https://manuelands.tumblr.com/</td>\n",
       "      <td>[girl]</td>\n",
       "    </tr>\n",
       "    <tr>\n",
       "      <th>4770830</th>\n",
       "      <td>https://kawaiipastelgirl21.tumblr.com/</td>\n",
       "      <td>[trans, FTM]</td>\n",
       "    </tr>\n",
       "    <tr>\n",
       "      <th>2904450</th>\n",
       "      <td>http://friends-influence-monsters.tumblr.com/</td>\n",
       "      <td>[girl, her]</td>\n",
       "    </tr>\n",
       "    <tr>\n",
       "      <th>4927853</th>\n",
       "      <td>https://piperrunsthehill.tumblr.com/</td>\n",
       "      <td>[Bisexual, Woman]</td>\n",
       "    </tr>\n",
       "    <tr>\n",
       "      <th>595597</th>\n",
       "      <td>http://zappymain.tumblr.com/</td>\n",
       "      <td>[non-binary, he/, him), gay]</td>\n",
       "    </tr>\n",
       "    <tr>\n",
       "      <th>3479965</th>\n",
       "      <td>https://poe-ht.tumblr.com/</td>\n",
       "      <td>[He/, Him, They/, Them]</td>\n",
       "    </tr>\n",
       "    <tr>\n",
       "      <th>6232913</th>\n",
       "      <td>https://wildnyx.tumblr.com/</td>\n",
       "      <td>[he]</td>\n",
       "    </tr>\n",
       "    <tr>\n",
       "      <th>140512</th>\n",
       "      <td>http://aqueerwithptsd.tumblr.com/</td>\n",
       "      <td>[guy]</td>\n",
       "    </tr>\n",
       "    <tr>\n",
       "      <th>4674353</th>\n",
       "      <td>https://sanshadowfirewolf360wolfstuff.tumblr.com/</td>\n",
       "      <td>[brother, they]</td>\n",
       "    </tr>\n",
       "    <tr>\n",
       "      <th>3854819</th>\n",
       "      <td>https://rvthschilds.tumblr.com/</td>\n",
       "      <td>[boy, woman, them]</td>\n",
       "    </tr>\n",
       "    <tr>\n",
       "      <th>2584347</th>\n",
       "      <td>http://obsessedwithoverthinking.tumblr.com/</td>\n",
       "      <td>[He/, Him]</td>\n",
       "    </tr>\n",
       "    <tr>\n",
       "      <th>4584835</th>\n",
       "      <td>https://nawtylilprncss3.tumblr.com/</td>\n",
       "      <td>[girl]</td>\n",
       "    </tr>\n",
       "    <tr>\n",
       "      <th>3239528</th>\n",
       "      <td>https://ohhowlewd.tumblr.com/</td>\n",
       "      <td>[man, trans, LGBT]</td>\n",
       "    </tr>\n",
       "    <tr>\n",
       "      <th>3326475</th>\n",
       "      <td>https://kyliesmilie26.tumblr.com/</td>\n",
       "      <td>[girl]</td>\n",
       "    </tr>\n",
       "    <tr>\n",
       "      <th>1815780</th>\n",
       "      <td>https://iamtherealxne.tumblr.com/</td>\n",
       "      <td>[guy]</td>\n",
       "    </tr>\n",
       "    <tr>\n",
       "      <th>985709</th>\n",
       "      <td>https://lonelytimetraveler.tumblr.com/</td>\n",
       "      <td>[Bisexual, She/, her]</td>\n",
       "    </tr>\n",
       "    <tr>\n",
       "      <th>1530186</th>\n",
       "      <td>http://astro-w.tumblr.com/</td>\n",
       "      <td>[she/, her]</td>\n",
       "    </tr>\n",
       "    <tr>\n",
       "      <th>2352829</th>\n",
       "      <td>https://blake-fangirl.tumblr.com/</td>\n",
       "      <td>[QUEEN]</td>\n",
       "    </tr>\n",
       "    <tr>\n",
       "      <th>1085612</th>\n",
       "      <td>https://masonman23.tumblr.com/</td>\n",
       "      <td>[Guy, Woman]</td>\n",
       "    </tr>\n",
       "    <tr>\n",
       "      <th>415729</th>\n",
       "      <td>https://epsilonmiwon.tumblr.com/</td>\n",
       "      <td>[boy]</td>\n",
       "    </tr>\n",
       "    <tr>\n",
       "      <th>...</th>\n",
       "      <td>...</td>\n",
       "      <td>...</td>\n",
       "    </tr>\n",
       "    <tr>\n",
       "      <th>2195426</th>\n",
       "      <td>http://galucx.tumblr.com/</td>\n",
       "      <td>[He/, Him]</td>\n",
       "    </tr>\n",
       "    <tr>\n",
       "      <th>4907835</th>\n",
       "      <td>https://catsandallthat.tumblr.com/</td>\n",
       "      <td>[them.]</td>\n",
       "    </tr>\n",
       "    <tr>\n",
       "      <th>2338327</th>\n",
       "      <td>https://shay-the-fallen-angel.tumblr.com/</td>\n",
       "      <td>[boy, trans, lesbian, female]</td>\n",
       "    </tr>\n",
       "    <tr>\n",
       "      <th>5542932</th>\n",
       "      <td>https://midnight-candy.tumblr.com/</td>\n",
       "      <td>[gay]</td>\n",
       "    </tr>\n",
       "    <tr>\n",
       "      <th>1932818</th>\n",
       "      <td>http://bayanrabis.tumblr.com/</td>\n",
       "      <td>[Her]</td>\n",
       "    </tr>\n",
       "    <tr>\n",
       "      <th>6006710</th>\n",
       "      <td>https://socialismandcoffee.tumblr.com/</td>\n",
       "      <td>[she/, her]</td>\n",
       "    </tr>\n",
       "    <tr>\n",
       "      <th>1233957</th>\n",
       "      <td>https://madimeow124.tumblr.com/</td>\n",
       "      <td>[he]</td>\n",
       "    </tr>\n",
       "    <tr>\n",
       "      <th>3911413</th>\n",
       "      <td>https://vampirewhispper.tumblr.com/</td>\n",
       "      <td>[She']</td>\n",
       "    </tr>\n",
       "    <tr>\n",
       "      <th>3747816</th>\n",
       "      <td>https://s4ltc1rcl3s.tumblr.com/</td>\n",
       "      <td>[They]</td>\n",
       "    </tr>\n",
       "    <tr>\n",
       "      <th>2062351</th>\n",
       "      <td>https://eggboy22.tumblr.com/</td>\n",
       "      <td>[nb, bisexual, pronouns]</td>\n",
       "    </tr>\n",
       "    <tr>\n",
       "      <th>1434067</th>\n",
       "      <td>http://lilplaty.tumblr.com/</td>\n",
       "      <td>[guy, trans]</td>\n",
       "    </tr>\n",
       "    <tr>\n",
       "      <th>1618601</th>\n",
       "      <td>http://thebiboybible.tumblr.com/</td>\n",
       "      <td>[bisexual, boy]</td>\n",
       "    </tr>\n",
       "    <tr>\n",
       "      <th>2858253</th>\n",
       "      <td>https://umistherechocolate.tumblr.com/</td>\n",
       "      <td>[man]</td>\n",
       "    </tr>\n",
       "    <tr>\n",
       "      <th>5630961</th>\n",
       "      <td>https://hvacsiouxfallscontractors.tumblr.com/</td>\n",
       "      <td>[they]</td>\n",
       "    </tr>\n",
       "    <tr>\n",
       "      <th>2227961</th>\n",
       "      <td>https://supernaturalpentaholic.tumblr.com/</td>\n",
       "      <td>[ace, trans, boy]</td>\n",
       "    </tr>\n",
       "    <tr>\n",
       "      <th>802207</th>\n",
       "      <td>https://calistorm209.tumblr.com/</td>\n",
       "      <td>[them.]</td>\n",
       "    </tr>\n",
       "    <tr>\n",
       "      <th>2445407</th>\n",
       "      <td>https://traee3113.tumblr.com/</td>\n",
       "      <td>[GIRL]</td>\n",
       "    </tr>\n",
       "    <tr>\n",
       "      <th>3282532</th>\n",
       "      <td>http://oliverpn98.tumblr.com/</td>\n",
       "      <td>[Trans]</td>\n",
       "    </tr>\n",
       "    <tr>\n",
       "      <th>629055</th>\n",
       "      <td>https://astudyinrevenclaw.tumblr.com/</td>\n",
       "      <td>[girl]</td>\n",
       "    </tr>\n",
       "    <tr>\n",
       "      <th>172109</th>\n",
       "      <td>http://l1863.tumblr.com/</td>\n",
       "      <td>[Man]</td>\n",
       "    </tr>\n",
       "    <tr>\n",
       "      <th>5629689</th>\n",
       "      <td>https://pinkspaceboii.tumblr.com/</td>\n",
       "      <td>[he/, him, trans, guy, gay]</td>\n",
       "    </tr>\n",
       "    <tr>\n",
       "      <th>4777961</th>\n",
       "      <td>https://shanman01.tumblr.com/</td>\n",
       "      <td>[bi]</td>\n",
       "    </tr>\n",
       "    <tr>\n",
       "      <th>101674</th>\n",
       "      <td>http://chvrgedj.tumblr.com/</td>\n",
       "      <td>[Her]</td>\n",
       "    </tr>\n",
       "    <tr>\n",
       "      <th>4868526</th>\n",
       "      <td>https://arkyboy420.tumblr.com/</td>\n",
       "      <td>[guy]</td>\n",
       "    </tr>\n",
       "    <tr>\n",
       "      <th>667026</th>\n",
       "      <td>https://empeacock.tumblr.com/</td>\n",
       "      <td>[Lesbian]</td>\n",
       "    </tr>\n",
       "    <tr>\n",
       "      <th>92895</th>\n",
       "      <td>http://wwwhatnatahbd.tumblr.com/</td>\n",
       "      <td>[boy]</td>\n",
       "    </tr>\n",
       "    <tr>\n",
       "      <th>5465635</th>\n",
       "      <td>https://luce--stellare.tumblr.com/</td>\n",
       "      <td>[bi]</td>\n",
       "    </tr>\n",
       "    <tr>\n",
       "      <th>572188</th>\n",
       "      <td>https://cupcakesandammo.tumblr.com/</td>\n",
       "      <td>[pansexual]</td>\n",
       "    </tr>\n",
       "    <tr>\n",
       "      <th>1191363</th>\n",
       "      <td>https://misanthropicagarjelly.tumblr.com/</td>\n",
       "      <td>[He/, him.]</td>\n",
       "    </tr>\n",
       "    <tr>\n",
       "      <th>5500620</th>\n",
       "      <td>https://ohgodreally.tumblr.com/</td>\n",
       "      <td>[female]</td>\n",
       "    </tr>\n",
       "  </tbody>\n",
       "</table>\n",
       "<p>200 rows × 2 columns</p>\n",
       "</div>"
      ],
      "text/plain": [
       "                                           tumblr_blog_url  \\\n",
       "2787979                         https://nawtig.tumblr.com/   \n",
       "3349673                http://soaringstarbolts.tumblr.com/   \n",
       "5429055                     https://subyeollie.tumblr.com/   \n",
       "5557095                     https://wrenweasly.tumblr.com/   \n",
       "5559083                 https://zeref-darkmoon.tumblr.com/   \n",
       "3590676               https://reginadellerose0.tumblr.com/   \n",
       "5137910               https://little-slut-baby.tumblr.com/   \n",
       "4156573                 https://publicmaker123.tumblr.com/   \n",
       "4363527                  https://fan-girl-lgbt.tumblr.com/   \n",
       "2108654               https://feet-and-tickles.tumblr.com/   \n",
       "3767758                     https://manuelands.tumblr.com/   \n",
       "4770830             https://kawaiipastelgirl21.tumblr.com/   \n",
       "2904450      http://friends-influence-monsters.tumblr.com/   \n",
       "4927853               https://piperrunsthehill.tumblr.com/   \n",
       "595597                        http://zappymain.tumblr.com/   \n",
       "3479965                         https://poe-ht.tumblr.com/   \n",
       "6232913                        https://wildnyx.tumblr.com/   \n",
       "140512                   http://aqueerwithptsd.tumblr.com/   \n",
       "4674353  https://sanshadowfirewolf360wolfstuff.tumblr.com/   \n",
       "3854819                    https://rvthschilds.tumblr.com/   \n",
       "2584347        http://obsessedwithoverthinking.tumblr.com/   \n",
       "4584835                https://nawtylilprncss3.tumblr.com/   \n",
       "3239528                      https://ohhowlewd.tumblr.com/   \n",
       "3326475                  https://kyliesmilie26.tumblr.com/   \n",
       "1815780                  https://iamtherealxne.tumblr.com/   \n",
       "985709              https://lonelytimetraveler.tumblr.com/   \n",
       "1530186                         http://astro-w.tumblr.com/   \n",
       "2352829                  https://blake-fangirl.tumblr.com/   \n",
       "1085612                     https://masonman23.tumblr.com/   \n",
       "415729                    https://epsilonmiwon.tumblr.com/   \n",
       "...                                                    ...   \n",
       "2195426                          http://galucx.tumblr.com/   \n",
       "4907835                 https://catsandallthat.tumblr.com/   \n",
       "2338327          https://shay-the-fallen-angel.tumblr.com/   \n",
       "5542932                 https://midnight-candy.tumblr.com/   \n",
       "1932818                      http://bayanrabis.tumblr.com/   \n",
       "6006710             https://socialismandcoffee.tumblr.com/   \n",
       "1233957                    https://madimeow124.tumblr.com/   \n",
       "3911413                https://vampirewhispper.tumblr.com/   \n",
       "3747816                    https://s4ltc1rcl3s.tumblr.com/   \n",
       "2062351                       https://eggboy22.tumblr.com/   \n",
       "1434067                        http://lilplaty.tumblr.com/   \n",
       "1618601                   http://thebiboybible.tumblr.com/   \n",
       "2858253             https://umistherechocolate.tumblr.com/   \n",
       "5630961      https://hvacsiouxfallscontractors.tumblr.com/   \n",
       "2227961         https://supernaturalpentaholic.tumblr.com/   \n",
       "802207                    https://calistorm209.tumblr.com/   \n",
       "2445407                      https://traee3113.tumblr.com/   \n",
       "3282532                      http://oliverpn98.tumblr.com/   \n",
       "629055               https://astudyinrevenclaw.tumblr.com/   \n",
       "172109                            http://l1863.tumblr.com/   \n",
       "5629689                  https://pinkspaceboii.tumblr.com/   \n",
       "4777961                      https://shanman01.tumblr.com/   \n",
       "101674                         http://chvrgedj.tumblr.com/   \n",
       "4868526                     https://arkyboy420.tumblr.com/   \n",
       "667026                       https://empeacock.tumblr.com/   \n",
       "92895                     http://wwwhatnatahbd.tumblr.com/   \n",
       "5465635                 https://luce--stellare.tumblr.com/   \n",
       "572188                 https://cupcakesandammo.tumblr.com/   \n",
       "1191363          https://misanthropicagarjelly.tumblr.com/   \n",
       "5500620                    https://ohgodreally.tumblr.com/   \n",
       "\n",
       "                gender/sexuality_terms  \n",
       "2787979                         [them]  \n",
       "3349673               [girl, princess]  \n",
       "5429055                     [he/, him]  \n",
       "5557095       [/they/, them, pronouns]  \n",
       "5559083                          [man]  \n",
       "3590676                        [Queen]  \n",
       "5137910                          [her]  \n",
       "4156573                          [Gay]  \n",
       "4363527         [girl, Gay, Ace, LGBT]  \n",
       "2108654                       [female]  \n",
       "3767758                         [girl]  \n",
       "4770830                   [trans, FTM]  \n",
       "2904450                    [girl, her]  \n",
       "4927853              [Bisexual, Woman]  \n",
       "595597    [non-binary, he/, him), gay]  \n",
       "3479965        [He/, Him, They/, Them]  \n",
       "6232913                           [he]  \n",
       "140512                           [guy]  \n",
       "4674353                [brother, they]  \n",
       "3854819             [boy, woman, them]  \n",
       "2584347                     [He/, Him]  \n",
       "4584835                         [girl]  \n",
       "3239528             [man, trans, LGBT]  \n",
       "3326475                         [girl]  \n",
       "1815780                          [guy]  \n",
       "985709           [Bisexual, She/, her]  \n",
       "1530186                    [she/, her]  \n",
       "2352829                        [QUEEN]  \n",
       "1085612                   [Guy, Woman]  \n",
       "415729                           [boy]  \n",
       "...                                ...  \n",
       "2195426                     [He/, Him]  \n",
       "4907835                        [them.]  \n",
       "2338327  [boy, trans, lesbian, female]  \n",
       "5542932                          [gay]  \n",
       "1932818                          [Her]  \n",
       "6006710                    [she/, her]  \n",
       "1233957                           [he]  \n",
       "3911413                         [She']  \n",
       "3747816                         [They]  \n",
       "2062351       [nb, bisexual, pronouns]  \n",
       "1434067                   [guy, trans]  \n",
       "1618601                [bisexual, boy]  \n",
       "2858253                          [man]  \n",
       "5630961                         [they]  \n",
       "2227961              [ace, trans, boy]  \n",
       "802207                         [them.]  \n",
       "2445407                         [GIRL]  \n",
       "3282532                        [Trans]  \n",
       "629055                          [girl]  \n",
       "172109                           [Man]  \n",
       "5629689    [he/, him, trans, guy, gay]  \n",
       "4777961                           [bi]  \n",
       "101674                           [Her]  \n",
       "4868526                          [guy]  \n",
       "667026                       [Lesbian]  \n",
       "92895                            [boy]  \n",
       "5465635                           [bi]  \n",
       "572188                     [pansexual]  \n",
       "1191363                    [He/, him.]  \n",
       "5500620                       [female]  \n",
       "\n",
       "[200 rows x 2 columns]"
      ]
     },
     "execution_count": 5,
     "metadata": {},
     "output_type": "execute_result"
    }
   ],
   "source": [
    "descs.loc[descs['gender/sexuality']==True, ['tumblr_blog_url', 'gender/sexuality_terms']].sample(200)"
   ]
  },
  {
   "cell_type": "markdown",
   "metadata": {},
   "source": [
    "# Get tumblog IDs of users who give hegemonic gender/sexuality labels"
   ]
  },
  {
   "cell_type": "code",
   "execution_count": 2,
   "metadata": {},
   "outputs": [
    {
     "name": "stdout",
     "output_type": "stream",
     "text": [
      "5226750\n",
      "Index(['tumblog_id', 'activity_time_epoch', 'tumblr_blog_name',\n",
      "       'tumblr_blog_title', 'tumblr_blog_description', 'tumblr_blog_url',\n",
      "       'tumblr_blog_theme', 'is_group_blog', 'is_primary', 'is_private',\n",
      "       'created_time_epoch', 'updated_time_epoch', 'timezone', 'language',\n",
      "       'blog_classifier', 'generated_date', 'parsed_blog_description',\n",
      "       'age_terms', 'age', 'ethnicity/nationality_terms',\n",
      "       'ethnicity/nationality', 'fandoms_terms', 'fandoms', 'gender_terms',\n",
      "       'gender', 'gender/sexuality_terms', 'gender/sexuality',\n",
      "       'interests_terms', 'interests', 'location_terms', 'location',\n",
      "       'personality type_terms', 'personality type', 'pronouns_terms',\n",
      "       'pronouns', 'relationship status_terms', 'relationship status',\n",
      "       'roleplay_terms', 'roleplay', 'roleplay/fandoms_terms',\n",
      "       'roleplay/fandoms', 'sexual orientation_terms', 'sexual orientation',\n",
      "       'weight_terms', 'weight', 'ethnicity/nationality_hegemonic_present',\n",
      "       'gender_hegemonic_present', 'pronouns_hegemonic_present',\n",
      "       'sexual orientation_hegemonic_present',\n",
      "       'ethnicity/nationality_opposite_present', 'gender_opposite_present',\n",
      "       'pronouns_opposite_present', 'sexual orientation_opposite_present',\n",
      "       'gender/sexuality_opposite_present',\n",
      "       'gender/sexuality_hegemonic_present'],\n",
      "      dtype='object')\n"
     ]
    }
   ],
   "source": [
    "# Load hegemonic annotations\n",
    "data = pd.read_pickle(os.path.join(data_dirpath, 'blog_descriptions_recent100.pkl')) # should annotate and use full set\n",
    "print(len(data))\n",
    "print(data.columns)"
   ]
  },
  {
   "cell_type": "code",
   "execution_count": 3,
   "metadata": {},
   "outputs": [
    {
     "data": {
      "text/plain": [
       "69381"
      ]
     },
     "execution_count": 3,
     "metadata": {},
     "output_type": "execute_result"
    }
   ],
   "source": [
    "heg_gs_label = data[data['gender/sexuality_hegemonic_present'] == True]\n",
    "len(heg_gs_label)"
   ]
  },
  {
   "cell_type": "code",
   "execution_count": 4,
   "metadata": {},
   "outputs": [
    {
     "data": {
      "text/plain": [
       "69381"
      ]
     },
     "execution_count": 4,
     "metadata": {},
     "output_type": "execute_result"
    }
   ],
   "source": [
    "ids = heg_gs_label['tumblog_id'].tolist()\n",
    "len(ids)"
   ]
  },
  {
   "cell_type": "code",
   "execution_count": 6,
   "metadata": {},
   "outputs": [],
   "source": [
    "with open(os.path.join(data_dirpath, 'hegemonic_gender_sexuality_tumblog_ids.txt'), 'w') as f:\n",
    "    for i in sorted(ids):\n",
    "        f.write(f'{i}\\n')"
   ]
  },
  {
   "cell_type": "markdown",
   "metadata": {},
   "source": [
    "# Measure proportion of hegemonic labels"
   ]
  },
  {
   "cell_type": "markdown",
   "metadata": {},
   "source": [
    "## Define set of hegemonic labels"
   ]
  },
  {
   "cell_type": "code",
   "execution_count": 5,
   "metadata": {},
   "outputs": [],
   "source": [
    "hegemonic_labels = {\n",
    "    'gender': [\n",
    "        r'\\bcis',\n",
    "    ],\n",
    "    'sexual orientation': [\n",
    "        'straight', r'\\bcishet',\n",
    "    ],\n",
    "    'pronouns': [ # Should be better about any type of delimiter or no delimiter with these\n",
    "        'she/her',\n",
    "        'she her',\n",
    "        'he/him',\n",
    "        'he him',\n",
    "    ],\n",
    "    'ethnicity/nationality': [\n",
    "        'white', 'caucasian',\n",
    "    ],\n",
    "}\n",
    "\n",
    "opp_hegemonic_labels = {\n",
    "    'gender': [\n",
    "        'trans', 'ftm', 'mtf',\n",
    "        'nonbinary', r'non-binary', r'non binary', '\\bnb\\b', '\\bbigender', r'\\bagender', r'neutrois', \n",
    "        r'genderfluid', r'gender-fluid',\n",
    "        r'lgbt', r'\\bqueer\\b',\n",
    "    ],\n",
    "    'sexual orientation': [\n",
    "        r'gay', 'r\\bhomo\\b',\n",
    "        r'lesbian',\n",
    "        r'bisexual', r'\\bbi\\b', r'bisexual', r'pansexual', r'\\bpan\\b', r'\\bwlw\\b', r'\\bmlm\\b',\n",
    "        r'lgbt', r'\\bqueer\\b',\n",
    "        r'\\bace\\b', r'\\basexual', r'aro-ace', r'aro/ace',\n",
    "        r'demisexual',\n",
    "    ],\n",
    "    'pronouns': [ # Should be better about any type of delimiter or no delimiter with these\n",
    "        r'(?:\\W|\\b)they(?:\\W|\\b)', r'(?:\\W|\\b)them(?:\\W|\\b)',\n",
    "        r'(?:\\W|\\b)xe(?:\\W|\\b)', r'(?:\\W|\\b)xem(?:\\W|\\b)',\n",
    "        r'theythem',\n",
    "    ],\n",
    "    'ethnicity/nationality': [\n",
    "        r'black', r'african(-| )american', r'afro(-| )american',\n",
    "        r'latin', r'afrolatin',\n",
    "        r'cuban', r'mexican',\n",
    "        r'asian', r'chinese', r'korean', r'japanese', r'indian',\n",
    "    ],\n",
    "}\n",
    "\n",
    "hegemonic_excl_terms = {\n",
    "    'gender': [\n",
    "        r\"isn't a cishet\",\n",
    "        r'if ur a cishet',\n",
    "        r\"don't call me: cishet\",\n",
    "        r\"cishet aces\",\n",
    "        r\"anti-cishet\",\n",
    "        r\"cishets begone\",\n",
    "        r\"cishet scum\",\n",
    "        r\"hate cishets\",\n",
    "        r\"cishet sims\",\n",
    "        r\"isntcishet\",\n",
    "        r\"cishets\",\n",
    "        r\"you are white or cishet\",\n",
    "        r\"cishet men\",\n",
    "        r\"cishet males\",\n",
    "        r\"cishet guys\",\n",
    "        r\"terf/twerf/cishet/man\",\n",
    "        r\"if cishet\",\n",
    "        r\"not cishet\",\n",
    "        r\"isn't a cishet\",\n",
    "        r'if ur a cishet',\n",
    "    ],\n",
    "    'pronouns': [\n",
    "        'they/them',\n",
    "    ],\n",
    "    'ethnicity/nationality': [\n",
    "        r'white lies',\n",
    "        r'snow white',\n",
    "        r'great white',\n",
    "    ],\n",
    "}\n",
    "hegemonic_excl_terms['sexual orientation'] = hegemonic_excl_terms['gender']"
   ]
  },
  {
   "cell_type": "code",
   "execution_count": null,
   "metadata": {},
   "outputs": [],
   "source": [
    "pd.set_option('display.max_colwidth', -1)\n",
    "pd.set_option('display.max_rows', 1000)"
   ]
  },
  {
   "cell_type": "code",
   "execution_count": null,
   "metadata": {},
   "outputs": [],
   "source": [
    "# Load annotated data\n",
    "# data = pd.read_pickle(os.path.join(data_dirpath, 'blog_descriptions_recent100_100posts.pkl'))\n",
    "data = pd.read_pickle(os.path.join(data_dirpath, 'blog_descriptions_recent100.pkl'))\n",
    "print(len(data))\n",
    "data.columns"
   ]
  },
  {
   "cell_type": "code",
   "execution_count": null,
   "metadata": {
    "scrolled": true
   },
   "outputs": [],
   "source": [
    "# Basic stats\n",
    "cats = ['age', 'location', 'gender', 'sexual orientation', 'pronouns', \n",
    "        'personality type', 'ethnicity/nationality', 'relationship status', 'roleplay',\n",
    "        'fandoms', 'interests', 'weight',\n",
    "        'gender/sexuality', 'roleplay/fandoms']\n",
    "\n",
    "outlines = []\n",
    "\n",
    "for col in cats:\n",
    "    annotated = sum(data[col])\n",
    "    outlines.append([col, annotated, annotated/len(data) * 100])\n",
    "#     print(f\"{col}: {annotated}\\t{annotated/len(data): .1%}\")\n",
    "\n",
    "# No annotations\n",
    "any_annote = sum([any(line) for line in list(zip(*[data[col] for col in cats]))])\n",
    "no_annote = len(data) - any_annote\n",
    "# print()\n",
    "# print(f'# with no annotations: {no_annote}\\t{no_annote/len(data): .1%}')\n",
    "outlines.append(['none', no_annote, no_annote/len(data) * 100])\n",
    "\n",
    "table = pd.DataFrame(outlines, columns=['category', 'n_instances', '% descriptions'])\\\n",
    "        .sort_values('% descriptions', ascending=False).reset_index(drop=True)\n",
    "table"
   ]
  },
  {
   "cell_type": "markdown",
   "metadata": {},
   "source": [
    "## Annotate hegemonic, opposite labels"
   ]
  },
  {
   "cell_type": "code",
   "execution_count": null,
   "metadata": {},
   "outputs": [],
   "source": [
    "# Annotate for hegemonic, opposite labels\n",
    "for cat, terms in sorted(hegemonic_labels.items()):\n",
    "    print(cat)\n",
    "#     data[f'{cat}_hegemonic_present'] = data['parsed_blog_description'].map(lambda x: any(re.search(t, x) for t in terms) and \\\n",
    "#                                                                           not any(re.search(e, x) for e in hegemonic_excl_terms[cat]))\n",
    "    data[f'{cat}_hegemonic_present'] = list(map(lambda x: any(re.search(t, x) for t in terms) and not any(re.search(e, x) for e in hegemonic_excl_terms[cat]),\n",
    "                                                                                                          data['parsed_blog_description']))\n",
    "    \n",
    "print()\n",
    "for cat, terms in sorted(opp_hegemonic_labels.items()):\n",
    "    print(cat)\n",
    "#     data[f'{cat}_opposite_present'] = data['parsed_blog_description'].map(lambda x: any(re.search(t, x) for t in terms))\n",
    "    data[f'{cat}_opposite_present'] = list(map(lambda x: any(re.search(t, x) for t in terms), tqdm(data['parsed_blog_description'].tolist())))"
   ]
  },
  {
   "cell_type": "code",
   "execution_count": null,
   "metadata": {},
   "outputs": [],
   "source": [
    "# Combine gender, sexual orientation and pronouns to annonate for gender/sexuality/hegemonic\n",
    "data['gender/sexuality_opposite_present'] = [g or s or p for (g,s,p) in zip(*[data[f'{cat}_opposite_present'] for cat in ['gender', 'sexual orientation', 'pronouns']])]\n",
    "print(sum(data['gender/sexuality_opposite_present']))\n",
    "data['gender/sexuality_hegemonic_present'] = [g or s or p for (g,s,p) in zip(*[data[f'{cat}_hegemonic_present'] for cat in ['gender', 'sexual orientation', 'pronouns']])]\n",
    "print(sum(data['gender/sexuality_hegemonic_present']))"
   ]
  },
  {
   "cell_type": "code",
   "execution_count": null,
   "metadata": {},
   "outputs": [],
   "source": [
    "# Save hegemonic annotations\n",
    "data.to_pickle(os.path.join(data_dirpath, 'blog_descriptions_recent100.pkl'))"
   ]
  },
  {
   "cell_type": "code",
   "execution_count": null,
   "metadata": {
    "scrolled": true
   },
   "outputs": [],
   "source": [
    "# Count hegemonic labels\n",
    "hegemonic_count = {}\n",
    "cats = list(hegemonic_labels.keys()) + ['gender/sexuality']\n",
    "for cat in cats:\n",
    "    hegemonic_count[cat] = len(data[(data[cat]==True) & (data[f'{cat}_hegemonic_present'] == True)])\n",
    "    \n",
    "# Count opposite labels\n",
    "opp_count = {}\n",
    "for cat in cats:\n",
    "    opp_count[cat] = len(data[(data[cat]==True) & (data[f'{cat}_opposite_present'] == True)])\n",
    "\n",
    "# Build table of results\n",
    "outlines = []\n",
    "for cat in cats:\n",
    "    given_count = table.loc[table['category']==cat, 'n_instances'].item()\n",
    "    outlines.append([cat, given_count, hegemonic_count[cat], hegemonic_count[cat]/given_count * 100,\n",
    "                    opp_count[cat], opp_count[cat]/given_count * 100])\n",
    "    \n",
    "results = pd.DataFrame(outlines, columns=['category', 'given number', 'hegemonic number', 'hegemonic %', \n",
    "                                         'opposite number', 'opposite %'])\n",
    "results"
   ]
  },
  {
   "cell_type": "markdown",
   "metadata": {},
   "source": [
    "## 1-time"
   ]
  },
  {
   "cell_type": "code",
   "execution_count": null,
   "metadata": {},
   "outputs": [],
   "source": [
    "# Check for certain terms\n",
    "# term = r'\\bhet\\b'\n",
    "term = r'\\basdfalskdjf ;alkdjs f;lakjsa\\b'\n",
    "term_rows = data.loc[data['parsed_blog_description'].map(lambda x: True if re.search(term, x) is not None else False), ['parsed_blog_description', 'gender', 'sexual orientation']]\n",
    "print(len(term_rows))\n",
    "term_rows"
   ]
  },
  {
   "cell_type": "code",
   "execution_count": null,
   "metadata": {},
   "outputs": [],
   "source": [
    "min(term_rows['gender'])"
   ]
  },
  {
   "cell_type": "markdown",
   "metadata": {},
   "source": [
    "# See which factors are associated with giving a hegemonic label"
   ]
  },
  {
   "cell_type": "markdown",
   "metadata": {},
   "source": [
    "## Count how many hegemonic labels are given w and wo non-hegemonic labels"
   ]
  },
  {
   "cell_type": "code",
   "execution_count": 2,
   "metadata": {},
   "outputs": [
    {
     "name": "stdout",
     "output_type": "stream",
     "text": [
      "5226750\n"
     ]
    },
    {
     "data": {
      "text/plain": [
       "Index(['tumblog_id', 'activity_time_epoch', 'tumblr_blog_name',\n",
       "       'tumblr_blog_title', 'tumblr_blog_description', 'tumblr_blog_url',\n",
       "       'tumblr_blog_theme', 'is_group_blog', 'is_primary', 'is_private',\n",
       "       'created_time_epoch', 'updated_time_epoch', 'timezone', 'language',\n",
       "       'blog_classifier', 'generated_date', 'parsed_blog_description',\n",
       "       'age_terms', 'age', 'ethnicity/nationality_terms',\n",
       "       'ethnicity/nationality', 'fandoms_terms', 'fandoms', 'gender_terms',\n",
       "       'gender', 'gender/sexuality_terms', 'gender/sexuality',\n",
       "       'interests_terms', 'interests', 'location_terms', 'location',\n",
       "       'personality type_terms', 'personality type', 'pronouns_terms',\n",
       "       'pronouns', 'relationship status_terms', 'relationship status',\n",
       "       'roleplay_terms', 'roleplay', 'roleplay/fandoms_terms',\n",
       "       'roleplay/fandoms', 'sexual orientation_terms', 'sexual orientation',\n",
       "       'weight_terms', 'weight', 'ethnicity/nationality_hegemonic_present',\n",
       "       'gender_hegemonic_present', 'pronouns_hegemonic_present',\n",
       "       'sexual orientation_hegemonic_present',\n",
       "       'ethnicity/nationality_opposite_present', 'gender_opposite_present',\n",
       "       'pronouns_opposite_present', 'sexual orientation_opposite_present',\n",
       "       'gender/sexuality_opposite_present',\n",
       "       'gender/sexuality_hegemonic_present'],\n",
       "      dtype='object')"
      ]
     },
     "execution_count": 2,
     "metadata": {},
     "output_type": "execute_result"
    }
   ],
   "source": [
    "# Load data\n",
    "data = pd.read_pickle(os.path.join(data_dirpath, 'blog_descriptions_recent100.pkl'))\n",
    "print(len(data))\n",
    "data.columns"
   ]
  },
  {
   "cell_type": "code",
   "execution_count": 3,
   "metadata": {},
   "outputs": [
    {
     "name": "stdout",
     "output_type": "stream",
     "text": [
      "['ethnicity/nationality_hegemonic_present', 'gender_hegemonic_present', 'pronouns_hegemonic_present', 'sexual orientation_hegemonic_present']\n",
      "['ethnicity/nationality_opposite_present', 'gender_opposite_present', 'pronouns_opposite_present', 'sexual orientation_opposite_present']\n"
     ]
    }
   ],
   "source": [
    "hegemonic_cols = [col for col in data.columns.tolist() if 'hegemonic' in col]\n",
    "hegemonic_cols = [col for col in hegemonic_cols if col != 'gender/sexuality_hegemonic_present']\n",
    "print(hegemonic_cols)\n",
    "\n",
    "opposite_cols = [col for col in data.columns.tolist() if 'opposite' in col]\n",
    "opposite_cols = [col for col in opposite_cols if col != 'gender/sexuality_opposite_present']\n",
    "print(opposite_cols)"
   ]
  },
  {
   "cell_type": "code",
   "execution_count": 5,
   "metadata": {},
   "outputs": [],
   "source": [
    "mask = [any(t) for t in zip(*[data[col] for col in opposite_cols])]\n",
    "opp = data[mask]\n",
    "count_opp = len(opp)\n",
    "count_opp"
   ]
  },
  {
   "cell_type": "code",
   "execution_count": 9,
   "metadata": {},
   "outputs": [
    {
     "data": {
      "text/plain": [
       "4949845"
      ]
     },
     "execution_count": 9,
     "metadata": {},
     "output_type": "execute_result"
    }
   ],
   "source": [
    "count_nonopp = len(data) - count_opp\n",
    "count_nonopp"
   ]
  },
  {
   "cell_type": "code",
   "execution_count": 10,
   "metadata": {},
   "outputs": [
    {
     "data": {
      "text/plain": [
       "0.011584201121449257"
      ]
     },
     "execution_count": 10,
     "metadata": {},
     "output_type": "execute_result"
    }
   ],
   "source": [
    "len(all_hegemonic)/count_nonopp"
   ]
  },
  {
   "cell_type": "code",
   "execution_count": 7,
   "metadata": {},
   "outputs": [
    {
     "data": {
      "text/plain": [
       "81256"
      ]
     },
     "execution_count": 7,
     "metadata": {},
     "output_type": "execute_result"
    }
   ],
   "source": [
    "mask = [any(t) for t in zip(*[data[col] for col in hegemonic_cols])]\n",
    "any_hegemonic = data[mask]\n",
    "len(any_hegemonic)"
   ]
  },
  {
   "cell_type": "code",
   "execution_count": 8,
   "metadata": {},
   "outputs": [
    {
     "data": {
      "text/plain": [
       "57340"
      ]
     },
     "execution_count": 8,
     "metadata": {},
     "output_type": "execute_result"
    }
   ],
   "source": [
    "mask = [not any(t) for t in zip(*[any_hegemonic[col] for col in opposite_cols])]\n",
    "all_hegemonic = any_hegemonic[mask]\n",
    "len(all_hegemonic)"
   ]
  },
  {
   "cell_type": "code",
   "execution_count": null,
   "metadata": {},
   "outputs": [],
   "source": [
    "len(all_hegemonic)/len(any_hegemonic)"
   ]
  }
 ],
 "metadata": {
  "kernelspec": {
   "display_name": "Python 3",
   "language": "python",
   "name": "python3"
  },
  "language_info": {
   "codemirror_mode": {
    "name": "ipython",
    "version": 3
   },
   "file_extension": ".py",
   "mimetype": "text/x-python",
   "name": "python",
   "nbconvert_exporter": "python",
   "pygments_lexer": "ipython3",
   "version": "3.6.4"
  }
 },
 "nbformat": 4,
 "nbformat_minor": 2
}
