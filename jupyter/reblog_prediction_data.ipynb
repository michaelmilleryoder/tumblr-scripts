{
 "cells": [
  {
   "cell_type": "code",
   "execution_count": 2,
   "metadata": {},
   "outputs": [],
   "source": [
    "import pandas as pd\n",
    "import os\n",
    "# data_dirpath = '/usr2/mamille2/tumblr/data' # erebor\n",
    "data_dirpath = '/usr0/home/mamille2/tumblr/data' # misty"
   ]
  },
  {
   "cell_type": "markdown",
   "metadata": {},
   "source": [
    "# See if can use data that already have for reblog prediction"
   ]
  },
  {
   "cell_type": "markdown",
   "metadata": {},
   "source": [
    "## Load followers"
   ]
  },
  {
   "cell_type": "code",
   "execution_count": 2,
   "metadata": {
    "scrolled": true
   },
   "outputs": [
    {
     "name": "stdout",
     "output_type": "stream",
     "text": [
      "5226750\n",
      "Index(['tumblog_id', 'activity_time_epoch', 'tumblr_blog_name',\n",
      "       'tumblr_blog_title', 'tumblr_blog_description', 'tumblr_blog_url',\n",
      "       'tumblr_blog_theme', 'is_group_blog', 'is_primary', 'is_private',\n",
      "       'created_time_epoch', 'updated_time_epoch', 'timezone', 'language',\n",
      "       'blog_classifier', 'generated_date', 'parsed_blog_description',\n",
      "       'age_terms', 'age', 'ethnicity/nationality_terms',\n",
      "       'ethnicity/nationality', 'fandoms_terms', 'fandoms', 'gender_terms',\n",
      "       'gender', 'gender/sexuality_terms', 'gender/sexuality',\n",
      "       'interests_terms', 'interests', 'location_terms', 'location',\n",
      "       'personality type_terms', 'personality type', 'pronouns_terms',\n",
      "       'pronouns', 'relationship status_terms', 'relationship status',\n",
      "       'roleplay_terms', 'roleplay', 'roleplay/fandoms_terms',\n",
      "       'roleplay/fandoms', 'sexual orientation_terms', 'sexual orientation',\n",
      "       'weight_terms', 'weight', 'ethnicity/nationality_hegemonic_present',\n",
      "       'gender_hegemonic_present', 'pronouns_hegemonic_present',\n",
      "       'sexual orientation_hegemonic_present',\n",
      "       'ethnicity/nationality_opposite_present', 'gender_opposite_present',\n",
      "       'pronouns_opposite_present', 'sexual orientation_opposite_present',\n",
      "       'gender/sexuality_opposite_present',\n",
      "       'gender/sexuality_hegemonic_present'],\n",
      "      dtype='object')\n"
     ]
    }
   ],
   "source": [
    "follower_data = pd.read_pickle(os.path.join(data_dirpath, 'blog_descriptions_recent100.pkl'))\n",
    "print(len(follower_data))\n",
    "print(follower_data.columns)"
   ]
  },
  {
   "cell_type": "markdown",
   "metadata": {},
   "source": [
    "## Load followees"
   ]
  },
  {
   "cell_type": "code",
   "execution_count": 2,
   "metadata": {},
   "outputs": [
    {
     "name": "stdout",
     "output_type": "stream",
     "text": [
      "329702060\n",
      "Index(['tumblog_id', 'followed_tumblog_id', 'activity_time_epoch'], dtype='object')\n"
     ]
    }
   ],
   "source": [
    "follow_data = pd.read_pickle(os.path.join(data_dirpath, 'follow_data_recent100.pkl'))\n",
    "print(len(follow_data))\n",
    "print(follow_data.columns)"
   ]
  },
  {
   "cell_type": "markdown",
   "metadata": {},
   "source": [
    "## Get followees (now a script)"
   ]
  },
  {
   "cell_type": "code",
   "execution_count": 11,
   "metadata": {},
   "outputs": [
    {
     "name": "stdout",
     "output_type": "stream",
     "text": [
      "100000\n",
      "Index(['tumblog_id', 'followed_tumblog_id', 'activity_time_epoch'], dtype='object')\n"
     ]
    }
   ],
   "source": [
    "# Test follow structure\n",
    "\n",
    "follow_fpath = '/usr2/kmaki/tumblr/follow_network.tsv' # 99G\n",
    "chunksize = int(1e5)\n",
    "hdr = ['tumblog_id', 'followed_tumblog_id', 'activity_time_epoch']\n",
    "chunked = pd.read_csv(follow_fpath, sep='\\t', header=None, names=hdr, iterator=True)\n",
    "follow_data = chunked.get_chunk(chunksize)\n",
    "print(len(follow_data))\n",
    "print(follow_data.columns)"
   ]
  },
  {
   "cell_type": "code",
   "execution_count": 3,
   "metadata": {},
   "outputs": [
    {
     "data": {
      "application/vnd.jupyter.widget-view+json": {
       "model_id": "480e268fe4af47a49ade6769e73fe850",
       "version_major": 2,
       "version_minor": 0
      },
      "text/plain": [
       "HBox(children=(IntProgress(value=0, max=32201), HTML(value='')))"
      ]
     },
     "metadata": {},
     "output_type": "display_data"
    },
    {
     "name": "stdout",
     "output_type": "stream",
     "text": [
      "\n",
      "100861970\n"
     ]
    },
    {
     "data": {
      "text/plain": [
       "3044188"
      ]
     },
     "execution_count": 3,
     "metadata": {},
     "output_type": "execute_result"
    }
   ],
   "source": [
    "# See what follow structure can find for set of followers\n",
    "from tqdm import tqdm_notebook as tqdm\n",
    "import numpy as np\n",
    "\n",
    "follow_fpath = '/usr2/kmaki/tumblr/follow_network.tsv' # 99G\n",
    "chunksize = int(1e5)\n",
    "total_iters = int(np.ceil(3220088178 / chunksize))\n",
    "hdr = ['tumblog_id', 'followed_tumblog_id', 'activity_time_epoch']\n",
    "chunked = pd.read_csv(follow_fpath, sep='\\t', header=None, names=hdr, chunksize=chunksize)\n",
    "\n",
    "stx_follower_ids = set()\n",
    "# follower_ids = follower_data['tumblog_id'].tolist()\n",
    "# followee_data = []\n",
    "\n",
    "for chunk in tqdm(chunked, total=total_iters):\n",
    "    stx_follower_ids |= set(chunk['tumblog_id'].unique())\n",
    "#     followee_data.append(chunk[chunk['tumblog_id'].isin(follower_ids)].values)\n",
    "    \n",
    "    \n",
    "print(len(stx_follower_ids))\n",
    "\n",
    "follower_ids = stx_follower_ids.intersection(set(follower_data['tumblog_id']))\n",
    "len(follower_ids) # Have at least one piece of follow information for these users"
   ]
  },
  {
   "cell_type": "code",
   "execution_count": 5,
   "metadata": {},
   "outputs": [],
   "source": [
    "# Save out follower ids\n",
    "with open(os.path.join(data_dirpath, 'halfday_followers_with_descriptions.txt'), 'w') as f:\n",
    "    for i in sorted(follower_ids):\n",
    "        f.write(f'{i}\\n')"
   ]
  },
  {
   "cell_type": "code",
   "execution_count": 4,
   "metadata": {
    "scrolled": true
   },
   "outputs": [
    {
     "data": {
      "application/vnd.jupyter.widget-view+json": {
       "model_id": "1b82634060224071b21ecf40e8ace254",
       "version_major": 2,
       "version_minor": 0
      },
      "text/plain": [
       "HBox(children=(IntProgress(value=0, max=32201), HTML(value='')))"
      ]
     },
     "metadata": {},
     "output_type": "display_data"
    },
    {
     "ename": "KeyboardInterrupt",
     "evalue": "",
     "output_type": "error",
     "traceback": [
      "\u001b[0;31m---------------------------------------------------------------------------\u001b[0m",
      "\u001b[0;31mKeyboardInterrupt\u001b[0m                         Traceback (most recent call last)",
      "\u001b[0;32m<ipython-input-4-68b6442afc57>\u001b[0m in \u001b[0;36m<module>\u001b[0;34m()\u001b[0m\n\u001b[1;32m      9\u001b[0m \u001b[0;34m\u001b[0m\u001b[0m\n\u001b[1;32m     10\u001b[0m \u001b[0;32mfor\u001b[0m \u001b[0mchunk\u001b[0m \u001b[0;32min\u001b[0m \u001b[0mtqdm\u001b[0m\u001b[0;34m(\u001b[0m\u001b[0mchunked\u001b[0m\u001b[0;34m,\u001b[0m \u001b[0mtotal\u001b[0m\u001b[0;34m=\u001b[0m\u001b[0mtotal_iters\u001b[0m\u001b[0;34m)\u001b[0m\u001b[0;34m:\u001b[0m\u001b[0;34m\u001b[0m\u001b[0m\n\u001b[0;32m---> 11\u001b[0;31m     \u001b[0mfollowee_data\u001b[0m\u001b[0;34m.\u001b[0m\u001b[0mappend\u001b[0m\u001b[0;34m(\u001b[0m\u001b[0mchunk\u001b[0m\u001b[0;34m[\u001b[0m\u001b[0mchunk\u001b[0m\u001b[0;34m[\u001b[0m\u001b[0;34m'tumblog_id'\u001b[0m\u001b[0;34m]\u001b[0m\u001b[0;34m.\u001b[0m\u001b[0misin\u001b[0m\u001b[0;34m(\u001b[0m\u001b[0mfollower_ids\u001b[0m\u001b[0;34m)\u001b[0m\u001b[0;34m]\u001b[0m\u001b[0;34m.\u001b[0m\u001b[0mvalues\u001b[0m\u001b[0;34m)\u001b[0m\u001b[0;34m\u001b[0m\u001b[0m\n\u001b[0m\u001b[1;32m     12\u001b[0m \u001b[0;34m\u001b[0m\u001b[0m\n\u001b[1;32m     13\u001b[0m \u001b[0mfollower_follow_data\u001b[0m \u001b[0;34m=\u001b[0m \u001b[0mpd\u001b[0m\u001b[0;34m.\u001b[0m\u001b[0mDataFrame\u001b[0m\u001b[0;34m(\u001b[0m\u001b[0mnp\u001b[0m\u001b[0;34m.\u001b[0m\u001b[0mvstack\u001b[0m\u001b[0;34m(\u001b[0m\u001b[0mfollowee_data\u001b[0m\u001b[0;34m)\u001b[0m\u001b[0;34m,\u001b[0m \u001b[0mcolumns\u001b[0m\u001b[0;34m=\u001b[0m\u001b[0mhdr\u001b[0m\u001b[0;34m)\u001b[0m\u001b[0;34m\u001b[0m\u001b[0m\n",
      "\u001b[0;32m~/anaconda3/lib/python3.6/site-packages/pandas/core/series.py\u001b[0m in \u001b[0;36misin\u001b[0;34m(self, values)\u001b[0m\n\u001b[1;32m   2801\u001b[0m \u001b[0;34m\u001b[0m\u001b[0m\n\u001b[1;32m   2802\u001b[0m         \"\"\"\n\u001b[0;32m-> 2803\u001b[0;31m         \u001b[0mresult\u001b[0m \u001b[0;34m=\u001b[0m \u001b[0malgorithms\u001b[0m\u001b[0;34m.\u001b[0m\u001b[0misin\u001b[0m\u001b[0;34m(\u001b[0m\u001b[0m_values_from_object\u001b[0m\u001b[0;34m(\u001b[0m\u001b[0mself\u001b[0m\u001b[0;34m)\u001b[0m\u001b[0;34m,\u001b[0m \u001b[0mvalues\u001b[0m\u001b[0;34m)\u001b[0m\u001b[0;34m\u001b[0m\u001b[0m\n\u001b[0m\u001b[1;32m   2804\u001b[0m         \u001b[0;32mreturn\u001b[0m \u001b[0mself\u001b[0m\u001b[0;34m.\u001b[0m\u001b[0m_constructor\u001b[0m\u001b[0;34m(\u001b[0m\u001b[0mresult\u001b[0m\u001b[0;34m,\u001b[0m \u001b[0mindex\u001b[0m\u001b[0;34m=\u001b[0m\u001b[0mself\u001b[0m\u001b[0;34m.\u001b[0m\u001b[0mindex\u001b[0m\u001b[0;34m)\u001b[0m\u001b[0;34m.\u001b[0m\u001b[0m__finalize__\u001b[0m\u001b[0;34m(\u001b[0m\u001b[0mself\u001b[0m\u001b[0;34m)\u001b[0m\u001b[0;34m\u001b[0m\u001b[0m\n\u001b[1;32m   2805\u001b[0m \u001b[0;34m\u001b[0m\u001b[0m\n",
      "\u001b[0;32m~/anaconda3/lib/python3.6/site-packages/pandas/core/algorithms.py\u001b[0m in \u001b[0;36misin\u001b[0;34m(comps, values)\u001b[0m\n\u001b[1;32m    433\u001b[0m             \u001b[0mcomps\u001b[0m \u001b[0;34m=\u001b[0m \u001b[0mcomps\u001b[0m\u001b[0;34m.\u001b[0m\u001b[0mastype\u001b[0m\u001b[0;34m(\u001b[0m\u001b[0mobject\u001b[0m\u001b[0;34m)\u001b[0m\u001b[0;34m\u001b[0m\u001b[0m\n\u001b[1;32m    434\u001b[0m \u001b[0;34m\u001b[0m\u001b[0m\n\u001b[0;32m--> 435\u001b[0;31m     \u001b[0;32mreturn\u001b[0m \u001b[0mf\u001b[0m\u001b[0;34m(\u001b[0m\u001b[0mcomps\u001b[0m\u001b[0;34m,\u001b[0m \u001b[0mvalues\u001b[0m\u001b[0;34m)\u001b[0m\u001b[0;34m\u001b[0m\u001b[0m\n\u001b[0m\u001b[1;32m    436\u001b[0m \u001b[0;34m\u001b[0m\u001b[0m\n\u001b[1;32m    437\u001b[0m \u001b[0;34m\u001b[0m\u001b[0m\n",
      "\u001b[0;32m~/anaconda3/lib/python3.6/site-packages/pandas/core/algorithms.py\u001b[0m in \u001b[0;36m<lambda>\u001b[0;34m(x, y)\u001b[0m\n\u001b[1;32m    418\u001b[0m             \u001b[0mvalues\u001b[0m \u001b[0;34m=\u001b[0m \u001b[0mvalues\u001b[0m\u001b[0;34m.\u001b[0m\u001b[0mastype\u001b[0m\u001b[0;34m(\u001b[0m\u001b[0;34m'int64'\u001b[0m\u001b[0;34m,\u001b[0m \u001b[0mcopy\u001b[0m\u001b[0;34m=\u001b[0m\u001b[0;32mFalse\u001b[0m\u001b[0;34m)\u001b[0m\u001b[0;34m\u001b[0m\u001b[0m\n\u001b[1;32m    419\u001b[0m             \u001b[0mcomps\u001b[0m \u001b[0;34m=\u001b[0m \u001b[0mcomps\u001b[0m\u001b[0;34m.\u001b[0m\u001b[0mastype\u001b[0m\u001b[0;34m(\u001b[0m\u001b[0;34m'int64'\u001b[0m\u001b[0;34m,\u001b[0m \u001b[0mcopy\u001b[0m\u001b[0;34m=\u001b[0m\u001b[0;32mFalse\u001b[0m\u001b[0;34m)\u001b[0m\u001b[0;34m\u001b[0m\u001b[0m\n\u001b[0;32m--> 420\u001b[0;31m             \u001b[0mf\u001b[0m \u001b[0;34m=\u001b[0m \u001b[0;32mlambda\u001b[0m \u001b[0mx\u001b[0m\u001b[0;34m,\u001b[0m \u001b[0my\u001b[0m\u001b[0;34m:\u001b[0m \u001b[0mhtable\u001b[0m\u001b[0;34m.\u001b[0m\u001b[0mismember_int64\u001b[0m\u001b[0;34m(\u001b[0m\u001b[0mx\u001b[0m\u001b[0;34m,\u001b[0m \u001b[0my\u001b[0m\u001b[0;34m)\u001b[0m\u001b[0;34m\u001b[0m\u001b[0m\n\u001b[0m\u001b[1;32m    421\u001b[0m         \u001b[0;32mexcept\u001b[0m \u001b[0;34m(\u001b[0m\u001b[0mTypeError\u001b[0m\u001b[0;34m,\u001b[0m \u001b[0mValueError\u001b[0m\u001b[0;34m)\u001b[0m\u001b[0;34m:\u001b[0m\u001b[0;34m\u001b[0m\u001b[0m\n\u001b[1;32m    422\u001b[0m             \u001b[0mvalues\u001b[0m \u001b[0;34m=\u001b[0m \u001b[0mvalues\u001b[0m\u001b[0;34m.\u001b[0m\u001b[0mastype\u001b[0m\u001b[0;34m(\u001b[0m\u001b[0mobject\u001b[0m\u001b[0;34m)\u001b[0m\u001b[0;34m\u001b[0m\u001b[0m\n",
      "\u001b[0;31mKeyboardInterrupt\u001b[0m: "
     ]
    }
   ],
   "source": [
    "# Get followee data\n",
    "follow_fpath = '/usr2/kmaki/tumblr/follow_network.tsv' # 99G\n",
    "chunksize = int(1e5)\n",
    "total_iters = int(np.ceil(3220088178 / chunksize))\n",
    "hdr = ['tumblog_id', 'followed_tumblog_id', 'activity_time_epoch']\n",
    "chunked = pd.read_csv(follow_fpath, sep='\\t', header=None, names=hdr, chunksize=chunksize)\n",
    "\n",
    "followee_data = [] # list of np arrays to be concatenated\n",
    "\n",
    "for chunk in tqdm(chunked, total=total_iters):\n",
    "    followee_data.append(chunk[chunk['tumblog_id'].isin(follower_ids)].values)\n",
    "    \n",
    "follower_follow_data = pd.DataFrame(np.vstack(followee_data), columns=hdr)\n",
    "len(follower_follow_data)"
   ]
  },
  {
   "cell_type": "code",
   "execution_count": 29,
   "metadata": {},
   "outputs": [],
   "source": [
    "# Save follow data from followers for which have descriptions\n",
    "out_fname = 'follow_data_recent100.pkl'\n",
    "\n",
    "follower_follow_data.to_pickle(os.path.join(data_dirpath, out_fname))"
   ]
  },
  {
   "cell_type": "markdown",
   "metadata": {},
   "source": [
    "## Get followee descriptions"
   ]
  },
  {
   "cell_type": "code",
   "execution_count": 3,
   "metadata": {
    "scrolled": true
   },
   "outputs": [
    {
     "name": "stdout",
     "output_type": "stream",
     "text": [
      "5226750\n",
      "Index(['tumblog_id', 'activity_time_epoch', 'tumblr_blog_name',\n",
      "       'tumblr_blog_title', 'tumblr_blog_description', 'tumblr_blog_url',\n",
      "       'tumblr_blog_theme', 'is_group_blog', 'is_primary', 'is_private',\n",
      "       'created_time_epoch', 'updated_time_epoch', 'timezone', 'language',\n",
      "       'blog_classifier', 'generated_date', 'parsed_blog_description',\n",
      "       'age_terms', 'age', 'ethnicity/nationality_terms',\n",
      "       'ethnicity/nationality', 'fandoms_terms', 'fandoms', 'gender_terms',\n",
      "       'gender', 'gender/sexuality_terms', 'gender/sexuality',\n",
      "       'interests_terms', 'interests', 'location_terms', 'location',\n",
      "       'personality type_terms', 'personality type', 'pronouns_terms',\n",
      "       'pronouns', 'relationship status_terms', 'relationship status',\n",
      "       'roleplay_terms', 'roleplay', 'roleplay/fandoms_terms',\n",
      "       'roleplay/fandoms', 'sexual orientation_terms', 'sexual orientation',\n",
      "       'weight_terms', 'weight', 'ethnicity/nationality_hegemonic_present',\n",
      "       'gender_hegemonic_present', 'pronouns_hegemonic_present',\n",
      "       'sexual orientation_hegemonic_present',\n",
      "       'ethnicity/nationality_opposite_present', 'gender_opposite_present',\n",
      "       'pronouns_opposite_present', 'sexual orientation_opposite_present',\n",
      "       'gender/sexuality_opposite_present',\n",
      "       'gender/sexuality_hegemonic_present'],\n",
      "      dtype='object')\n"
     ]
    }
   ],
   "source": [
    "# Load blog descriptions\n",
    "descs = pd.read_pickle(os.path.join(data_dirpath, 'blog_descriptions_recent100.pkl'))\n",
    "print(len(descs))\n",
    "print(descs.columns)"
   ]
  },
  {
   "cell_type": "code",
   "execution_count": 5,
   "metadata": {},
   "outputs": [
    {
     "name": "stdout",
     "output_type": "stream",
     "text": [
      "11816219\n",
      "1454160\n"
     ]
    }
   ],
   "source": [
    "followees = set(follow_data['followed_tumblog_id'])\n",
    "print(len(followees))\n",
    "\n",
    "followees_with_descriptions = followees.intersection(set(descs['tumblog_id']))\n",
    "print(len(followees_with_descriptions))"
   ]
  },
  {
   "cell_type": "markdown",
   "metadata": {},
   "source": [
    "##  Select posts from followees, posted after followers followed them"
   ]
  },
  {
   "cell_type": "code",
   "execution_count": 6,
   "metadata": {},
   "outputs": [
    {
     "name": "stdout",
     "output_type": "stream",
     "text": [
      "27342192\n",
      "Index(['post_id', 'activity_time_epoch', 'tumblog_id', 'post_title',\n",
      "       'post_short_url', 'post_type', 'post_caption', 'post_format',\n",
      "       'post_note_count', 'created_time_epoch', 'updated_time_epoch',\n",
      "       'is_submission', 'source_title', 'source_url', 'post_classifier',\n",
      "       'blog_classifier', 'accepts_answers', 'reblogged_from_post_id',\n",
      "       'reblogged_from_metadata', 'root_post_id', 'body', 'mentions',\n",
      "       'post_tags', 'parsed_tags_minfreq1'],\n",
      "      dtype='object')\n"
     ]
    }
   ],
   "source": [
    "# Load post data\n",
    "\n",
    "post_fname = 'textposts_recent100.pkl' # ~75 GB in memory\n",
    "post_data = pd.read_pickle(os.path.join(data_dirpath, post_fname))\n",
    "print(len(post_data))\n",
    "print(post_data.columns)"
   ]
  },
  {
   "cell_type": "code",
   "execution_count": 8,
   "metadata": {},
   "outputs": [
    {
     "name": "stdout",
     "output_type": "stream",
     "text": [
      "14852224\n"
     ]
    }
   ],
   "source": [
    "followee_posts = post_data[post_data['tumblog_id'].isin(followees_with_descriptions)] # all posts regardless of time posted\n",
    "print(len(followee_posts))"
   ]
  },
  {
   "cell_type": "code",
   "execution_count": 9,
   "metadata": {},
   "outputs": [],
   "source": [
    "# Save followee posts\n",
    "followee_posts.to_pickle(os.path.join(data_dirpath, 'followee_posts_recent100.pkl'))"
   ]
  },
  {
   "cell_type": "code",
   "execution_count": 3,
   "metadata": {},
   "outputs": [
    {
     "name": "stdout",
     "output_type": "stream",
     "text": [
      "11689157\n",
      "Index(['post_id', 'activity_time_epoch', 'tumblog_id', 'post_title',\n",
      "       'post_short_url', 'post_type', 'post_caption', 'post_format',\n",
      "       'post_note_count', 'created_time_epoch', 'updated_time_epoch',\n",
      "       'is_submission', 'source_title', 'source_url', 'post_classifier',\n",
      "       'blog_classifier', 'accepts_answers', 'reblogged_from_post_id',\n",
      "       'reblogged_from_metadata', 'root_post_id', 'body', 'mentions',\n",
      "       'post_tags', 'parsed_tags_minfreq1'],\n",
      "      dtype='object')\n"
     ]
    }
   ],
   "source": [
    "# Load followee posts\n",
    "# followee_posts = pd.read_pickle(os.path.join(data_dirpath, 'followee_posts_recent100.pkl'))\n",
    "followee_posts = pd.read_pickle(os.path.join(data_dirpath, 'reblog_followee_posts_recent100.pkl'))\n",
    "print(len(followee_posts))\n",
    "print(followee_posts.columns)"
   ]
  },
  {
   "cell_type": "markdown",
   "metadata": {},
   "source": [
    "### Merge text and user info for quick prediction (duplicate posts for followees with multiple followers in the dataset)\n",
    "Would filter followee posts based on timestamp of follows here"
   ]
  },
  {
   "cell_type": "markdown",
   "metadata": {},
   "source": [
    "#### Make a dictionary of followees -> followers"
   ]
  },
  {
   "cell_type": "code",
   "execution_count": 3,
   "metadata": {},
   "outputs": [
    {
     "name": "stdout",
     "output_type": "stream",
     "text": [
      "329702060\n",
      "Index(['tumblog_id', 'followed_tumblog_id', 'activity_time_epoch'], dtype='object')\n"
     ]
    }
   ],
   "source": [
    "# follow_data = pd.read_pickle(os.path.join(data_dirpath, 'follow_data_recent100.pkl'))\n",
    "follow_data = pd.read_pickle(os.path.join(data_dirpath, 'reblog_follow_data_recent100.pkl'))\n",
    "print(len(follow_data))\n",
    "print(follow_data.columns)"
   ]
  },
  {
   "cell_type": "code",
   "execution_count": 43,
   "metadata": {
    "scrolled": true
   },
   "outputs": [
    {
     "name": "stdout",
     "output_type": "stream",
     "text": [
      "8591392\n"
     ]
    }
   ],
   "source": [
    "gped = follow_data.set_index('tumblog_id').groupby('followed_tumblog_id')\n",
    "gped.groups\n",
    "\n",
    "len(gped.groups)\n",
    "\n",
    "follow_dict = {key: list(gped.groups[key]) for key in gped.groups}\n",
    "print(len(follow_dict))"
   ]
  },
  {
   "cell_type": "code",
   "execution_count": 25,
   "metadata": {},
   "outputs": [
    {
     "data": {
      "text/plain": [
       "27.90250079149684"
      ]
     },
     "execution_count": 25,
     "metadata": {},
     "output_type": "execute_result"
    }
   ],
   "source": [
    "# Average #followers/follower\n",
    "len([d for l in follow_dict.values() for d in l]) / len(follow_dict)"
   ]
  },
  {
   "cell_type": "code",
   "execution_count": 44,
   "metadata": {},
   "outputs": [],
   "source": [
    "# Save\n",
    "import pickle\n",
    "\n",
    "# with open(os.path.join(data_dirpath, 'follow_recent100_dict.pkl'), 'wb') as f:\n",
    "with open(os.path.join(data_dirpath, 'reblog_follow_recent100_dict.pkl'), 'wb') as f:\n",
    "    pickle.dump(follow_dict, f)"
   ]
  },
  {
   "cell_type": "code",
   "execution_count": 4,
   "metadata": {},
   "outputs": [],
   "source": [
    "# Load follow dict\n",
    "import pickle\n",
    "\n",
    "# with open(os.path.join(data_dirpath, 'follow_recent100_dict.pkl'), 'wb') as f:\n",
    "# followee: [followers]\n",
    "with open(os.path.join(data_dirpath, 'reblog_follow_recent100_dict.pkl'), 'rb') as f: # followers are all rebloggers\n",
    "    follow_dict = pickle.load(f)"
   ]
  },
  {
   "cell_type": "code",
   "execution_count": 6,
   "metadata": {},
   "outputs": [
    {
     "name": "stdout",
     "output_type": "stream",
     "text": [
      "100000\n"
     ]
    },
    {
     "data": {
      "text/plain": [
       "Index(['post_id', 'activity_time_epoch', 'tumblog_id', 'post_title',\n",
       "       'post_short_url', 'post_type', 'post_caption', 'post_format',\n",
       "       'post_note_count', 'created_time_epoch', 'updated_time_epoch',\n",
       "       'is_submission', 'source_title', 'source_url', 'post_classifier',\n",
       "       'blog_classifier', 'accepts_answers', 'reblogged_from_post_id',\n",
       "       'reblogged_from_metadata', 'root_post_id', 'body', 'mentions',\n",
       "       'post_tags', 'parsed_tags_minfreq1'],\n",
       "      dtype='object')"
      ]
     },
     "execution_count": 6,
     "metadata": {},
     "output_type": "execute_result"
    }
   ],
   "source": [
    "# Sample from posts\n",
    "\n",
    "# posts = followee_posts.sample(int(1e4))\n",
    "posts = followee_posts.sample(int(1e5))\n",
    "print(len(posts))\n",
    "posts.columns"
   ]
  },
  {
   "cell_type": "code",
   "execution_count": 9,
   "metadata": {
    "scrolled": false
   },
   "outputs": [
    {
     "name": "stdout",
     "output_type": "stream",
     "text": [
      "2703854\n"
     ]
    }
   ],
   "source": [
    "# Merge posts with follower/followee names, sample max 10 followers\n",
    "import random\n",
    "from tqdm import tqdm_notebook as tqdm\n",
    "\n",
    "def safe_sample(l, t):\n",
    "    if len(l) > t:\n",
    "        return random.sample(l, t)\n",
    "    else:\n",
    "        return l\n",
    "\n",
    "# posts['followers'] = posts['tumblog_id'].map(lambda x: safe_sample(follow_dict[x], 10))\n",
    "posts['followers'] = posts['tumblog_id'].map(lambda x: follow_dict[x]) # All followers should be rebloggers\n",
    "# posts['followers'] = list(map(lambda x: [u for u in follow_dict[x] if u in reblog_followers], tqdm(posts['tumblog_id']))) # Keep reblog followers\n",
    "\n",
    "s = posts.apply(lambda x: pd.Series(x['followers']), axis=1).stack().reset_index(level=1, drop=True)\n",
    "s.name = 'follower'\n",
    "data = posts.join(s)\n",
    "data.reset_index(drop=True, inplace=True)\n",
    "data.drop('followers', axis=1, inplace=True)\n",
    "\n",
    "print(len(data))"
   ]
  },
  {
   "cell_type": "markdown",
   "metadata": {},
   "source": [
    "#### Merge in follower, followee blog description info"
   ]
  },
  {
   "cell_type": "code",
   "execution_count": 10,
   "metadata": {
    "scrolled": true
   },
   "outputs": [
    {
     "name": "stdout",
     "output_type": "stream",
     "text": [
      "5238440\n",
      "Index(['tumblog_id', 'activity_time_epoch', 'tumblr_blog_name',\n",
      "       'tumblr_blog_title', 'tumblr_blog_description', 'tumblr_blog_url',\n",
      "       'tumblr_blog_theme', 'is_group_blog', 'is_primary', 'is_private',\n",
      "       'created_time_epoch', 'updated_time_epoch', 'timezone', 'language',\n",
      "       'blog_classifier', 'generated_date', 'parsed_blog_description'],\n",
      "      dtype='object')\n"
     ]
    }
   ],
   "source": [
    "# Load blog descriptions\n",
    "descs = pd.read_pickle(os.path.join(data_dirpath, 'blog_descriptions_recent100.pkl')) # Old data--no identity labels\n",
    "print(len(descs))\n",
    "print(descs.columns)"
   ]
  },
  {
   "cell_type": "code",
   "execution_count": 11,
   "metadata": {
    "scrolled": true
   },
   "outputs": [
    {
     "name": "stdout",
     "output_type": "stream",
     "text": [
      "2703854\n",
      "Index(['post_id', 'activity_time_epoch_post', 'tumblog_id', 'post_title',\n",
      "       'post_short_url', 'post_type', 'post_caption', 'post_format',\n",
      "       'post_note_count', 'created_time_epoch_post', 'updated_time_epoch_post',\n",
      "       'is_submission', 'source_title', 'source_url', 'post_classifier',\n",
      "       'blog_classifier_post', 'accepts_answers', 'reblogged_from_post_id',\n",
      "       'reblogged_from_metadata', 'root_post_id', 'body', 'mentions',\n",
      "       'post_tags', 'parsed_tags_minfreq1', 'follower',\n",
      "       'activity_time_epoch_desc', 'tumblr_blog_name', 'tumblr_blog_title',\n",
      "       'tumblr_blog_description', 'tumblr_blog_url', 'tumblr_blog_theme',\n",
      "       'is_group_blog', 'is_primary', 'is_private', 'created_time_epoch_desc',\n",
      "       'updated_time_epoch_desc', 'timezone', 'language',\n",
      "       'blog_classifier_desc', 'generated_date', 'parsed_blog_description'],\n",
      "      dtype='object')\n"
     ]
    }
   ],
   "source": [
    "# Merge in followee info\n",
    "merged = pd.merge(data, descs, on='tumblog_id', how='left', suffixes=('_post', '_desc'))\n",
    "print(len(merged))\n",
    "print(merged.columns)"
   ]
  },
  {
   "cell_type": "code",
   "execution_count": 12,
   "metadata": {
    "scrolled": true
   },
   "outputs": [
    {
     "name": "stdout",
     "output_type": "stream",
     "text": [
      "2703854\n",
      "Index(['post_id', 'activity_time_epoch_post', 'tumblog_id_followee',\n",
      "       'post_title', 'post_short_url', 'post_type', 'post_caption',\n",
      "       'post_format', 'post_note_count', 'created_time_epoch_post',\n",
      "       'updated_time_epoch_post', 'is_submission', 'source_title',\n",
      "       'source_url', 'post_classifier', 'blog_classifier_post',\n",
      "       'accepts_answers', 'reblogged_from_post_id', 'reblogged_from_metadata',\n",
      "       'root_post_id', 'body', 'mentions', 'post_tags', 'parsed_tags_minfreq1',\n",
      "       'follower', 'activity_time_epoch_desc', 'tumblr_blog_name_followee',\n",
      "       'tumblr_blog_title_followee', 'tumblr_blog_description_followee',\n",
      "       'tumblr_blog_url_followee', 'tumblr_blog_theme_followee',\n",
      "       'is_group_blog_followee', 'is_primary_followee', 'is_private_followee',\n",
      "       'created_time_epoch_desc', 'updated_time_epoch_desc',\n",
      "       'timezone_followee', 'language_followee', 'blog_classifier_desc',\n",
      "       'generated_date_followee', 'parsed_blog_description_followee',\n",
      "       'tumblog_id_follower', 'activity_time_epoch',\n",
      "       'tumblr_blog_name_follower', 'tumblr_blog_title_follower',\n",
      "       'tumblr_blog_description_follower', 'tumblr_blog_url_follower',\n",
      "       'tumblr_blog_theme_follower', 'is_group_blog_follower',\n",
      "       'is_primary_follower', 'is_private_follower', 'created_time_epoch',\n",
      "       'updated_time_epoch', 'timezone_follower', 'language_follower',\n",
      "       'blog_classifier', 'generated_date_follower',\n",
      "       'parsed_blog_description_follower'],\n",
      "      dtype='object')\n"
     ]
    }
   ],
   "source": [
    "# Merge in follower info\n",
    "merged = pd.merge(merged, descs, left_on='follower', right_on='tumblog_id', how='left', suffixes=('_followee', '_follower'))\n",
    "print(len(merged))\n",
    "print(merged.columns)"
   ]
  },
  {
   "cell_type": "code",
   "execution_count": 13,
   "metadata": {},
   "outputs": [],
   "source": [
    "# Save out merged doc\n",
    "# merged.to_pickle(os.path.join(data_dirpath, 'posts_descs_54k.pkl'))\n",
    "merged.to_pickle(os.path.join(data_dirpath, 'posts_descs_3m_rebloggers.pkl'))"
   ]
  },
  {
   "cell_type": "markdown",
   "metadata": {},
   "source": [
    "## Get outcome measure: whether or not a post was reblogged"
   ]
  },
  {
   "cell_type": "code",
   "execution_count": 3,
   "metadata": {
    "scrolled": true
   },
   "outputs": [
    {
     "name": "stdout",
     "output_type": "stream",
     "text": [
      "27342192\n",
      "Index(['post_id', 'activity_time_epoch', 'tumblog_id', 'post_title',\n",
      "       'post_short_url', 'post_type', 'post_caption', 'post_format',\n",
      "       'post_note_count', 'created_time_epoch', 'updated_time_epoch',\n",
      "       'is_submission', 'source_title', 'source_url', 'post_classifier',\n",
      "       'blog_classifier', 'accepts_answers', 'reblogged_from_post_id',\n",
      "       'reblogged_from_metadata', 'root_post_id', 'body', 'mentions',\n",
      "       'post_tags', 'parsed_tags_minfreq1'],\n",
      "      dtype='object')\n"
     ]
    }
   ],
   "source": [
    "# Load post data\n",
    "\n",
    "post_fname = 'textposts_recent100.pkl' # ~75 GB in memory\n",
    "post_data = pd.read_pickle(os.path.join(data_dirpath, post_fname))\n",
    "print(len(post_data))\n",
    "print(post_data.columns)"
   ]
  },
  {
   "cell_type": "code",
   "execution_count": 5,
   "metadata": {},
   "outputs": [
    {
     "name": "stdout",
     "output_type": "stream",
     "text": [
      "14852224\n",
      "Index(['post_id', 'activity_time_epoch', 'tumblog_id', 'post_title',\n",
      "       'post_short_url', 'post_type', 'post_caption', 'post_format',\n",
      "       'post_note_count', 'created_time_epoch', 'updated_time_epoch',\n",
      "       'is_submission', 'source_title', 'source_url', 'post_classifier',\n",
      "       'blog_classifier', 'accepts_answers', 'reblogged_from_post_id',\n",
      "       'reblogged_from_metadata', 'root_post_id', 'body', 'mentions',\n",
      "       'post_tags', 'parsed_tags_minfreq1'],\n",
      "      dtype='object')\n"
     ]
    }
   ],
   "source": [
    "# Load data to have outcome added to (full)\n",
    "followee_posts = pd.read_pickle(os.path.join(data_dirpath, 'followee_posts_recent100.pkl'))\n",
    "print(len(followee_posts))\n",
    "print(followee_posts.columns)"
   ]
  },
  {
   "cell_type": "code",
   "execution_count": 4,
   "metadata": {},
   "outputs": [
    {
     "name": "stdout",
     "output_type": "stream",
     "text": [
      "2703854\n",
      "Index(['post_id', 'activity_time_epoch_post', 'tumblog_id_followee',\n",
      "       'post_title', 'post_short_url', 'post_type', 'post_caption',\n",
      "       'post_format', 'post_note_count', 'created_time_epoch_post',\n",
      "       ...\n",
      "       'gender_hegemonic_present_follower',\n",
      "       'pronouns_hegemonic_present_follower',\n",
      "       'sexual_orientation_hegemonic_present_follower',\n",
      "       'ethnicity/nationality_opposite_present_follower',\n",
      "       'gender_opposite_present_follower',\n",
      "       'pronouns_opposite_present_follower',\n",
      "       'sexual_orientation_opposite_present_follower',\n",
      "       'gender/sexuality_opposite_present_follower',\n",
      "       'gender/sexuality_hegemonic_present_follower', 'post_text'],\n",
      "      dtype='object', length=135)\n"
     ]
    }
   ],
   "source": [
    "# Load data to have outcome added to (sampled)\n",
    "# data = pd.read_pickle(os.path.join(data_dirpath, 'posts_descs_54k.pkl'))\n",
    "data = pd.read_pickle(os.path.join(data_dirpath, 'posts_descs_3m_rebloggers.pkl'))\n",
    "print(len(data))\n",
    "print(data.columns)"
   ]
  },
  {
   "cell_type": "code",
   "execution_count": 5,
   "metadata": {},
   "outputs": [
    {
     "name": "stdout",
     "output_type": "stream",
     "text": [
      "object\n",
      "object\n"
     ]
    }
   ],
   "source": [
    "print(post_data['reblogged_from_post_id'].dtype)\n",
    "print(data['post_id'].dtype)"
   ]
  },
  {
   "cell_type": "code",
   "execution_count": 6,
   "metadata": {
    "scrolled": true
   },
   "outputs": [
    {
     "name": "stdout",
     "output_type": "stream",
     "text": [
      "int64\n",
      "12102812\n",
      "int64\n",
      "99937\n"
     ]
    }
   ],
   "source": [
    "post_data['reblogged_from_post_id'] = post_data['reblogged_from_post_id'].fillna(-1).astype(int)\n",
    "print(post_data['reblogged_from_post_id'].dtype)\n",
    "\n",
    "reblogged_posts = post_data['reblogged_from_post_id'].unique()\n",
    "print(len(reblogged_posts))\n",
    "\n",
    "data['post_id'] = data['post_id'].astype(int)\n",
    "print(data['post_id'].dtype)\n",
    "posts = data['post_id'].unique()\n",
    "print(len(posts))"
   ]
  },
  {
   "cell_type": "code",
   "execution_count": 7,
   "metadata": {},
   "outputs": [
    {
     "data": {
      "text/plain": [
       "6296"
      ]
     },
     "execution_count": 7,
     "metadata": {},
     "output_type": "execute_result"
    }
   ],
   "source": [
    "# How many posts from followees were reblogged by anybody in our data?\n",
    "\n",
    "intersect = set(posts).intersection(set(reblogged_posts))\n",
    "len(intersect)"
   ]
  },
  {
   "cell_type": "code",
   "execution_count": 8,
   "metadata": {},
   "outputs": [
    {
     "data": {
      "text/plain": [
       "811256"
      ]
     },
     "execution_count": 8,
     "metadata": {},
     "output_type": "execute_result"
    }
   ],
   "source": [
    "# Just consider opportunities for posts that were reblogged\n",
    "reblog_data = data[data['post_id'].isin(intersect)]\n",
    "len(reblog_data)"
   ]
  },
  {
   "cell_type": "code",
   "execution_count": 9,
   "metadata": {
    "scrolled": true
   },
   "outputs": [
    {
     "data": {
      "text/plain": [
       "20484021"
      ]
     },
     "execution_count": 9,
     "metadata": {},
     "output_type": "execute_result"
    }
   ],
   "source": [
    "# Any reblogs by followers? \n",
    "\n",
    "# Construct set of tuples (post_id, tumblog_id_follower) to search through\n",
    "reblog_tuples = set(zip(post_data['reblogged_from_post_id'], post_data['tumblog_id']))\n",
    "len(reblog_tuples)"
   ]
  },
  {
   "cell_type": "code",
   "execution_count": 10,
   "metadata": {
    "scrolled": true
   },
   "outputs": [
    {
     "data": {
      "application/vnd.jupyter.widget-view+json": {
       "model_id": "f1e43bd1534e4b0c92dc191c6767da15",
       "version_major": 2,
       "version_minor": 0
      },
      "text/plain": [
       "HBox(children=(IntProgress(value=0, max=811256), HTML(value='')))"
      ]
     },
     "metadata": {},
     "output_type": "display_data"
    },
    {
     "name": "stdout",
     "output_type": "stream",
     "text": [
      "\n"
     ]
    },
    {
     "name": "stderr",
     "output_type": "stream",
     "text": [
      "/usr0/home/mamille2/anaconda3/lib/python3.6/site-packages/ipykernel_launcher.py:16: SettingWithCopyWarning: \n",
      "A value is trying to be set on a copy of a slice from a DataFrame.\n",
      "Try using .loc[row_indexer,col_indexer] = value instead\n",
      "\n",
      "See the caveats in the documentation: http://pandas.pydata.org/pandas-docs/stable/indexing.html#indexing-view-versus-copy\n",
      "  app.launch_new_instance()\n"
     ]
    },
    {
     "data": {
      "text/plain": [
       "2287"
      ]
     },
     "execution_count": 10,
     "metadata": {},
     "output_type": "execute_result"
    }
   ],
   "source": [
    "# Any reblogs by followers? -- Just look at intersection as candidates for reblogs\n",
    "from IPython.core.debugger import set_trace\n",
    "from tqdm import tqdm_notebook as tqdm\n",
    "\n",
    "# def is_reblog(x):\n",
    "#     rows = post_data[(post_data['reblogged_from_post_id'] == x['post_id']) & \\\n",
    "#                                   (post_data['tumblog_id'] == x['tumblog_id_follower'])]\n",
    "# data['reblogged'] = data.apply(is_reblog, axis=1)\n",
    "\n",
    "def is_reblog(post_id, tumblog_id_follower):\n",
    "    \n",
    "    return (post_id, tumblog_id_follower) in reblog_tuples\n",
    "\n",
    "# data['reblogged'] = [is_reblog(post_id, tumblog_id_follower) for post_id, tumblog_id_follower \\\n",
    "#                      in tqdm(zip(data['post_id'], data['tumblog_id_follower']), total=len(data))]\n",
    "reblog_data['reblogged'] = [is_reblog(post_id, tumblog_id_follower) for post_id, tumblog_id_follower \\\n",
    "                     in tqdm(zip(reblog_data['post_id'], reblog_data['tumblog_id_follower']), total=len(reblog_data))]\n",
    "\n",
    "sum(reblog_data['reblogged'])"
   ]
  },
  {
   "cell_type": "code",
   "execution_count": 12,
   "metadata": {},
   "outputs": [
    {
     "data": {
      "text/plain": [
       "2287"
      ]
     },
     "execution_count": 12,
     "metadata": {},
     "output_type": "execute_result"
    }
   ],
   "source": [
    "merged = data.join(reblog_data['reblogged'])\n",
    "merged['reblogged']\n",
    "\n",
    "merged['reblogged'] = merged['reblogged'].fillna(False)\n",
    "sum(merged['reblogged'])"
   ]
  },
  {
   "cell_type": "code",
   "execution_count": 13,
   "metadata": {},
   "outputs": [],
   "source": [
    "merged.to_pickle(os.path.join(data_dirpath, 'posts_descs_3m_rebloggers.pkl'))"
   ]
  },
  {
   "cell_type": "markdown",
   "metadata": {},
   "source": [
    "## Downsample to just followers who have reblogged at least once\n",
    "More restrictive: users who have reblogged and we have text data for them"
   ]
  },
  {
   "cell_type": "code",
   "execution_count": null,
   "metadata": {},
   "outputs": [],
   "source": [
    "# Load post data\n",
    "\n",
    "post_fname = 'textposts_recent100.pkl' # ~75 GB in memory\n",
    "post_data = pd.read_pickle(os.path.join(data_dirpath, post_fname))\n",
    "print(len(post_data))\n",
    "print(post_data.columns)"
   ]
  },
  {
   "cell_type": "code",
   "execution_count": 31,
   "metadata": {},
   "outputs": [
    {
     "name": "stdout",
     "output_type": "stream",
     "text": [
      "19855879\n"
     ]
    }
   ],
   "source": [
    "# Find list of users who have reblogged at least once\n",
    "reblogs = post_data[post_data['reblogged_from_post_id'] >= 0]\n",
    "print(len(reblogs))"
   ]
  },
  {
   "cell_type": "code",
   "execution_count": 33,
   "metadata": {},
   "outputs": [
    {
     "data": {
      "text/plain": [
       "1843817"
      ]
     },
     "execution_count": 33,
     "metadata": {},
     "output_type": "execute_result"
    }
   ],
   "source": [
    "reblog_followers = set(reblogs['tumblog_id'].unique())\n",
    "len(reblog_followers)"
   ]
  },
  {
   "cell_type": "code",
   "execution_count": 46,
   "metadata": {},
   "outputs": [],
   "source": [
    "reblog_followers = reblog_users"
   ]
  },
  {
   "cell_type": "code",
   "execution_count": 30,
   "metadata": {},
   "outputs": [
    {
     "data": {
      "text/plain": [
       "Index(['post_id', 'activity_time_epoch', 'tumblog_id', 'post_title',\n",
       "       'post_short_url', 'post_type', 'post_caption', 'post_format',\n",
       "       'post_note_count', 'created_time_epoch', 'updated_time_epoch',\n",
       "       'is_submission', 'source_title', 'source_url', 'post_classifier',\n",
       "       'blog_classifier', 'accepts_answers', 'reblogged_from_post_id',\n",
       "       'reblogged_from_metadata', 'root_post_id', 'body', 'mentions',\n",
       "       'post_tags', 'parsed_tags_minfreq1'],\n",
       "      dtype='object')"
      ]
     },
     "execution_count": 30,
     "metadata": {},
     "output_type": "execute_result"
    }
   ],
   "source": [
    "followee_posts.columns"
   ]
  },
  {
   "cell_type": "code",
   "execution_count": 35,
   "metadata": {},
   "outputs": [
    {
     "name": "stdout",
     "output_type": "stream",
     "text": [
      "329702060\n",
      "Index(['tumblog_id', 'followed_tumblog_id', 'activity_time_epoch'], dtype='object')\n"
     ]
    }
   ],
   "source": [
    "follow_data = pd.read_pickle(os.path.join(data_dirpath, 'follow_data_recent100.pkl'))\n",
    "print(len(follow_data))\n",
    "print(follow_data.columns)"
   ]
  },
  {
   "cell_type": "code",
   "execution_count": 36,
   "metadata": {},
   "outputs": [
    {
     "name": "stdout",
     "output_type": "stream",
     "text": [
      "8591392\n"
     ]
    }
   ],
   "source": [
    "# Restrict followee posts to followees that have at least one follower who has reblogged at least one post\n",
    "\n",
    "reblog_follow_data = follow_data[follow_data['tumblog_id'].isin(reblog_users)]\n",
    "reblog_followees = set(reblog_follow_data['followed_tumblog_id'].unique())\n",
    "print(len(reblog_followees))"
   ]
  },
  {
   "cell_type": "code",
   "execution_count": 37,
   "metadata": {},
   "outputs": [
    {
     "data": {
      "text/plain": [
       "11816219"
      ]
     },
     "execution_count": 37,
     "metadata": {},
     "output_type": "execute_result"
    }
   ],
   "source": [
    "len(follow_data['followed_tumblog_id'].unique())"
   ]
  },
  {
   "cell_type": "code",
   "execution_count": 38,
   "metadata": {},
   "outputs": [],
   "source": [
    "# Save out reblog follow data\n",
    "reblog_follow_data.to_pickle(os.path.join(data_dirpath, 'reblog_follow_data_recent100.pkl')) # followers are rebloggers"
   ]
  },
  {
   "cell_type": "code",
   "execution_count": 5,
   "metadata": {},
   "outputs": [
    {
     "name": "stdout",
     "output_type": "stream",
     "text": [
      "8591392\n"
     ]
    }
   ],
   "source": [
    "# Load reblog follow data\n",
    "reblog_follow_data = pd.read_pickle(os.path.join(data_dirpath, 'reblog_follow_data_recent100.pkl'))\n",
    "reblog_followees = set(reblog_follow_data['followed_tumblog_id'].unique())\n",
    "print(len(reblog_followees))"
   ]
  },
  {
   "cell_type": "code",
   "execution_count": 6,
   "metadata": {},
   "outputs": [
    {
     "name": "stdout",
     "output_type": "stream",
     "text": [
      "11689157\n",
      "14852224\n"
     ]
    }
   ],
   "source": [
    "# Filter followee posts to just those that have followers who have reblogged\n",
    "reblog_followee_posts = followee_posts[followee_posts['tumblog_id'].isin(reblog_followees)]\n",
    "print(len(reblog_followee_posts))\n",
    "print(len(followee_posts))"
   ]
  },
  {
   "cell_type": "code",
   "execution_count": 8,
   "metadata": {},
   "outputs": [],
   "source": [
    "# Save reblog followee posts\n",
    "reblog_followee_posts.to_pickle(os.path.join(data_dirpath, 'reblog_followee_posts_recent100.pkl'))"
   ]
  },
  {
   "cell_type": "markdown",
   "metadata": {},
   "source": [
    "# Add blog description annotations to 3M sample (one-time)"
   ]
  },
  {
   "cell_type": "code",
   "execution_count": 2,
   "metadata": {
    "scrolled": true
   },
   "outputs": [
    {
     "name": "stdout",
     "output_type": "stream",
     "text": [
      "5226750\n",
      "Index(['tumblog_id', 'activity_time_epoch', 'tumblr_blog_name',\n",
      "       'tumblr_blog_title', 'tumblr_blog_description', 'tumblr_blog_url',\n",
      "       'tumblr_blog_theme', 'is_group_blog', 'is_primary', 'is_private',\n",
      "       'created_time_epoch', 'updated_time_epoch', 'timezone', 'language',\n",
      "       'blog_classifier', 'generated_date', 'parsed_blog_description',\n",
      "       'age_terms', 'age', 'ethnicity/nationality_terms',\n",
      "       'ethnicity/nationality', 'fandoms_terms', 'fandoms', 'gender_terms',\n",
      "       'gender', 'gender/sexuality_terms', 'gender/sexuality',\n",
      "       'interests_terms', 'interests', 'location_terms', 'location',\n",
      "       'personality type_terms', 'personality type', 'pronouns_terms',\n",
      "       'pronouns', 'relationship status_terms', 'relationship status',\n",
      "       'roleplay_terms', 'roleplay', 'roleplay/fandoms_terms',\n",
      "       'roleplay/fandoms', 'sexual orientation_terms', 'sexual orientation',\n",
      "       'weight_terms', 'weight', 'ethnicity/nationality_hegemonic_present',\n",
      "       'gender_hegemonic_present', 'pronouns_hegemonic_present',\n",
      "       'sexual orientation_hegemonic_present',\n",
      "       'ethnicity/nationality_opposite_present', 'gender_opposite_present',\n",
      "       'pronouns_opposite_present', 'sexual orientation_opposite_present',\n",
      "       'gender/sexuality_opposite_present',\n",
      "       'gender/sexuality_hegemonic_present'],\n",
      "      dtype='object')\n"
     ]
    }
   ],
   "source": [
    "# Load blog descriptions\n",
    "descs = pd.read_pickle(os.path.join(data_dirpath, 'blog_descriptions_recent100.pkl'))\n",
    "print(len(descs))\n",
    "print(descs.columns)"
   ]
  },
  {
   "cell_type": "code",
   "execution_count": 6,
   "metadata": {
    "scrolled": true
   },
   "outputs": [
    {
     "name": "stdout",
     "output_type": "stream",
     "text": [
      "2703854\n",
      "Index(['post_id', 'activity_time_epoch_post', 'tumblog_id_followee',\n",
      "       'post_title', 'post_short_url', 'post_type', 'post_caption',\n",
      "       'post_format', 'post_note_count', 'created_time_epoch_post',\n",
      "       'updated_time_epoch_post', 'is_submission', 'source_title',\n",
      "       'source_url', 'post_classifier', 'blog_classifier_post',\n",
      "       'accepts_answers', 'reblogged_from_post_id', 'reblogged_from_metadata',\n",
      "       'root_post_id', 'body', 'mentions', 'post_tags', 'parsed_tags_minfreq1',\n",
      "       'follower', 'activity_time_epoch_desc', 'tumblr_blog_name_followee',\n",
      "       'tumblr_blog_title_followee', 'tumblr_blog_description_followee',\n",
      "       'tumblr_blog_url_followee', 'tumblr_blog_theme_followee',\n",
      "       'is_group_blog_followee', 'is_primary_followee', 'is_private_followee',\n",
      "       'created_time_epoch_desc', 'updated_time_epoch_desc',\n",
      "       'timezone_followee', 'language_followee', 'blog_classifier_desc',\n",
      "       'generated_date_followee', 'parsed_blog_description_followee',\n",
      "       'tumblog_id_follower', 'activity_time_epoch',\n",
      "       'tumblr_blog_name_follower', 'tumblr_blog_title_follower',\n",
      "       'tumblr_blog_description_follower', 'tumblr_blog_url_follower',\n",
      "       'tumblr_blog_theme_follower', 'is_group_blog_follower',\n",
      "       'is_primary_follower', 'is_private_follower', 'created_time_epoch',\n",
      "       'updated_time_epoch', 'timezone_follower', 'language_follower',\n",
      "       'blog_classifier', 'generated_date_follower',\n",
      "       'parsed_blog_description_follower'],\n",
      "      dtype='object')\n"
     ]
    }
   ],
   "source": [
    "# Load data to have outcome added to (sampled)\n",
    "# data = pd.read_pickle(os.path.join(data_dirpath, 'posts_descs_54k.pkl'))\n",
    "data = pd.read_pickle(os.path.join(data_dirpath, 'posts_descs_3m_rebloggers.pkl'))\n",
    "print(len(data))\n",
    "print(data.columns)"
   ]
  },
  {
   "cell_type": "code",
   "execution_count": 4,
   "metadata": {},
   "outputs": [
    {
     "data": {
      "text/plain": [
       "Index(['post_id', 'activity_time_epoch_post', 'post_title', 'post_short_url',\n",
       "       'post_type', 'post_caption', 'post_format', 'post_note_count',\n",
       "       'created_time_epoch_post', 'updated_time_epoch_post', 'is_submission',\n",
       "       'source_title', 'source_url', 'post_classifier', 'blog_classifier_post',\n",
       "       'accepts_answers', 'reblogged_from_post_id', 'reblogged_from_metadata',\n",
       "       'root_post_id', 'body', 'mentions', 'post_tags', 'parsed_tags_minfreq1',\n",
       "       'follower', 'activity_time_epoch', 'created_time_epoch',\n",
       "       'updated_time_epoch', 'blog_classifier'],\n",
       "      dtype='object')"
      ]
     },
     "execution_count": 4,
     "metadata": {},
     "output_type": "execute_result"
    }
   ],
   "source": [
    "# Remove columns previously merged\n",
    "merged_cols = [col for col in data.columns if not (col.endswith('_desc') or \\\n",
    "               col.endswith('_followee') or col.endswith('_follower'))]\n",
    "data = data[merged_cols]\n",
    "data.columns"
   ]
  },
  {
   "cell_type": "code",
   "execution_count": 12,
   "metadata": {
    "scrolled": true
   },
   "outputs": [
    {
     "name": "stdout",
     "output_type": "stream",
     "text": [
      "['accepts_answers',\n",
      " 'activity_time_epoch',\n",
      " 'activity_time_epoch_desc',\n",
      " 'activity_time_epoch_post',\n",
      " 'blog_classifier',\n",
      " 'blog_classifier_desc',\n",
      " 'blog_classifier_post',\n",
      " 'body',\n",
      " 'created_time_epoch',\n",
      " 'created_time_epoch_desc',\n",
      " 'created_time_epoch_post',\n",
      " 'follower',\n",
      " 'generated_date_followee',\n",
      " 'generated_date_follower',\n",
      " 'is_group_blog_followee',\n",
      " 'is_group_blog_follower',\n",
      " 'is_primary_followee',\n",
      " 'is_primary_follower',\n",
      " 'is_private_followee',\n",
      " 'is_private_follower',\n",
      " 'is_submission',\n",
      " 'language_followee',\n",
      " 'language_follower',\n",
      " 'mentions',\n",
      " 'parsed_blog_description_followee',\n",
      " 'parsed_blog_description_follower',\n",
      " 'parsed_tags_minfreq1',\n",
      " 'post_caption',\n",
      " 'post_classifier',\n",
      " 'post_format',\n",
      " 'post_id',\n",
      " 'post_note_count',\n",
      " 'post_short_url',\n",
      " 'post_tags',\n",
      " 'post_title',\n",
      " 'post_type',\n",
      " 'reblogged_from_metadata',\n",
      " 'reblogged_from_post_id',\n",
      " 'root_post_id',\n",
      " 'source_title',\n",
      " 'source_url',\n",
      " 'timezone_followee',\n",
      " 'timezone_follower',\n",
      " 'tumblog_id_followee',\n",
      " 'tumblog_id_follower',\n",
      " 'tumblr_blog_description_followee',\n",
      " 'tumblr_blog_description_follower',\n",
      " 'tumblr_blog_name_followee',\n",
      " 'tumblr_blog_name_follower',\n",
      " 'tumblr_blog_theme_followee',\n",
      " 'tumblr_blog_theme_follower',\n",
      " 'tumblr_blog_title_followee',\n",
      " 'tumblr_blog_title_follower',\n",
      " 'tumblr_blog_url_followee',\n",
      " 'tumblr_blog_url_follower',\n",
      " 'updated_time_epoch',\n",
      " 'updated_time_epoch_desc',\n",
      " 'updated_time_epoch_post']\n"
     ]
    }
   ],
   "source": [
    "pprint(sorted(data.columns.tolist()))"
   ]
  },
  {
   "cell_type": "code",
   "execution_count": 13,
   "metadata": {
    "scrolled": true
   },
   "outputs": [
    {
     "name": "stdout",
     "output_type": "stream",
     "text": [
      "['accepts_answers',\n",
      " 'activity_time_epoch_followee',\n",
      " 'activity_time_epoch_follower',\n",
      " 'activity_time_epoch_post',\n",
      " 'blog_classifier_followee',\n",
      " 'blog_classifier_follower',\n",
      " 'blog_classifier_post',\n",
      " 'body',\n",
      " 'created_time_epoch_followee',\n",
      " 'created_time_epoch_follower',\n",
      " 'created_time_epoch_post',\n",
      " 'follower',\n",
      " 'generated_date_followee',\n",
      " 'generated_date_follower',\n",
      " 'is_group_blog_followee',\n",
      " 'is_group_blog_follower',\n",
      " 'is_primary_followee',\n",
      " 'is_primary_follower',\n",
      " 'is_private_followee',\n",
      " 'is_private_follower',\n",
      " 'is_submission',\n",
      " 'language_followee',\n",
      " 'language_follower',\n",
      " 'mentions',\n",
      " 'parsed_blog_description_followee',\n",
      " 'parsed_blog_description_follower',\n",
      " 'parsed_tags_minfreq1',\n",
      " 'post_caption',\n",
      " 'post_classifier',\n",
      " 'post_format',\n",
      " 'post_id',\n",
      " 'post_note_count',\n",
      " 'post_short_url',\n",
      " 'post_tags',\n",
      " 'post_title',\n",
      " 'post_type',\n",
      " 'reblogged_from_metadata',\n",
      " 'reblogged_from_post_id',\n",
      " 'root_post_id',\n",
      " 'source_title',\n",
      " 'source_url',\n",
      " 'timezone_followee',\n",
      " 'timezone_follower',\n",
      " 'tumblog_id_followee',\n",
      " 'tumblog_id_follower',\n",
      " 'tumblr_blog_description_followee',\n",
      " 'tumblr_blog_description_follower',\n",
      " 'tumblr_blog_name_followee',\n",
      " 'tumblr_blog_name_follower',\n",
      " 'tumblr_blog_theme_followee',\n",
      " 'tumblr_blog_theme_follower',\n",
      " 'tumblr_blog_title_followee',\n",
      " 'tumblr_blog_title_follower',\n",
      " 'tumblr_blog_url_followee',\n",
      " 'tumblr_blog_url_follower',\n",
      " 'updated_time_epoch_followee',\n",
      " 'updated_time_epoch_follower',\n",
      " 'updated_time_epoch_post']\n"
     ]
    }
   ],
   "source": [
    "data.rename(columns={\n",
    "    'activity_time_epoch': 'activity_time_epoch_follower',\n",
    "    'activity_time_epoch_desc': 'activity_time_epoch_followee',\n",
    "    'blog_classifier': 'blog_classifier_follower',\n",
    "    'blog_classifier_desc': 'blog_classifier_followee',\n",
    "    'created_time_epoch': 'created_time_epoch_follower',\n",
    "    'created_time_epoch_desc': 'created_time_epoch_followee',\n",
    "    'updated_time_epoch': 'updated_time_epoch_follower',\n",
    "    'updated_time_epoch_desc': 'updated_time_epoch_followee',\n",
    "}, inplace=True)\n",
    "\n",
    "pprint(sorted(data.columns.tolist()))"
   ]
  },
  {
   "cell_type": "code",
   "execution_count": 14,
   "metadata": {
    "scrolled": true
   },
   "outputs": [
    {
     "name": "stdout",
     "output_type": "stream",
     "text": [
      "2703854\n",
      "['accepts_answers',\n",
      " 'activity_time_epoch',\n",
      " 'activity_time_epoch_followee',\n",
      " 'activity_time_epoch_follower',\n",
      " 'activity_time_epoch_post',\n",
      " 'age',\n",
      " 'age_terms',\n",
      " 'blog_classifier',\n",
      " 'blog_classifier_followee',\n",
      " 'blog_classifier_follower',\n",
      " 'blog_classifier_post',\n",
      " 'body',\n",
      " 'created_time_epoch',\n",
      " 'created_time_epoch_followee',\n",
      " 'created_time_epoch_follower',\n",
      " 'created_time_epoch_post',\n",
      " 'ethnicity/nationality',\n",
      " 'ethnicity/nationality_hegemonic_present',\n",
      " 'ethnicity/nationality_opposite_present',\n",
      " 'ethnicity/nationality_terms',\n",
      " 'fandoms',\n",
      " 'fandoms_terms',\n",
      " 'follower',\n",
      " 'gender',\n",
      " 'gender/sexuality',\n",
      " 'gender/sexuality_hegemonic_present',\n",
      " 'gender/sexuality_opposite_present',\n",
      " 'gender/sexuality_terms',\n",
      " 'gender_hegemonic_present',\n",
      " 'gender_opposite_present',\n",
      " 'gender_terms',\n",
      " 'generated_date',\n",
      " 'generated_date_followee',\n",
      " 'generated_date_follower',\n",
      " 'interests',\n",
      " 'interests_terms',\n",
      " 'is_group_blog',\n",
      " 'is_group_blog_followee',\n",
      " 'is_group_blog_follower',\n",
      " 'is_primary',\n",
      " 'is_primary_followee',\n",
      " 'is_primary_follower',\n",
      " 'is_private',\n",
      " 'is_private_followee',\n",
      " 'is_private_follower',\n",
      " 'is_submission',\n",
      " 'language',\n",
      " 'language_followee',\n",
      " 'language_follower',\n",
      " 'location',\n",
      " 'location_terms',\n",
      " 'mentions',\n",
      " 'parsed_blog_description',\n",
      " 'parsed_blog_description_followee',\n",
      " 'parsed_blog_description_follower',\n",
      " 'parsed_tags_minfreq1',\n",
      " 'personality type',\n",
      " 'personality type_terms',\n",
      " 'post_caption',\n",
      " 'post_classifier',\n",
      " 'post_format',\n",
      " 'post_id',\n",
      " 'post_note_count',\n",
      " 'post_short_url',\n",
      " 'post_tags',\n",
      " 'post_title',\n",
      " 'post_type',\n",
      " 'pronouns',\n",
      " 'pronouns_hegemonic_present',\n",
      " 'pronouns_opposite_present',\n",
      " 'pronouns_terms',\n",
      " 'reblogged_from_metadata',\n",
      " 'reblogged_from_post_id',\n",
      " 'relationship status',\n",
      " 'relationship status_terms',\n",
      " 'roleplay',\n",
      " 'roleplay/fandoms',\n",
      " 'roleplay/fandoms_terms',\n",
      " 'roleplay_terms',\n",
      " 'root_post_id',\n",
      " 'sexual orientation',\n",
      " 'sexual orientation_hegemonic_present',\n",
      " 'sexual orientation_opposite_present',\n",
      " 'sexual orientation_terms',\n",
      " 'source_title',\n",
      " 'source_url',\n",
      " 'timezone',\n",
      " 'timezone_followee',\n",
      " 'timezone_follower',\n",
      " 'tumblog_id',\n",
      " 'tumblog_id_followee',\n",
      " 'tumblog_id_follower',\n",
      " 'tumblr_blog_description',\n",
      " 'tumblr_blog_description_followee',\n",
      " 'tumblr_blog_description_follower',\n",
      " 'tumblr_blog_name',\n",
      " 'tumblr_blog_name_followee',\n",
      " 'tumblr_blog_name_follower',\n",
      " 'tumblr_blog_theme',\n",
      " 'tumblr_blog_theme_followee',\n",
      " 'tumblr_blog_theme_follower',\n",
      " 'tumblr_blog_title',\n",
      " 'tumblr_blog_title_followee',\n",
      " 'tumblr_blog_title_follower',\n",
      " 'tumblr_blog_url',\n",
      " 'tumblr_blog_url_followee',\n",
      " 'tumblr_blog_url_follower',\n",
      " 'updated_time_epoch',\n",
      " 'updated_time_epoch_followee',\n",
      " 'updated_time_epoch_follower',\n",
      " 'updated_time_epoch_post',\n",
      " 'weight',\n",
      " 'weight_terms']\n"
     ]
    }
   ],
   "source": [
    "# Merge in followee info\n",
    "merged = pd.merge(data, descs, left_on='tumblog_id_followee', right_on='tumblog_id', how='left', \n",
    "#                   suffixes=('_post', '_followee')\n",
    "                 )\n",
    "print(len(merged))\n",
    "pprint(sorted(merged.columns.tolist()))"
   ]
  },
  {
   "cell_type": "code",
   "execution_count": 15,
   "metadata": {
    "scrolled": true
   },
   "outputs": [
    {
     "name": "stdout",
     "output_type": "stream",
     "text": [
      "['accepts_answers',\n",
      " 'activity_time_epoch_followee',\n",
      " 'activity_time_epoch_follower',\n",
      " 'activity_time_epoch_post',\n",
      " 'age',\n",
      " 'age_terms',\n",
      " 'blog_classifier_followee',\n",
      " 'blog_classifier_follower',\n",
      " 'blog_classifier_post',\n",
      " 'body',\n",
      " 'created_time_epoch_followee',\n",
      " 'created_time_epoch_follower',\n",
      " 'created_time_epoch_post',\n",
      " 'ethnicity/nationality',\n",
      " 'ethnicity/nationality_hegemonic_present',\n",
      " 'ethnicity/nationality_opposite_present',\n",
      " 'ethnicity/nationality_terms',\n",
      " 'fandoms',\n",
      " 'fandoms_terms',\n",
      " 'follower',\n",
      " 'gender',\n",
      " 'gender/sexuality',\n",
      " 'gender/sexuality_hegemonic_present',\n",
      " 'gender/sexuality_opposite_present',\n",
      " 'gender/sexuality_terms',\n",
      " 'gender_hegemonic_present',\n",
      " 'gender_opposite_present',\n",
      " 'gender_terms',\n",
      " 'generated_date_followee',\n",
      " 'generated_date_follower',\n",
      " 'interests',\n",
      " 'interests_terms',\n",
      " 'is_group_blog_followee',\n",
      " 'is_group_blog_follower',\n",
      " 'is_primary_followee',\n",
      " 'is_primary_follower',\n",
      " 'is_private_followee',\n",
      " 'is_private_follower',\n",
      " 'is_submission',\n",
      " 'language_followee',\n",
      " 'language_follower',\n",
      " 'location',\n",
      " 'location_terms',\n",
      " 'mentions',\n",
      " 'parsed_blog_description_followee',\n",
      " 'parsed_blog_description_follower',\n",
      " 'parsed_tags_minfreq1',\n",
      " 'personality type',\n",
      " 'personality type_terms',\n",
      " 'post_caption',\n",
      " 'post_classifier',\n",
      " 'post_format',\n",
      " 'post_id',\n",
      " 'post_note_count',\n",
      " 'post_short_url',\n",
      " 'post_tags',\n",
      " 'post_title',\n",
      " 'post_type',\n",
      " 'pronouns',\n",
      " 'pronouns_hegemonic_present',\n",
      " 'pronouns_opposite_present',\n",
      " 'pronouns_terms',\n",
      " 'reblogged_from_metadata',\n",
      " 'reblogged_from_post_id',\n",
      " 'relationship status',\n",
      " 'relationship status_terms',\n",
      " 'roleplay',\n",
      " 'roleplay/fandoms',\n",
      " 'roleplay/fandoms_terms',\n",
      " 'roleplay_terms',\n",
      " 'root_post_id',\n",
      " 'sexual orientation',\n",
      " 'sexual orientation_hegemonic_present',\n",
      " 'sexual orientation_opposite_present',\n",
      " 'sexual orientation_terms',\n",
      " 'source_title',\n",
      " 'source_url',\n",
      " 'timezone',\n",
      " 'timezone_followee',\n",
      " 'timezone_follower',\n",
      " 'tumblog_id',\n",
      " 'tumblog_id_followee',\n",
      " 'tumblog_id_follower',\n",
      " 'tumblr_blog_description_followee',\n",
      " 'tumblr_blog_description_follower',\n",
      " 'tumblr_blog_name_followee',\n",
      " 'tumblr_blog_name_follower',\n",
      " 'tumblr_blog_theme_followee',\n",
      " 'tumblr_blog_theme_follower',\n",
      " 'tumblr_blog_title_followee',\n",
      " 'tumblr_blog_title_follower',\n",
      " 'tumblr_blog_url_followee',\n",
      " 'tumblr_blog_url_follower',\n",
      " 'updated_time_epoch_followee',\n",
      " 'updated_time_epoch_follower',\n",
      " 'updated_time_epoch_post',\n",
      " 'weight',\n",
      " 'weight_terms']\n"
     ]
    }
   ],
   "source": [
    "merged.drop('activity_time_epoch', axis=1, inplace=True)\n",
    "merged.drop('blog_classifier', axis=1, inplace=True)\n",
    "merged.drop('created_time_epoch', axis=1, inplace=True)\n",
    "merged.drop('generated_date', axis=1, inplace=True)\n",
    "merged.drop('is_group_blog', axis=1, inplace=True)\n",
    "merged.drop('is_primary', axis=1, inplace=True)\n",
    "merged.drop('is_private', axis=1, inplace=True)\n",
    "merged.drop('language', axis=1, inplace=True)\n",
    "merged.drop('parsed_blog_description', axis=1, inplace=True)\n",
    "merged.drop('tumblr_blog_description', axis=1, inplace=True)\n",
    "merged.drop('tumblr_blog_name', axis=1, inplace=True)\n",
    "merged.drop('tumblr_blog_theme', axis=1, inplace=True)\n",
    "merged.drop('tumblr_blog_title', axis=1, inplace=True)\n",
    "merged.drop('tumblr_blog_url', axis=1, inplace=True)\n",
    "merged.drop('updated_time_epoch', axis=1, inplace=True)\n",
    "pprint(sorted(merged.columns.tolist()))"
   ]
  },
  {
   "cell_type": "code",
   "execution_count": 16,
   "metadata": {},
   "outputs": [],
   "source": [
    "desc_cats = [\n",
    "    'age',\n",
    "    'ethnicity/nationality',\n",
    "    'fandoms',\n",
    "    'gender',\n",
    "    'gender/sexuality',\n",
    "    'interests',\n",
    "    'location',\n",
    "    'personality_type',\n",
    "    'pronouns',\n",
    "    'roleplay',\n",
    "    'roleplay/fandoms',\n",
    "    'sexual orientation',\n",
    "    'weight',\n",
    "]"
   ]
  },
  {
   "cell_type": "code",
   "execution_count": 19,
   "metadata": {
    "scrolled": true
   },
   "outputs": [
    {
     "name": "stdout",
     "output_type": "stream",
     "text": [
      "['accepts_answers',\n",
      " 'activity_time_epoch_followee',\n",
      " 'activity_time_epoch_follower',\n",
      " 'activity_time_epoch_post',\n",
      " 'age_followee',\n",
      " 'age_terms_followee',\n",
      " 'blog_classifier_followee',\n",
      " 'blog_classifier_follower',\n",
      " 'blog_classifier_post',\n",
      " 'body',\n",
      " 'created_time_epoch_followee',\n",
      " 'created_time_epoch_follower',\n",
      " 'created_time_epoch_post',\n",
      " 'ethnicity/nationality_followee',\n",
      " 'ethnicity/nationality_hegemonic_present_followee',\n",
      " 'ethnicity/nationality_opposite_present_followee',\n",
      " 'ethnicity/nationality_terms_followee',\n",
      " 'fandoms_followee',\n",
      " 'fandoms_terms_followee',\n",
      " 'follower',\n",
      " 'gender/sexuality_followee',\n",
      " 'gender/sexuality_hegemonic_present_followee',\n",
      " 'gender/sexuality_opposite_present_followee',\n",
      " 'gender/sexuality_terms_followee',\n",
      " 'gender_followee',\n",
      " 'gender_hegemonic_present_followee',\n",
      " 'gender_opposite_present_followee',\n",
      " 'gender_terms_followee',\n",
      " 'generated_date_followee',\n",
      " 'generated_date_follower',\n",
      " 'interests_followee',\n",
      " 'interests_terms_followee',\n",
      " 'is_group_blog_followee',\n",
      " 'is_group_blog_follower',\n",
      " 'is_primary_followee',\n",
      " 'is_primary_follower',\n",
      " 'is_private_followee',\n",
      " 'is_private_follower',\n",
      " 'is_submission',\n",
      " 'language_followee',\n",
      " 'language_follower',\n",
      " 'location_followee',\n",
      " 'location_terms_followee',\n",
      " 'mentions',\n",
      " 'parsed_blog_description_followee',\n",
      " 'parsed_blog_description_follower',\n",
      " 'parsed_tags_minfreq1',\n",
      " 'personality type',\n",
      " 'personality type_terms',\n",
      " 'post_caption',\n",
      " 'post_classifier',\n",
      " 'post_format',\n",
      " 'post_id',\n",
      " 'post_note_count',\n",
      " 'post_short_url',\n",
      " 'post_tags',\n",
      " 'post_title',\n",
      " 'post_type',\n",
      " 'pronouns_followee',\n",
      " 'pronouns_hegemonic_present_followee',\n",
      " 'pronouns_opposite_present_followee',\n",
      " 'pronouns_terms_followee',\n",
      " 'reblogged_from_metadata',\n",
      " 'reblogged_from_post_id',\n",
      " 'relationship status',\n",
      " 'relationship status_terms',\n",
      " 'roleplay/fandoms_followee',\n",
      " 'roleplay/fandoms_terms_followee',\n",
      " 'roleplay_followee',\n",
      " 'roleplay_terms_followee',\n",
      " 'root_post_id',\n",
      " 'sexual_orientation_followee',\n",
      " 'sexual_orientation_hegemonic_present_followee',\n",
      " 'sexual_orientation_opposite_present_followee',\n",
      " 'sexual_orientation_terms_followee',\n",
      " 'source_title',\n",
      " 'source_url',\n",
      " 'timezone',\n",
      " 'timezone_followee',\n",
      " 'timezone_follower',\n",
      " 'tumblog_id',\n",
      " 'tumblog_id_followee',\n",
      " 'tumblog_id_follower',\n",
      " 'tumblr_blog_description_followee',\n",
      " 'tumblr_blog_description_follower',\n",
      " 'tumblr_blog_name_followee',\n",
      " 'tumblr_blog_name_follower',\n",
      " 'tumblr_blog_theme_followee',\n",
      " 'tumblr_blog_theme_follower',\n",
      " 'tumblr_blog_title_followee',\n",
      " 'tumblr_blog_title_follower',\n",
      " 'tumblr_blog_url_followee',\n",
      " 'tumblr_blog_url_follower',\n",
      " 'updated_time_epoch_followee',\n",
      " 'updated_time_epoch_follower',\n",
      " 'updated_time_epoch_post',\n",
      " 'weight_followee',\n",
      " 'weight_terms_followee']\n"
     ]
    }
   ],
   "source": [
    "for cat in desc_cats:\n",
    "    merged.rename(columns={\n",
    "        cat: f'{cat.replace(\" \",\"_\")}_followee',\n",
    "        f'{cat}_terms': f'{cat.replace(\" \",\"_\")}_terms_followee',\n",
    "    }, inplace=True)\n",
    "        \n",
    "    if f'{cat}_hegemonic_present' in merged.columns:\n",
    "        merged.rename(columns={\n",
    "            f'{cat}_hegemonic_present': f'{cat.replace(\" \",\"_\")}_hegemonic_present_followee',\n",
    "            f'{cat}_opposite_present': f'{cat.replace(\" \",\"_\")}_opposite_present_followee',\n",
    "        }, inplace=True)\n",
    "\n",
    "pprint(sorted(merged.columns.tolist()))"
   ]
  },
  {
   "cell_type": "code",
   "execution_count": 20,
   "metadata": {
    "scrolled": true
   },
   "outputs": [
    {
     "name": "stdout",
     "output_type": "stream",
     "text": [
      "2703854\n",
      "['accepts_answers',\n",
      " 'activity_time_epoch',\n",
      " 'activity_time_epoch_followee',\n",
      " 'activity_time_epoch_follower',\n",
      " 'activity_time_epoch_post',\n",
      " 'age',\n",
      " 'age_followee',\n",
      " 'age_terms',\n",
      " 'age_terms_followee',\n",
      " 'blog_classifier',\n",
      " 'blog_classifier_followee',\n",
      " 'blog_classifier_follower',\n",
      " 'blog_classifier_post',\n",
      " 'body',\n",
      " 'created_time_epoch',\n",
      " 'created_time_epoch_followee',\n",
      " 'created_time_epoch_follower',\n",
      " 'created_time_epoch_post',\n",
      " 'ethnicity/nationality',\n",
      " 'ethnicity/nationality_followee',\n",
      " 'ethnicity/nationality_hegemonic_present',\n",
      " 'ethnicity/nationality_hegemonic_present_followee',\n",
      " 'ethnicity/nationality_opposite_present',\n",
      " 'ethnicity/nationality_opposite_present_followee',\n",
      " 'ethnicity/nationality_terms',\n",
      " 'ethnicity/nationality_terms_followee',\n",
      " 'fandoms',\n",
      " 'fandoms_followee',\n",
      " 'fandoms_terms',\n",
      " 'fandoms_terms_followee',\n",
      " 'follower',\n",
      " 'gender',\n",
      " 'gender/sexuality',\n",
      " 'gender/sexuality_followee',\n",
      " 'gender/sexuality_hegemonic_present',\n",
      " 'gender/sexuality_hegemonic_present_followee',\n",
      " 'gender/sexuality_opposite_present',\n",
      " 'gender/sexuality_opposite_present_followee',\n",
      " 'gender/sexuality_terms',\n",
      " 'gender/sexuality_terms_followee',\n",
      " 'gender_followee',\n",
      " 'gender_hegemonic_present',\n",
      " 'gender_hegemonic_present_followee',\n",
      " 'gender_opposite_present',\n",
      " 'gender_opposite_present_followee',\n",
      " 'gender_terms',\n",
      " 'gender_terms_followee',\n",
      " 'generated_date',\n",
      " 'generated_date_followee',\n",
      " 'generated_date_follower',\n",
      " 'interests',\n",
      " 'interests_followee',\n",
      " 'interests_terms',\n",
      " 'interests_terms_followee',\n",
      " 'is_group_blog',\n",
      " 'is_group_blog_followee',\n",
      " 'is_group_blog_follower',\n",
      " 'is_primary',\n",
      " 'is_primary_followee',\n",
      " 'is_primary_follower',\n",
      " 'is_private',\n",
      " 'is_private_followee',\n",
      " 'is_private_follower',\n",
      " 'is_submission',\n",
      " 'language',\n",
      " 'language_followee',\n",
      " 'language_follower',\n",
      " 'location',\n",
      " 'location_followee',\n",
      " 'location_terms',\n",
      " 'location_terms_followee',\n",
      " 'mentions',\n",
      " 'parsed_blog_description',\n",
      " 'parsed_blog_description_followee',\n",
      " 'parsed_blog_description_follower',\n",
      " 'parsed_tags_minfreq1',\n",
      " 'personality type_terms_x',\n",
      " 'personality type_terms_y',\n",
      " 'personality type_x',\n",
      " 'personality type_y',\n",
      " 'post_caption',\n",
      " 'post_classifier',\n",
      " 'post_format',\n",
      " 'post_id',\n",
      " 'post_note_count',\n",
      " 'post_short_url',\n",
      " 'post_tags',\n",
      " 'post_title',\n",
      " 'post_type',\n",
      " 'pronouns',\n",
      " 'pronouns_followee',\n",
      " 'pronouns_hegemonic_present',\n",
      " 'pronouns_hegemonic_present_followee',\n",
      " 'pronouns_opposite_present',\n",
      " 'pronouns_opposite_present_followee',\n",
      " 'pronouns_terms',\n",
      " 'pronouns_terms_followee',\n",
      " 'reblogged_from_metadata',\n",
      " 'reblogged_from_post_id',\n",
      " 'relationship status_terms_x',\n",
      " 'relationship status_terms_y',\n",
      " 'relationship status_x',\n",
      " 'relationship status_y',\n",
      " 'roleplay',\n",
      " 'roleplay/fandoms',\n",
      " 'roleplay/fandoms_followee',\n",
      " 'roleplay/fandoms_terms',\n",
      " 'roleplay/fandoms_terms_followee',\n",
      " 'roleplay_followee',\n",
      " 'roleplay_terms',\n",
      " 'roleplay_terms_followee',\n",
      " 'root_post_id',\n",
      " 'sexual orientation',\n",
      " 'sexual orientation_hegemonic_present',\n",
      " 'sexual orientation_opposite_present',\n",
      " 'sexual orientation_terms',\n",
      " 'sexual_orientation_followee',\n",
      " 'sexual_orientation_hegemonic_present_followee',\n",
      " 'sexual_orientation_opposite_present_followee',\n",
      " 'sexual_orientation_terms_followee',\n",
      " 'source_title',\n",
      " 'source_url',\n",
      " 'timezone_followee',\n",
      " 'timezone_follower',\n",
      " 'timezone_x',\n",
      " 'timezone_y',\n",
      " 'tumblog_id_followee',\n",
      " 'tumblog_id_follower',\n",
      " 'tumblog_id_x',\n",
      " 'tumblog_id_y',\n",
      " 'tumblr_blog_description',\n",
      " 'tumblr_blog_description_followee',\n",
      " 'tumblr_blog_description_follower',\n",
      " 'tumblr_blog_name',\n",
      " 'tumblr_blog_name_followee',\n",
      " 'tumblr_blog_name_follower',\n",
      " 'tumblr_blog_theme',\n",
      " 'tumblr_blog_theme_followee',\n",
      " 'tumblr_blog_theme_follower',\n",
      " 'tumblr_blog_title',\n",
      " 'tumblr_blog_title_followee',\n",
      " 'tumblr_blog_title_follower',\n",
      " 'tumblr_blog_url',\n",
      " 'tumblr_blog_url_followee',\n",
      " 'tumblr_blog_url_follower',\n",
      " 'updated_time_epoch',\n",
      " 'updated_time_epoch_followee',\n",
      " 'updated_time_epoch_follower',\n",
      " 'updated_time_epoch_post',\n",
      " 'weight',\n",
      " 'weight_followee',\n",
      " 'weight_terms',\n",
      " 'weight_terms_followee']\n"
     ]
    }
   ],
   "source": [
    "# Merge in follower info\n",
    "merged = pd.merge(merged, descs, left_on='follower', right_on='tumblog_id', how='left',\n",
    "#                   suffixes=('_followee', '_follower')\n",
    "                 )\n",
    "print(len(merged))\n",
    "pprint(sorted(merged.columns))"
   ]
  },
  {
   "cell_type": "code",
   "execution_count": 21,
   "metadata": {
    "scrolled": true
   },
   "outputs": [
    {
     "name": "stdout",
     "output_type": "stream",
     "text": [
      "['accepts_answers',\n",
      " 'activity_time_epoch_followee',\n",
      " 'activity_time_epoch_follower',\n",
      " 'activity_time_epoch_post',\n",
      " 'age',\n",
      " 'age_followee',\n",
      " 'age_terms',\n",
      " 'age_terms_followee',\n",
      " 'blog_classifier_followee',\n",
      " 'blog_classifier_follower',\n",
      " 'blog_classifier_post',\n",
      " 'body',\n",
      " 'created_time_epoch_followee',\n",
      " 'created_time_epoch_follower',\n",
      " 'created_time_epoch_post',\n",
      " 'ethnicity/nationality',\n",
      " 'ethnicity/nationality_followee',\n",
      " 'ethnicity/nationality_hegemonic_present',\n",
      " 'ethnicity/nationality_hegemonic_present_followee',\n",
      " 'ethnicity/nationality_opposite_present',\n",
      " 'ethnicity/nationality_opposite_present_followee',\n",
      " 'ethnicity/nationality_terms',\n",
      " 'ethnicity/nationality_terms_followee',\n",
      " 'fandoms',\n",
      " 'fandoms_followee',\n",
      " 'fandoms_terms',\n",
      " 'fandoms_terms_followee',\n",
      " 'follower',\n",
      " 'gender',\n",
      " 'gender/sexuality',\n",
      " 'gender/sexuality_followee',\n",
      " 'gender/sexuality_hegemonic_present',\n",
      " 'gender/sexuality_hegemonic_present_followee',\n",
      " 'gender/sexuality_opposite_present',\n",
      " 'gender/sexuality_opposite_present_followee',\n",
      " 'gender/sexuality_terms',\n",
      " 'gender/sexuality_terms_followee',\n",
      " 'gender_followee',\n",
      " 'gender_hegemonic_present',\n",
      " 'gender_hegemonic_present_followee',\n",
      " 'gender_opposite_present',\n",
      " 'gender_opposite_present_followee',\n",
      " 'gender_terms',\n",
      " 'gender_terms_followee',\n",
      " 'generated_date_followee',\n",
      " 'generated_date_follower',\n",
      " 'interests',\n",
      " 'interests_followee',\n",
      " 'interests_terms',\n",
      " 'interests_terms_followee',\n",
      " 'is_group_blog_followee',\n",
      " 'is_group_blog_follower',\n",
      " 'is_primary_followee',\n",
      " 'is_primary_follower',\n",
      " 'is_private_followee',\n",
      " 'is_private_follower',\n",
      " 'is_submission',\n",
      " 'language_followee',\n",
      " 'language_follower',\n",
      " 'location',\n",
      " 'location_followee',\n",
      " 'location_terms',\n",
      " 'location_terms_followee',\n",
      " 'mentions',\n",
      " 'parsed_blog_description_followee',\n",
      " 'parsed_blog_description_follower',\n",
      " 'parsed_tags_minfreq1',\n",
      " 'personality type_terms_x',\n",
      " 'personality type_terms_y',\n",
      " 'personality type_x',\n",
      " 'personality type_y',\n",
      " 'post_caption',\n",
      " 'post_classifier',\n",
      " 'post_format',\n",
      " 'post_id',\n",
      " 'post_note_count',\n",
      " 'post_short_url',\n",
      " 'post_tags',\n",
      " 'post_title',\n",
      " 'post_type',\n",
      " 'pronouns',\n",
      " 'pronouns_followee',\n",
      " 'pronouns_hegemonic_present',\n",
      " 'pronouns_hegemonic_present_followee',\n",
      " 'pronouns_opposite_present',\n",
      " 'pronouns_opposite_present_followee',\n",
      " 'pronouns_terms',\n",
      " 'pronouns_terms_followee',\n",
      " 'reblogged_from_metadata',\n",
      " 'reblogged_from_post_id',\n",
      " 'relationship status_terms_x',\n",
      " 'relationship status_terms_y',\n",
      " 'relationship status_x',\n",
      " 'relationship status_y',\n",
      " 'roleplay',\n",
      " 'roleplay/fandoms',\n",
      " 'roleplay/fandoms_followee',\n",
      " 'roleplay/fandoms_terms',\n",
      " 'roleplay/fandoms_terms_followee',\n",
      " 'roleplay_followee',\n",
      " 'roleplay_terms',\n",
      " 'roleplay_terms_followee',\n",
      " 'root_post_id',\n",
      " 'sexual orientation',\n",
      " 'sexual orientation_hegemonic_present',\n",
      " 'sexual orientation_opposite_present',\n",
      " 'sexual orientation_terms',\n",
      " 'sexual_orientation_followee',\n",
      " 'sexual_orientation_hegemonic_present_followee',\n",
      " 'sexual_orientation_opposite_present_followee',\n",
      " 'sexual_orientation_terms_followee',\n",
      " 'source_title',\n",
      " 'source_url',\n",
      " 'timezone_followee',\n",
      " 'timezone_follower',\n",
      " 'tumblog_id_followee',\n",
      " 'tumblog_id_follower',\n",
      " 'tumblr_blog_description_followee',\n",
      " 'tumblr_blog_description_follower',\n",
      " 'tumblr_blog_name_followee',\n",
      " 'tumblr_blog_name_follower',\n",
      " 'tumblr_blog_theme_followee',\n",
      " 'tumblr_blog_theme_follower',\n",
      " 'tumblr_blog_title_followee',\n",
      " 'tumblr_blog_title_follower',\n",
      " 'tumblr_blog_url_followee',\n",
      " 'tumblr_blog_url_follower',\n",
      " 'updated_time_epoch_followee',\n",
      " 'updated_time_epoch_follower',\n",
      " 'updated_time_epoch_post',\n",
      " 'weight',\n",
      " 'weight_followee',\n",
      " 'weight_terms',\n",
      " 'weight_terms_followee']\n"
     ]
    }
   ],
   "source": [
    "merged.drop('activity_time_epoch', axis=1, inplace=True)\n",
    "merged.drop('blog_classifier', axis=1, inplace=True)\n",
    "merged.drop('created_time_epoch', axis=1, inplace=True)\n",
    "merged.drop('generated_date', axis=1, inplace=True)\n",
    "merged.drop('is_group_blog', axis=1, inplace=True)\n",
    "merged.drop('is_primary', axis=1, inplace=True)\n",
    "merged.drop('is_private', axis=1, inplace=True)\n",
    "merged.drop('language', axis=1, inplace=True)\n",
    "merged.drop('parsed_blog_description', axis=1, inplace=True)\n",
    "merged.drop('timezone_x', axis=1, inplace=True)\n",
    "merged.drop('timezone_y', axis=1, inplace=True)\n",
    "merged.drop('tumblog_id_x', axis=1, inplace=True)\n",
    "merged.drop('tumblog_id_y', axis=1, inplace=True)\n",
    "merged.drop('tumblr_blog_description', axis=1, inplace=True)\n",
    "merged.drop('tumblr_blog_name', axis=1, inplace=True)\n",
    "merged.drop('tumblr_blog_theme', axis=1, inplace=True)\n",
    "merged.drop('tumblr_blog_title', axis=1, inplace=True)\n",
    "merged.drop('tumblr_blog_url', axis=1, inplace=True)\n",
    "merged.drop('updated_time_epoch', axis=1, inplace=True)\n",
    "pprint(sorted(merged.columns.tolist()))"
   ]
  },
  {
   "cell_type": "code",
   "execution_count": 22,
   "metadata": {
    "scrolled": true
   },
   "outputs": [
    {
     "name": "stdout",
     "output_type": "stream",
     "text": [
      "['accepts_answers',\n",
      " 'activity_time_epoch_followee',\n",
      " 'activity_time_epoch_follower',\n",
      " 'activity_time_epoch_post',\n",
      " 'age_followee',\n",
      " 'age_follower',\n",
      " 'age_terms_followee',\n",
      " 'age_terms_follower',\n",
      " 'blog_classifier_followee',\n",
      " 'blog_classifier_follower',\n",
      " 'blog_classifier_post',\n",
      " 'body',\n",
      " 'created_time_epoch_followee',\n",
      " 'created_time_epoch_follower',\n",
      " 'created_time_epoch_post',\n",
      " 'ethnicity/nationality_followee',\n",
      " 'ethnicity/nationality_follower',\n",
      " 'ethnicity/nationality_hegemonic_present_followee',\n",
      " 'ethnicity/nationality_hegemonic_present_follower',\n",
      " 'ethnicity/nationality_opposite_present_followee',\n",
      " 'ethnicity/nationality_opposite_present_follower',\n",
      " 'ethnicity/nationality_terms_followee',\n",
      " 'ethnicity/nationality_terms_follower',\n",
      " 'fandoms_followee',\n",
      " 'fandoms_follower',\n",
      " 'fandoms_terms_followee',\n",
      " 'fandoms_terms_follower',\n",
      " 'follower',\n",
      " 'gender/sexuality_followee',\n",
      " 'gender/sexuality_follower',\n",
      " 'gender/sexuality_hegemonic_present_followee',\n",
      " 'gender/sexuality_hegemonic_present_follower',\n",
      " 'gender/sexuality_opposite_present_followee',\n",
      " 'gender/sexuality_opposite_present_follower',\n",
      " 'gender/sexuality_terms_followee',\n",
      " 'gender/sexuality_terms_follower',\n",
      " 'gender_followee',\n",
      " 'gender_follower',\n",
      " 'gender_hegemonic_present_followee',\n",
      " 'gender_hegemonic_present_follower',\n",
      " 'gender_opposite_present_followee',\n",
      " 'gender_opposite_present_follower',\n",
      " 'gender_terms_followee',\n",
      " 'gender_terms_follower',\n",
      " 'generated_date_followee',\n",
      " 'generated_date_follower',\n",
      " 'interests_followee',\n",
      " 'interests_follower',\n",
      " 'interests_terms_followee',\n",
      " 'interests_terms_follower',\n",
      " 'is_group_blog_followee',\n",
      " 'is_group_blog_follower',\n",
      " 'is_primary_followee',\n",
      " 'is_primary_follower',\n",
      " 'is_private_followee',\n",
      " 'is_private_follower',\n",
      " 'is_submission',\n",
      " 'language_followee',\n",
      " 'language_follower',\n",
      " 'location_followee',\n",
      " 'location_follower',\n",
      " 'location_terms_followee',\n",
      " 'location_terms_follower',\n",
      " 'mentions',\n",
      " 'parsed_blog_description_followee',\n",
      " 'parsed_blog_description_follower',\n",
      " 'parsed_tags_minfreq1',\n",
      " 'personality type_terms_x',\n",
      " 'personality type_terms_y',\n",
      " 'personality type_x',\n",
      " 'personality type_y',\n",
      " 'post_caption',\n",
      " 'post_classifier',\n",
      " 'post_format',\n",
      " 'post_id',\n",
      " 'post_note_count',\n",
      " 'post_short_url',\n",
      " 'post_tags',\n",
      " 'post_title',\n",
      " 'post_type',\n",
      " 'pronouns_followee',\n",
      " 'pronouns_follower',\n",
      " 'pronouns_hegemonic_present_followee',\n",
      " 'pronouns_hegemonic_present_follower',\n",
      " 'pronouns_opposite_present_followee',\n",
      " 'pronouns_opposite_present_follower',\n",
      " 'pronouns_terms_followee',\n",
      " 'pronouns_terms_follower',\n",
      " 'reblogged_from_metadata',\n",
      " 'reblogged_from_post_id',\n",
      " 'relationship status_terms_x',\n",
      " 'relationship status_terms_y',\n",
      " 'relationship status_x',\n",
      " 'relationship status_y',\n",
      " 'roleplay/fandoms_followee',\n",
      " 'roleplay/fandoms_follower',\n",
      " 'roleplay/fandoms_terms_followee',\n",
      " 'roleplay/fandoms_terms_follower',\n",
      " 'roleplay_followee',\n",
      " 'roleplay_follower',\n",
      " 'roleplay_terms_followee',\n",
      " 'roleplay_terms_follower',\n",
      " 'root_post_id',\n",
      " 'sexual_orientation_followee',\n",
      " 'sexual_orientation_follower',\n",
      " 'sexual_orientation_hegemonic_present_followee',\n",
      " 'sexual_orientation_hegemonic_present_follower',\n",
      " 'sexual_orientation_opposite_present_followee',\n",
      " 'sexual_orientation_opposite_present_follower',\n",
      " 'sexual_orientation_terms_followee',\n",
      " 'sexual_orientation_terms_follower',\n",
      " 'source_title',\n",
      " 'source_url',\n",
      " 'timezone_followee',\n",
      " 'timezone_follower',\n",
      " 'tumblog_id_followee',\n",
      " 'tumblog_id_follower',\n",
      " 'tumblr_blog_description_followee',\n",
      " 'tumblr_blog_description_follower',\n",
      " 'tumblr_blog_name_followee',\n",
      " 'tumblr_blog_name_follower',\n",
      " 'tumblr_blog_theme_followee',\n",
      " 'tumblr_blog_theme_follower',\n",
      " 'tumblr_blog_title_followee',\n",
      " 'tumblr_blog_title_follower',\n",
      " 'tumblr_blog_url_followee',\n",
      " 'tumblr_blog_url_follower',\n",
      " 'updated_time_epoch_followee',\n",
      " 'updated_time_epoch_follower',\n",
      " 'updated_time_epoch_post',\n",
      " 'weight_followee',\n",
      " 'weight_follower',\n",
      " 'weight_terms_followee',\n",
      " 'weight_terms_follower']\n"
     ]
    }
   ],
   "source": [
    "for cat in desc_cats:\n",
    "    merged.rename(columns={\n",
    "        cat: f'{cat.replace(\" \",\"_\")}_follower',\n",
    "        f'{cat}_terms': f'{cat.replace(\" \",\"_\")}_terms_follower',\n",
    "    }, inplace=True)\n",
    "        \n",
    "    if f'{cat}_hegemonic_present' in merged.columns:\n",
    "        merged.rename(columns={\n",
    "            f'{cat}_hegemonic_present': f'{cat.replace(\" \",\"_\")}_hegemonic_present_follower',\n",
    "            f'{cat}_opposite_present': f'{cat.replace(\" \",\"_\")}_opposite_present_follower',\n",
    "        }, inplace=True)\n",
    "\n",
    "pprint(sorted(merged.columns.tolist()))"
   ]
  },
  {
   "cell_type": "code",
   "execution_count": 23,
   "metadata": {},
   "outputs": [],
   "source": [
    "merged.to_pickle(os.path.join(data_dirpath, 'posts_descs_3m_rebloggers.pkl'))"
   ]
  }
 ],
 "metadata": {
  "kernelspec": {
   "display_name": "Python 3",
   "language": "python",
   "name": "python3"
  },
  "language_info": {
   "codemirror_mode": {
    "name": "ipython",
    "version": 3
   },
   "file_extension": ".py",
   "mimetype": "text/x-python",
   "name": "python",
   "nbconvert_exporter": "python",
   "pygments_lexer": "ipython3",
   "version": "3.6.5"
  }
 },
 "nbformat": 4,
 "nbformat_minor": 2
}
