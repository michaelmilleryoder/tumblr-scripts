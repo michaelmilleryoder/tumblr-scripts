{
 "cells": [
  {
   "cell_type": "code",
   "execution_count": 2,
   "metadata": {},
   "outputs": [],
   "source": [
    "import pandas as pd\n",
    "import os\n",
    "import pickle\n",
    "\n",
    "data_dirpath = '/usr2/mamille2/tumblr/data'"
   ]
  },
  {
   "cell_type": "markdown",
   "metadata": {},
   "source": [
    "# Examine parsed tags"
   ]
  },
  {
   "cell_type": "code",
   "execution_count": 26,
   "metadata": {},
   "outputs": [
    {
     "name": "stdout",
     "output_type": "stream",
     "text": [
      "2026600\n"
     ]
    },
    {
     "data": {
      "text/plain": [
       "Index(['post_id', 'activity_time_epoch', 'tumblog_id', 'post_title',\n",
       "       'post_short_url', 'post_type', 'post_caption', 'post_format',\n",
       "       'post_note_count', 'created_time_epoch', 'updated_time_epoch',\n",
       "       'is_submission', 'source_title', 'source_url', 'post_classifier',\n",
       "       'blog_classifier', 'accepts_answers', 'reblogged_from_post_id',\n",
       "       'reblogged_from_metadata', 'root_post_id', 'body', 'mentions',\n",
       "       'post_tags', 'body_toks', 'body_str', 'body_toks_no_titles',\n",
       "       'body_toks_str_no_titles', 'parsed_tags_minfreq3'],\n",
       "      dtype='object')"
      ]
     },
     "execution_count": 26,
     "metadata": {},
     "output_type": "execute_result"
    }
   ],
   "source": [
    "# Load data\n",
    "data = pd.read_pickle(os.path.join(data_dirpath, 'textposts_100posts.pkl'))\n",
    "print(len(data))\n",
    "data.columns"
   ]
  },
  {
   "cell_type": "code",
   "execution_count": 27,
   "metadata": {
    "scrolled": true
   },
   "outputs": [
    {
     "data": {
      "text/plain": [
       "25642480    []                                                                                                          \n",
       "9632750     [event:_spring_fling]                                                                                       \n",
       "13215480    [tbh, tru]                                                                                                  \n",
       "14654921    []                                                                                                          \n",
       "13559000    []                                                                                                          \n",
       "12413677    []                                                                                                          \n",
       "22661574    []                                                                                                          \n",
       "12799572    []                                                                                                          \n",
       "25464683    []                                                                                                          \n",
       "20671517    []                                                                                                          \n",
       "6267964     []                                                                                                          \n",
       "16536983    []                                                                                                          \n",
       "8986968     [{{_interactions._}}, {{_ft._alex._}}, starterreply]                                                        \n",
       "10790395    [gif_icons]                                                                                                 \n",
       "10379905    [lesbian, love_wins, wlw, love_is_love, lgbt, lgbtq, queer, love, bisexual, gay, lgbt_girls, pride, sapphic]\n",
       "4261872     [r:_gif_hunt, gentlemen]                                                                                    \n",
       "19265170    []                                                                                                          \n",
       "25037214    [mom_1, shay]                                                                                               \n",
       "21755032    [((_&&_chats_)), welcome!!]                                                                                 \n",
       "13053476    [「☠」┊┊_ ᴰᵉ_ᴹᵒʳⁱᵇᵘˢ_(ooc)]                                                                                   \n",
       "6494167     []                                                                                                          \n",
       "24489270    []                                                                                                          \n",
       "19708809    [just_saying]                                                                                               \n",
       "3755663     [yikes, what]                                                                                               \n",
       "22983592    []                                                                                                          \n",
       "7660586     [(_beaconbottomboys_)]                                                                                      \n",
       "5128236     []                                                                                                          \n",
       "3746054     []                                                                                                          \n",
       "12261710    []                                                                                                          \n",
       "146864      [boost]                                                                                                     \n",
       "             ...                                                                                                        \n",
       "17577324    []                                                                                                          \n",
       "3624166     []                                                                                                          \n",
       "7121472     []                                                                                                          \n",
       "23269039    []                                                                                                          \n",
       "20219034    [txt]                                                                                                       \n",
       "11917381    []                                                                                                          \n",
       "16875240    [m, text, berri, replies]                                                                                   \n",
       "25538495    [_uuid:e657da59-4aa4-3926-9ff8-be7290022e64, _revsp:jcrs.uol.com.br, _lmsid:a0vd0000003si9yeae]             \n",
       "6316655     []                                                                                                          \n",
       "312598      [imunabletoucan]                                                                                            \n",
       "12460551    []                                                                                                          \n",
       "4250700     []                                                                                                          \n",
       "14377673    []                                                                                                          \n",
       "7015545     []                                                                                                          \n",
       "7449341     []                                                                                                          \n",
       "25576328    []                                                                                                          \n",
       "21626786    []                                                                                                          \n",
       "20450604    []                                                                                                          \n",
       "6835423     [text_post, not_sonic-related]                                                                              \n",
       "25535188    []                                                                                                          \n",
       "25935341    []                                                                                                          \n",
       "12306696    []                                                                                                          \n",
       "13438641    []                                                                                                          \n",
       "4170400     []                                                                                                          \n",
       "17624377    []                                                                                                          \n",
       "25445651    []                                                                                                          \n",
       "14361501    []                                                                                                          \n",
       "23825678    [c:_all, c:_mari]                                                                                           \n",
       "5616193     []                                                                                                          \n",
       "18851767    [pcssibilities, stop_giving_me_the_shakedown;_i_am_not_having_a_nervous_—_(_main_v._), q.]                  \n",
       "Name: parsed_tags_minfreq3, Length: 200, dtype: object"
      ]
     },
     "execution_count": 27,
     "metadata": {},
     "output_type": "execute_result"
    }
   ],
   "source": [
    "data['parsed_tags_minfreq3'].sample(200)"
   ]
  },
  {
   "cell_type": "code",
   "execution_count": 32,
   "metadata": {},
   "outputs": [],
   "source": [
    "# Look at vocab\n",
    "with open(os.path.join(data_dirpath, 'textposts_100posts_vocab.pkl'), 'rb') as f:\n",
    "    vocab = pickle.load(f)"
   ]
  },
  {
   "cell_type": "code",
   "execution_count": 33,
   "metadata": {},
   "outputs": [
    {
     "data": {
      "text/plain": [
       "647959"
      ]
     },
     "execution_count": 33,
     "metadata": {},
     "output_type": "execute_result"
    }
   ],
   "source": [
    "len(vocab)"
   ]
  },
  {
   "cell_type": "code",
   "execution_count": 34,
   "metadata": {},
   "outputs": [
    {
     "data": {
      "text/plain": [
       "101714"
      ]
     },
     "execution_count": 34,
     "metadata": {},
     "output_type": "execute_result"
    }
   ],
   "source": [
    "len([w for w in vocab if vocab[w]>=3])"
   ]
  },
  {
   "cell_type": "code",
   "execution_count": 35,
   "metadata": {},
   "outputs": [
    {
     "data": {
      "text/plain": [
       "58199"
      ]
     },
     "execution_count": 35,
     "metadata": {},
     "output_type": "execute_result"
    }
   ],
   "source": [
    "len([w for w in vocab if vocab[w]>=5])"
   ]
  },
  {
   "cell_type": "markdown",
   "metadata": {},
   "source": [
    "# Examine tags"
   ]
  },
  {
   "cell_type": "code",
   "execution_count": 8,
   "metadata": {},
   "outputs": [
    {
     "name": "stdout",
     "output_type": "stream",
     "text": [
      "2026600\n"
     ]
    },
    {
     "data": {
      "text/plain": [
       "Index(['post_id', 'activity_time_epoch', 'tumblog_id', 'post_title',\n",
       "       'post_short_url', 'post_type', 'post_caption', 'post_format',\n",
       "       'post_note_count', 'created_time_epoch', 'updated_time_epoch',\n",
       "       'is_submission', 'source_title', 'source_url', 'post_classifier',\n",
       "       'blog_classifier', 'accepts_answers', 'reblogged_from_post_id',\n",
       "       'reblogged_from_metadata', 'root_post_id', 'body', 'mentions',\n",
       "       'post_tags', 'body_toks', 'body_str', 'body_toks_no_titles',\n",
       "       'body_toks_str_no_titles'],\n",
       "      dtype='object')"
      ]
     },
     "execution_count": 8,
     "metadata": {},
     "output_type": "execute_result"
    }
   ],
   "source": [
    "# Load data\n",
    "data = pd.read_pickle(os.path.join(data_dirpath, 'textposts_100posts.pkl'))\n",
    "print(len(data))\n",
    "data.columns"
   ]
  },
  {
   "cell_type": "code",
   "execution_count": 10,
   "metadata": {},
   "outputs": [],
   "source": [
    "pd.set_option('display.max_colwidth', -1) "
   ]
  },
  {
   "cell_type": "code",
   "execution_count": 23,
   "metadata": {
    "scrolled": true
   },
   "outputs": [
    {
     "data": {
      "text/plain": [
       "10537119    {(txt),(like this so i can follow u there),(i've only followed a few ppl)}                                                                                                                                                                                               \n",
       "5673408     {(ᕕ( ᐛ )ᕗᕕ( ᐛ )ᕗᕕ( ᐛ )ᕗᕕ( ᐛ )ᕗᕕ( ᐛ )ᕗᕕ( ᐛ )ᕗ),(app accept),(mod unicorn.exe)}                                                                                                                                                                                            \n",
       "22178895    {(:'))}                                                                                                                                                                                                                                                                  \n",
       "10716204    {}                                                                                                                                                                                                                                                                       \n",
       "14066547    {(╰† ❪ OOC. ❫ ᵀʰᵉ ᶠᵉᵐᵘʳ ᵇᵒᶰᵉ ᶜᵃᶰ ʷᶦᵗʰˢᵗᵃᶰᵈ ᵍʳᵉᵃᵗ ᵖʳᵉˢˢᵘʳᵉ),(( hEY WE'RE BEING ABSOLUTE NERDS IN HERE IT'S SMASHING )),(( come join us Good Folk™ B)) ))}                                                                                                                 \n",
       "17049999    {}                                                                                                                                                                                                                                                                       \n",
       "5052956     {(c: sebastian)}                                                                                                                                                                                                                                                         \n",
       "11513362    {}                                                                                                                                                                                                                                                                       \n",
       "26952067    {(king's college london),(kcl),(king's college),(im gonna be a 20 y/o first year student),(thanks no tranfers program),(: )),(but it's fine it's my dream school highkey so !!!)}                                                                                        \n",
       "10924554    {}                                                                                                                                                                                                                                                                       \n",
       "12925065    {(ryan ross),(jon walker),(brendon urie),(spencer smith),(panic! at the disco),(all you hard core fans need to chill the fuck out),(like im a hardcore ryan stan but im not a piece of shit to people)}                                                                  \n",
       "19679308    {(GRAY),(SNNDNDNDNN),(vampire bite.txt),(lms)}                                                                                                                                                                                                                           \n",
       "21158903    {}                                                                                                                                                                                                                                                                       \n",
       "24658671    {}                                                                                                                                                                                                                                                                       \n",
       "2779026     {}                                                                                                                                                                                                                                                                       \n",
       "23672936    {}                                                                                                                                                                                                                                                                       \n",
       "12623819    {}                                                                                                                                                                                                                                                                       \n",
       "13576814    {(tease),(teasing),(tickle tease),(self tickle),(tickling)}                                                                                                                                                                                                              \n",
       "956036      {}                                                                                                                                                                                                                                                                       \n",
       "10710360    {(thread: michelle),(scottishtech)}                                                                                                                                                                                                                                      \n",
       "12555178    {}                                                                                                                                                                                                                                                                       \n",
       "16688070    {(darren just... he needs his growth spurt soon i stg or its just going to make things worse combined with the accent ;p),(itgotmethedemogorgon),(v: me family don' belong in t'is shite dump ( america au. )),(he's short. he's gay. and he's american ( will byers. ))}\n",
       "15981524    {(p: baby came home),(para),(baby came home),(p: cam),(p),(cam),(nsfw)}                                                                                                                                                                                                  \n",
       "7176918     {}                                                                                                                                                                                                                                                                       \n",
       "6744586     {}                                                                                                                                                                                                                                                                       \n",
       "20710508    {(nick? trans. trucy? trans. pearly? trans. gumshoe? trans as FUCK)}                                                                                                                                                                                                     \n",
       "7039121     {(Mun (Alex))}                                                                                                                                                                                                                                                           \n",
       "11041678    {}                                                                                                                                                                                                                                                                       \n",
       "4760654     {}                                                                                                                                                                                                                                                                       \n",
       "11301035    {(✙ тнιѕ aιn'т no q&a ѕeѕѕιon! ✙ ↪ ( ιnвoх ))}                                                                                                                                                                                                                           \n",
       "                                 ...                                                                                                                                                                                                                                                 \n",
       "12971102    {}                                                                                                                                                                                                                                                                       \n",
       "3060823     {}                                                                                                                                                                                                                                                                       \n",
       "23169086    {}                                                                                                                                                                                                                                                                       \n",
       "5302000     {}                                                                                                                                                                                                                                                                       \n",
       "5449763     {}                                                                                                                                                                                                                                                                       \n",
       "15945995    {(there are some parts of yondu i did not need t see),(that was one of them),(dash comm /)}                                                                                                                                                                              \n",
       "12144738    {(oscars)}                                                                                                                                                                                                                                                               \n",
       "13130770    {}                                                                                                                                                                                                                                                                       \n",
       "6455779     {}                                                                                                                                                                                                                                                                       \n",
       "3084176     {(memes),(female muses only)}                                                                                                                                                                                                                                            \n",
       "7142203     {(xomerrickrose),(「 ✧ ° merrick ┊interactions 」)}                                                                                                                                                                                                                        \n",
       "18629035    {}                                                                                                                                                                                                                                                                       \n",
       "8246897     {(ask to tag)}                                                                                                                                                                                                                                                           \n",
       "20608405    {}                                                                                                                                                                                                                                                                       \n",
       "5366676     {}                                                                                                                                                                                                                                                                       \n",
       "5628066     {(text: jensen)}                                                                                                                                                                                                                                                         \n",
       "9173556     {}                                                                                                                                                                                                                                                                       \n",
       "18829193    {}                                                                                                                                                                                                                                                                       \n",
       "26287366    {}                                                                                                                                                                                                                                                                       \n",
       "5587617     {(8inary)}                                                                                                                                                                                                                                                               \n",
       "2848480     {}                                                                                                                                                                                                                                                                       \n",
       "4428953     {(its going to be really hard but i honestly believe in myself which i never do)}                                                                                                                                                                                        \n",
       "7278963     {(txt)}                                                                                                                                                                                                                                                                  \n",
       "5207066     {}                                                                                                                                                                                                                                                                       \n",
       "3623808     {(chatting)}                                                                                                                                                                                                                                                             \n",
       "7415078     {}                                                                                                                                                                                                                                                                       \n",
       "21303108    {(sun Aquarius),(moon cancer),(astrology)}                                                                                                                                                                                                                               \n",
       "20804441    {}                                                                                                                                                                                                                                                                       \n",
       "17394306    {(idk somehow confidence disappeared alongside motivation),(also lowkey thinking of changing my fc),(:l),(&: gimme a break - [ooc])}                                                                                                                                     \n",
       "12267712    {}                                                                                                                                                                                                                                                                       \n",
       "Name: post_tags, Length: 100, dtype: object"
      ]
     },
     "execution_count": 23,
     "metadata": {},
     "output_type": "execute_result"
    }
   ],
   "source": [
    "data['post_tags'].sample(100)"
   ]
  },
  {
   "cell_type": "code",
   "execution_count": 25,
   "metadata": {},
   "outputs": [
    {
     "data": {
      "text/plain": [
       "post_tags               {(there are some parts of yondu i did not need t see),(that was one of them),(dash comm /)}\n",
       "parsed_tags_minfreq3    []                                                                                         \n",
       "Name: 15945995, dtype: object"
      ]
     },
     "execution_count": 25,
     "metadata": {},
     "output_type": "execute_result"
    }
   ],
   "source": [
    "data.loc[15945995, ['post_tags', 'parsed_tags_minfreq3']]"
   ]
  },
  {
   "cell_type": "code",
   "execution_count": 12,
   "metadata": {},
   "outputs": [
    {
     "data": {
      "text/plain": [
       "\"{(❪ \\xa0peek a boo: \\xa0out of character. \\xa0❫),(SHE'S SO DAMN CUTE I HATE IT)}\""
      ]
     },
     "execution_count": 12,
     "metadata": {},
     "output_type": "execute_result"
    }
   ],
   "source": [
    "test = data.loc[22, 'post_tags']\n",
    "test"
   ]
  },
  {
   "cell_type": "code",
   "execution_count": 18,
   "metadata": {},
   "outputs": [
    {
     "data": {
      "text/plain": [
       "['❪_\\xa0peek_a_boo:_\\xa0out_of_character._\\xa0❫',\n",
       " \"she's_so_damn_cute_i_hate_it\"]"
      ]
     },
     "execution_count": 18,
     "metadata": {},
     "output_type": "execute_result"
    }
   ],
   "source": [
    "tags = [tag[1:-1].lower().replace(' ', '_') for tag in test[1:-1].split(',')]\n",
    "tags"
   ]
  },
  {
   "cell_type": "code",
   "execution_count": 17,
   "metadata": {},
   "outputs": [
    {
     "data": {
      "text/plain": [
       "str"
      ]
     },
     "execution_count": 17,
     "metadata": {},
     "output_type": "execute_result"
    }
   ],
   "source": [
    "type(tags[0])"
   ]
  },
  {
   "cell_type": "markdown",
   "metadata": {},
   "source": [
    "# Change name of sexuality/gender column"
   ]
  },
  {
   "cell_type": "code",
   "execution_count": 6,
   "metadata": {},
   "outputs": [
    {
     "data": {
      "text/plain": [
       "Index(['tumblog_id', 'activity_time_epoch', 'tumblr_blog_name',\n",
       "       'tumblr_blog_title', 'tumblr_blog_description', 'tumblr_blog_url',\n",
       "       'tumblr_blog_theme', 'is_group_blog', 'is_primary', 'is_private',\n",
       "       'created_time_epoch', 'updated_time_epoch', 'timezone', 'language',\n",
       "       'blog_classifier', 'generated_date', 'parsed_blog_description', 'age',\n",
       "       'gender', 'sexual orientation', 'pronouns', 'personality type',\n",
       "       'ethnicity/nationality', 'relationship status', 'age_terms',\n",
       "       'gender_terms', 'sexual orientation_terms', 'pronouns_terms',\n",
       "       'personality type_terms', 'ethnicity/nationality_terms',\n",
       "       'relationship status_terms', 'location_terms', 'location',\n",
       "       'roleplay_terms', 'roleplay', 'fandoms_terms', 'fandoms',\n",
       "       'interests_terms', 'interests', 'weight_terms', 'weight',\n",
       "       'gender/sexuality_terms', 'gender/sexuality', 'roleplay/fandoms_terms',\n",
       "       'roleplay/fandoms'],\n",
       "      dtype='object')"
      ]
     },
     "execution_count": 6,
     "metadata": {},
     "output_type": "execute_result"
    }
   ],
   "source": [
    "# Load data\n",
    "data = pd.read_pickle(os.path.join(data_dirpath, 'blog_descriptions_recent100_100posts.pkl'))\n",
    "data.columns"
   ]
  },
  {
   "cell_type": "code",
   "execution_count": 4,
   "metadata": {},
   "outputs": [
    {
     "data": {
      "text/plain": [
       "Index(['tumblog_id', 'activity_time_epoch', 'tumblr_blog_name',\n",
       "       'tumblr_blog_title', 'tumblr_blog_description', 'tumblr_blog_url',\n",
       "       'tumblr_blog_theme', 'is_group_blog', 'is_primary', 'is_private',\n",
       "       'created_time_epoch', 'updated_time_epoch', 'timezone', 'language',\n",
       "       'blog_classifier', 'generated_date', 'parsed_blog_description', 'age',\n",
       "       'gender', 'sexual orientation', 'pronouns', 'personality type',\n",
       "       'ethnicity/nationality', 'relationship status', 'age_terms',\n",
       "       'gender_terms', 'sexual orientation_terms', 'pronouns_terms',\n",
       "       'personality type_terms', 'ethnicity/nationality_terms',\n",
       "       'relationship status_terms', 'location_terms', 'location',\n",
       "       'roleplay_terms', 'roleplay', 'fandoms_terms', 'fandoms',\n",
       "       'interests_terms', 'interests', 'weight_terms', 'weight',\n",
       "       'gender/sexuality_terms', 'gender/sexuality', 'roleplay/fandoms_terms',\n",
       "       'roleplay/fandoms'],\n",
       "      dtype='object')"
      ]
     },
     "execution_count": 4,
     "metadata": {},
     "output_type": "execute_result"
    }
   ],
   "source": [
    "data.drop('sexuality/gender', axis=1, inplace=True)\n",
    "data.drop('sexuality/gender_terms', axis=1, inplace=True)\n",
    "data.columns"
   ]
  },
  {
   "cell_type": "code",
   "execution_count": 5,
   "metadata": {},
   "outputs": [],
   "source": [
    "data.to_pickle(os.path.join(data_dirpath, 'blog_descriptions_recent100_100posts.pkl'))"
   ]
  }
 ],
 "metadata": {
  "kernelspec": {
   "display_name": "Python 3",
   "language": "python",
   "name": "python3"
  },
  "language_info": {
   "codemirror_mode": {
    "name": "ipython",
    "version": 3
   },
   "file_extension": ".py",
   "mimetype": "text/x-python",
   "name": "python",
   "nbconvert_exporter": "python",
   "pygments_lexer": "ipython3",
   "version": "3.6.4"
  }
 },
 "nbformat": 4,
 "nbformat_minor": 2
}
