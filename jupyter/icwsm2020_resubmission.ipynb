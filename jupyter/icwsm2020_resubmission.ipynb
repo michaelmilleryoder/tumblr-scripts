{
 "cells": [
  {
   "cell_type": "markdown",
   "metadata": {},
   "source": [
    "# Compare results on blogs with profile images with blogs without profile images in test set"
   ]
  },
  {
   "cell_type": "markdown",
   "metadata": {},
   "source": [
    "## Get test set blog names to scrape profile images from"
   ]
  },
  {
   "cell_type": "code",
   "execution_count": 15,
   "metadata": {
    "scrolled": true
   },
   "outputs": [
    {
     "name": "stdout",
     "output_type": "stream",
     "text": [
      "71267\n",
      "71267\n",
      "71267\n",
      "21011\n"
     ]
    },
    {
     "data": {
      "text/plain": [
       "{294617088,\n",
       " 1,\n",
       " 212828162,\n",
       " 80412676,\n",
       " 195919877,\n",
       " 339804166,\n",
       " 223674373,\n",
       " 184320008,\n",
       " 98959367,\n",
       " 77791237,\n",
       " 118095876,\n",
       " 139624457,\n",
       " 205783053,\n",
       " 106823692,\n",
       " 74317835,\n",
       " 33882133,\n",
       " 49315863,\n",
       " 250970136,\n",
       " 214564889,\n",
       " 50987033,\n",
       " 35356699,\n",
       " 415334430,\n",
       " 284229664,\n",
       " 13041697,\n",
       " 328826913,\n",
       " 162529313,\n",
       " 426541089,\n",
       " 15106086,\n",
       " 423985190,\n",
       " 786472,\n",
       " 159383599,\n",
       " 99516464,\n",
       " 294256688,\n",
       " 8060975,\n",
       " 15564852,\n",
       " 174522426,\n",
       " 83722298,\n",
       " 9470012,\n",
       " 50331708,\n",
       " 267026494,\n",
       " 322011198,\n",
       " 136937536,\n",
       " 336330815,\n",
       " 434995266,\n",
       " 41189442,\n",
       " 157417539,\n",
       " 195855774,\n",
       " 195166278,\n",
       " 243990599,\n",
       " 328433735,\n",
       " 132874315,\n",
       " 166035532,\n",
       " 53936205,\n",
       " 194379851,\n",
       " 229146701,\n",
       " 238321749,\n",
       " 237404249,\n",
       " 380403802,\n",
       " 56131678,\n",
       " 150732896,\n",
       " 403964000,\n",
       " 79954018,\n",
       " 64454755,\n",
       " 425066597,\n",
       " 41910374,\n",
       " 432701542,\n",
       " 78643302,\n",
       " 377159785,\n",
       " 167215210,\n",
       " 169771112,\n",
       " 262209639,\n",
       " 252510317,\n",
       " 102301806,\n",
       " 339804271,\n",
       " 104366191,\n",
       " 168624241,\n",
       " 162660465,\n",
       " 233275506,\n",
       " 179508418,\n",
       " 89882742,\n",
       " 163512440,\n",
       " 125960312,\n",
       " 169115771,\n",
       " 289964156,\n",
       " 322076797,\n",
       " 43319422,\n",
       " 134840445,\n",
       " 296419456,\n",
       " 225017985,\n",
       " 363626626,\n",
       " 209748093,\n",
       " 142180476,\n",
       " 4456574,\n",
       " 88211590,\n",
       " 169083017,\n",
       " 22282377,\n",
       " 194117771,\n",
       " 326533260,\n",
       " 93126796,\n",
       " 399343758,\n",
       " 247922831,\n",
       " 355631247,\n",
       " 4456596,\n",
       " 343343257,\n",
       " 106397851,\n",
       " 216957084,\n",
       " 244482205,\n",
       " 92635292,\n",
       " 259227807,\n",
       " 147325089,\n",
       " 256540837,\n",
       " 188973222,\n",
       " 67338409,\n",
       " 327647402,\n",
       " 82739369,\n",
       " 343376044,\n",
       " 199393452,\n",
       " 320929965,\n",
       " 142868655,\n",
       " 10715312,\n",
       " 75399347,\n",
       " 293994676,\n",
       " 402194613,\n",
       " 266600630,\n",
       " 272433333,\n",
       " 27820216,\n",
       " 42926259,\n",
       " 99057850,\n",
       " 49709245,\n",
       " 313032898,\n",
       " 140148930,\n",
       " 2326724,\n",
       " 267026630,\n",
       " 87130311,\n",
       " 260210888,\n",
       " 417661128,\n",
       " 70942926,\n",
       " 19693775,\n",
       " 201621713,\n",
       " 127500500,\n",
       " 109641943,\n",
       " 379388119,\n",
       " 401735899,\n",
       " 419463388,\n",
       " 387973340,\n",
       " 15991006,\n",
       " 33980639,\n",
       " 104169696,\n",
       " 212140256,\n",
       " 72646880,\n",
       " 9044195,\n",
       " 71925988,\n",
       " 308838629,\n",
       " 11993317,\n",
       " 183206116,\n",
       " 11337960,\n",
       " 146931937,\n",
       " 384303337,\n",
       " 328335592,\n",
       " 238879989,\n",
       " 197951730,\n",
       " 124223730,\n",
       " 88801522,\n",
       " 69599477,\n",
       " 351338742,\n",
       " 303202550,\n",
       " 229540091,\n",
       " 335544572,\n",
       " 404881660,\n",
       " 383222015,\n",
       " 90571014,\n",
       " 62259463,\n",
       " 192774409,\n",
       " 314835214,\n",
       " 74187024,\n",
       " 304677137,\n",
       " 365920528,\n",
       " 94241043,\n",
       " 188809492,\n",
       " 105873685,\n",
       " 112623893,\n",
       " 98730262,\n",
       " 175964440,\n",
       " 328565017,\n",
       " 355500313,\n",
       " 87720217,\n",
       " 87327005,\n",
       " 414417182,\n",
       " 312410397,\n",
       " 403800356,\n",
       " 329351463,\n",
       " 156991784,\n",
       " 31949097,\n",
       " 402555178,\n",
       " 174063915,\n",
       " 255656236,\n",
       " 288227629,\n",
       " 193495340,\n",
       " 197820719,\n",
       " 140476720,\n",
       " 138019122,\n",
       " 362447162,\n",
       " 53313850,\n",
       " 400720189,\n",
       " 365461824,\n",
       " 12353858,\n",
       " 132088131,\n",
       " 38863172,\n",
       " 216826182,\n",
       " 314376518,\n",
       " 339411270,\n",
       " 77594953,\n",
       " 352780619,\n",
       " 77693264,\n",
       " 63537491,\n",
       " 75006295,\n",
       " 132498392,\n",
       " 320635223,\n",
       " 164725082,\n",
       " 105185629,\n",
       " 22610269,\n",
       " 30409057,\n",
       " 152109411,\n",
       " 275841385,\n",
       " 360448363,\n",
       " 424870252,\n",
       " 3015022,\n",
       " 328466798,\n",
       " 68714864,\n",
       " 357990768,\n",
       " 217612658,\n",
       " 162333046,\n",
       " 391283069,\n",
       " 137789823,\n",
       " 43057537,\n",
       " 6979970,\n",
       " 92012934,\n",
       " 331317641,\n",
       " 331088267,\n",
       " 264962446,\n",
       " 67568015,\n",
       " 12976528,\n",
       " 43319697,\n",
       " 90374547,\n",
       " 338755989,\n",
       " 253100438,\n",
       " 69304726,\n",
       " 103055768,\n",
       " 18678169,\n",
       " 21332377,\n",
       " 240189851,\n",
       " 220856732,\n",
       " 134316445,\n",
       " 29819293,\n",
       " 42434974,\n",
       " 184746392,\n",
       " 149750177,\n",
       " 27034012,\n",
       " 70484393,\n",
       " 39223723,\n",
       " 74154411,\n",
       " 229376428,\n",
       " 327942577,\n",
       " 196673970,\n",
       " 94142899,\n",
       " 137822642,\n",
       " 361988531,\n",
       " 28443063,\n",
       " 338297272,\n",
       " 71401913,\n",
       " 363594171,\n",
       " 102302140,\n",
       " 441582015,\n",
       " 112755137,\n",
       " 323748290,\n",
       " 143655361,\n",
       " 284230085,\n",
       " 142836166,\n",
       " 392495557,\n",
       " 230126702,\n",
       " 49545675,\n",
       " 24740301,\n",
       " 688590,\n",
       " 364380622,\n",
       " 59474385,\n",
       " 342229458,\n",
       " 56984019,\n",
       " 287113687,\n",
       " 4162007,\n",
       " 36241881,\n",
       " 86835676,\n",
       " 199393757,\n",
       " 245858780,\n",
       " 169017823,\n",
       " 399147488,\n",
       " 196968926,\n",
       " 339411426,\n",
       " 10519011,\n",
       " 381190628,\n",
       " 323092965,\n",
       " 187236838,\n",
       " 166003170,\n",
       " 412516840,\n",
       " 135791081,\n",
       " 177570283,\n",
       " 21955052,\n",
       " 94142958,\n",
       " 11633136,\n",
       " 154010097,\n",
       " 349241841,\n",
       " 84378100,\n",
       " 8094198,\n",
       " 254837238,\n",
       " 43844088,\n",
       " 239665655,\n",
       " 49086969,\n",
       " 426377723,\n",
       " 177013244,\n",
       " 116457980,\n",
       " 61112830,\n",
       " 193692150,\n",
       " 331710971,\n",
       " 302776835,\n",
       " 50954756,\n",
       " 210108933,\n",
       " 80839171,\n",
       " 68452870,\n",
       " 435454472,\n",
       " 249070088,\n",
       " 261784072,\n",
       " 80839179,\n",
       " 190415372,\n",
       " 376832525,\n",
       " 235143690,\n",
       " 9470479,\n",
       " 243008015,\n",
       " 189891089,\n",
       " 153682447,\n",
       " 139198994,\n",
       " 27263508,\n",
       " 337773076,\n",
       " 298680854,\n",
       " 341115415,\n",
       " 164790806,\n",
       " 243630615,\n",
       " 104923673,\n",
       " 196149783,\n",
       " 323977751,\n",
       " 368509469,\n",
       " 200114717,\n",
       " 286753313,\n",
       " 147161634,\n",
       " 380994082,\n",
       " 235340325,\n",
       " 357564966,\n",
       " 100172327,\n",
       " 136118827,\n",
       " 124846636,\n",
       " 326173229,\n",
       " 222036526,\n",
       " 78021166,\n",
       " 406356525,\n",
       " 231768625,\n",
       " 11239986,\n",
       " 164266547,\n",
       " 562,\n",
       " 323650099,\n",
       " 98304566,\n",
       " 1901110,\n",
       " 17334840,\n",
       " 327320114,\n",
       " 9798197,\n",
       " 86540859,\n",
       " 227246648,\n",
       " 77070909,\n",
       " 93487678,\n",
       " 30376510,\n",
       " 12321344,\n",
       " 132186686,\n",
       " 14352965,\n",
       " 75563591,\n",
       " 92865096,\n",
       " 16941639,\n",
       " 59310666,\n",
       " 6783561,\n",
       " 13566540,\n",
       " 83591756,\n",
       " 142738001,\n",
       " 366477906,\n",
       " 187073107,\n",
       " 401834577,\n",
       " 217875028,\n",
       " 221315668,\n",
       " 241762905,\n",
       " 122421851,\n",
       " 323453535,\n",
       " 30343776,\n",
       " 254837345,\n",
       " 166986338,\n",
       " 255394401,\n",
       " 41878116,\n",
       " 1704549,\n",
       " 217481829,\n",
       " 212828775,\n",
       " 197657190,\n",
       " 165708394,\n",
       " 401736304,\n",
       " 184779377,\n",
       " 139887218,\n",
       " 62161522,\n",
       " 50102899,\n",
       " 78054007,\n",
       " 403210872,\n",
       " 87720568,\n",
       " 171770489,\n",
       " 50561660,\n",
       " 139166333,\n",
       " 389874301,\n",
       " 15008381,\n",
       " 5309052,\n",
       " 307626625,\n",
       " 7930498,\n",
       " 424379010,\n",
       " 89784964,\n",
       " 401015427,\n",
       " 202506883,\n",
       " 76120709,\n",
       " 25264774,\n",
       " 12157577,\n",
       " 331186825,\n",
       " 64750221,\n",
       " 10650258,\n",
       " 34439827,\n",
       " 38601363,\n",
       " 17826454,\n",
       " 27984536,\n",
       " 196117144,\n",
       " 50856600,\n",
       " 87458459,\n",
       " 211157660,\n",
       " 372441759,\n",
       " 124813984,\n",
       " 7504545,\n",
       " 416907937,\n",
       " 339608227,\n",
       " 207487648,\n",
       " 38601379,\n",
       " 251134630,\n",
       " 376636066,\n",
       " 14910120,\n",
       " 362316457,\n",
       " 57639594,\n",
       " 15139499,\n",
       " 39060140,\n",
       " 413860524,\n",
       " 379093675,\n",
       " 302563158,\n",
       " 89326258,\n",
       " 325845683,\n",
       " 144704180,\n",
       " 409043638,\n",
       " 75563704,\n",
       " 431915707,\n",
       " 104071868,\n",
       " 364380860,\n",
       " 15401662,\n",
       " 415531712,\n",
       " 38929090,\n",
       " 16712387,\n",
       " 46465731,\n",
       " 400982726,\n",
       " 95683272,\n",
       " 202441417,\n",
       " 80741068,\n",
       " 346686158,\n",
       " 257393359,\n",
       " 319488719,\n",
       " 103744207,\n",
       " 222266066,\n",
       " 229311188,\n",
       " 269910741,\n",
       " 52069078,\n",
       " 194052826,\n",
       " 27296474,\n",
       " 290751196,\n",
       " 22840033,\n",
       " 78512868,\n",
       " 248021733,\n",
       " 107479782,\n",
       " 346161895,\n",
       " 234226406,\n",
       " 388334315,\n",
       " 13665004,\n",
       " 54887148,\n",
       " 70124270,\n",
       " 60261102,\n",
       " 198705903,\n",
       " 19235572,\n",
       " 68223734,\n",
       " 299467511,\n",
       " 62423799,\n",
       " 91194105,\n",
       " 341312253,\n",
       " 49611517,\n",
       " 20742911,\n",
       " 301040382,\n",
       " 170197761,\n",
       " 347898626,\n",
       " 123405054,\n",
       " 342454654,\n",
       " 189104903,\n",
       " 141427463,\n",
       " 23921417,\n",
       " 59671303,\n",
       " 92078859,\n",
       " 354386699,\n",
       " 59147021,\n",
       " 309494545,\n",
       " 208372499,\n",
       " 103187220,\n",
       " 369427222,\n",
       " 17302297,\n",
       " 160760603,\n",
       " 332825372,\n",
       " 166265628,\n",
       " 424739614,\n",
       " 19039007,\n",
       " 27689761,\n",
       " 275645219,\n",
       " 169378596,\n",
       " 360612646,\n",
       " 54493991,\n",
       " 365003561,\n",
       " 13337386,\n",
       " 9962282,\n",
       " 233866027,\n",
       " 49808170,\n",
       " 191595306,\n",
       " 425526058,\n",
       " 143262516,\n",
       " 102892342,\n",
       " 104923960,\n",
       " 58524474,\n",
       " 344294203,\n",
       " 273810235,\n",
       " 212501309,\n",
       " 62489406,\n",
       " 233210683,\n",
       " 324698947,\n",
       " 368149318,\n",
       " 58164040,\n",
       " 416973642,\n",
       " 84640587,\n",
       " 103973707,\n",
       " 122422094,\n",
       " 241730382,\n",
       " 162235215,\n",
       " 12092239,\n",
       " 19301198,\n",
       " 208634707,\n",
       " 14287698,\n",
       " 224166736,\n",
       " 64258902,\n",
       " 347571030,\n",
       " 214532952,\n",
       " 357630806,\n",
       " 102368088,\n",
       " 285344597,\n",
       " 68158300,\n",
       " 39355228,\n",
       " 49840990,\n",
       " 66913112,\n",
       " 33751904,\n",
       " 328434530,\n",
       " 95290211,\n",
       " 8389475,\n",
       " 222364519,\n",
       " 422904680,\n",
       " 67109740,\n",
       " 350618477,\n",
       " 321389423,\n",
       " 28574578,\n",
       " 285541234,\n",
       " 33850227,\n",
       " 20087671,\n",
       " 13271928,\n",
       " 195036023,\n",
       " 12452732,\n",
       " 68584318,\n",
       " 100533120,\n",
       " 286557058,\n",
       " 387351429,\n",
       " 63112070,\n",
       " 196313991,\n",
       " 11928456,\n",
       " 272860041,\n",
       " 300811145,\n",
       " 9831308,\n",
       " 262472592,\n",
       " 300876689,\n",
       " 338985875,\n",
       " 134480788,\n",
       " 14615446,\n",
       " 223150999,\n",
       " 296485784,\n",
       " 365331353,\n",
       " 252117914,\n",
       " 219251611,\n",
       " 257721244,\n",
       " 193856410,\n",
       " 388170654,\n",
       " 128811935,\n",
       " 193692576,\n",
       " 64127903,\n",
       " 70157218,\n",
       " 309789606,\n",
       " 365003688,\n",
       " 188744620,\n",
       " 51086255,\n",
       " 212173744,\n",
       " 251495345,\n",
       " 20317105,\n",
       " 92439473,\n",
       " 224461748,\n",
       " 40738343,\n",
       " 282264502,\n",
       " 266077110,\n",
       " 230785976,\n",
       " 165807033,\n",
       " 222888890,\n",
       " 16909243,\n",
       " 40567742,\n",
       " 225674174,\n",
       " 162137023,\n",
       " 47055810,\n",
       " 99550146,\n",
       " 100369350,\n",
       " 338953159,\n",
       " 115540935,\n",
       " 7865286,\n",
       " 33162187,\n",
       " 441582541,\n",
       " 115737550,\n",
       " 173278158,\n",
       " 93717455,\n",
       " 333874129,\n",
       " 356844497,\n",
       " 172131283,\n",
       " 9765843,\n",
       " 295797715,\n",
       " 61965266,\n",
       " 27001815,\n",
       " 287605719,\n",
       " 298550228,\n",
       " 27526104,\n",
       " 227607515,\n",
       " 6718421,\n",
       " 360907736,\n",
       " 67240918,\n",
       " 10355679,\n",
       " 86770652,\n",
       " 114623459,\n",
       " 167609315,\n",
       " 437388261,\n",
       " 378274790,\n",
       " 230327270,\n",
       " 115639272,\n",
       " 26674153,\n",
       " 219775979,\n",
       " 271025132,\n",
       " 83198957,\n",
       " 16090093,\n",
       " 310903791,\n",
       " 215254000,\n",
       " 116950001,\n",
       " 239666159,\n",
       " 416154606,\n",
       " 77333488,\n",
       " 90309621,\n",
       " 78021622,\n",
       " 257950709,\n",
       " 277906424,\n",
       " 202769401,\n",
       " 339510266,\n",
       " 65209339,\n",
       " 424510459,\n",
       " 93029368,\n",
       " 229508092,\n",
       " 70484992,\n",
       " 1934337,\n",
       " 43123716,\n",
       " 138183685,\n",
       " 281936902,\n",
       " 345015306,\n",
       " 266044428,\n",
       " 12551180,\n",
       " 171082765,\n",
       " 233243661,\n",
       " 23331856,\n",
       " 47580178,\n",
       " 26969107,\n",
       " 139920405,\n",
       " 52397077,\n",
       " 420316185,\n",
       " 350716955,\n",
       " 391775261,\n",
       " 14091294,\n",
       " 320144413,\n",
       " 40272928,\n",
       " 12420126,\n",
       " 341181474,\n",
       " 5473309,\n",
       " 258966564,\n",
       " 408683557,\n",
       " 84050983,\n",
       " 96502824,\n",
       " 285213735,\n",
       " 64586794,\n",
       " 230491179,\n",
       " 55608362,\n",
       " 185074733,\n",
       " 38831148,\n",
       " 80446516,\n",
       " 297763893,\n",
       " 73303096,\n",
       " 176129081,\n",
       " 14976058,\n",
       " 21365816,\n",
       " 342983744,\n",
       " 343508034,\n",
       " 388039748,\n",
       " 141526085,\n",
       " 31130695,\n",
       " 76252234,\n",
       " 406258771,\n",
       " 29557843,\n",
       " 164496468,\n",
       " 287540310,\n",
       " 364708950,\n",
       " 104137814,\n",
       " 104465499,\n",
       " 253885872,\n",
       " 208077921,\n",
       " 258147426,\n",
       " 65766497,\n",
       " 74581092,\n",
       " 287769700,\n",
       " 27231334,\n",
       " 168723558,\n",
       " 984166,\n",
       " 20415588,\n",
       " 238126186,\n",
       " 81265770,\n",
       " 87164013,\n",
       " 167150703,\n",
       " 96076912,\n",
       " 232621170,\n",
       " 60884083,\n",
       " 165708916,\n",
       " 234751094,\n",
       " 27165816,\n",
       " 182879354,\n",
       " 174752890,\n",
       " 419660928,\n",
       " 209978497,\n",
       " 172557446,\n",
       " 418317447,\n",
       " 40436872,\n",
       " 49513608,\n",
       " 209716362,\n",
       " 140772490,\n",
       " 104006796,\n",
       " 231343246,\n",
       " 177603727,\n",
       " 164037774,\n",
       " 5211280,\n",
       " 83100818,\n",
       " 296420499,\n",
       " 22316179,\n",
       " 50627730,\n",
       " 66225294,\n",
       " 21267607,\n",
       " 80577684,\n",
       " 196740249,\n",
       " 93914266,\n",
       " 133039258,\n",
       " 334857372,\n",
       " 17007775,\n",
       " 39814303,\n",
       " 37061793,\n",
       " 222102694,\n",
       " 138478759,\n",
       " 77661352,\n",
       " 342066345,\n",
       " 70452395,\n",
       " 290260139,\n",
       " 290948267,\n",
       " 376865965,\n",
       " 151684271,\n",
       " 394416,\n",
       " 4490421,\n",
       " 296289462,\n",
       " 94274741,\n",
       " 131794104,\n",
       " 214271161,\n",
       " 237733049,\n",
       " 26838197,\n",
       " 203621565,\n",
       " 414024893,\n",
       " 165184704,\n",
       " 142968001,\n",
       " 164299971,\n",
       " 307823813,\n",
       " 231343302,\n",
       " 409109705,\n",
       " 430245067,\n",
       " 151291085,\n",
       " 223249613,\n",
       " 335774926,\n",
       " 138052813,\n",
       " 312607953,\n",
       " 56886482,\n",
       " 364872910,\n",
       " 307823828,\n",
       " 9241812,\n",
       " 260277462,\n",
       " 381650135,\n",
       " 364381399,\n",
       " 163382489,\n",
       " 364381402,\n",
       " 27788507,\n",
       " 134808796,\n",
       " 231572700,\n",
       " 329385183,\n",
       " 66979040,\n",
       " 43910369,\n",
       " 269452516,\n",
       " 121079012,\n",
       " 57902308,\n",
       " 392430823,\n",
       " 111838439,\n",
       " 142443755,\n",
       " 103154927,\n",
       " 50267376,\n",
       " 242386162,\n",
       " 198903027,\n",
       " 82609397,\n",
       " 43681013,\n",
       " 30803190,\n",
       " 19694840,\n",
       " 376898809,\n",
       " 107906298,\n",
       " 12158201,\n",
       " 161088757,\n",
       " 26084605,\n",
       " 210437373,\n",
       " 50660607,\n",
       " 133956863,\n",
       " 234456321,\n",
       " 317129982,\n",
       " 307037445,\n",
       " 269976839,\n",
       " 87885063,\n",
       " 296224010,\n",
       " 343672077,\n",
       " 288654605,\n",
       " 142279951,\n",
       " 22086930,\n",
       " 119506195,\n",
       " 48170261,\n",
       " 23725336,\n",
       " 3999003,\n",
       " 231671068,\n",
       " 112952604,\n",
       " 187729182,\n",
       " 6260000,\n",
       " 218989858,\n",
       " 35194149,\n",
       " 329221417,\n",
       " 341607723,\n",
       " 301794604,\n",
       " 8258861,\n",
       " 327681326,\n",
       " 30278958,\n",
       " 316998960,\n",
       " 196609323,\n",
       " 197133618,\n",
       " 193266988,\n",
       " 100762928,\n",
       " 369427765,\n",
       " 64488758,\n",
       " 131958069,\n",
       " 92996917,\n",
       " 52692275,\n",
       " 300254522,\n",
       " 193037627,\n",
       " 413730106,\n",
       " 108004669,\n",
       " 32212280,\n",
       " 391349567,\n",
       " 14517568,\n",
       " 315262264,\n",
       " 135202114,\n",
       " 12158275,\n",
       " 79168836,\n",
       " 18220357,\n",
       " 366871876,\n",
       " 118981958,\n",
       " 45122888,\n",
       " 261195081,\n",
       " 272074058,\n",
       " 413467979,\n",
       " 259654986,\n",
       " 238585165,\n",
       " 333743438,\n",
       " 217220433,\n",
       " 295994709,\n",
       " 166167893,\n",
       " 280331613,\n",
       " 250414435,\n",
       " 84116837,\n",
       " 102466921,\n",
       " 214107499,\n",
       " 163480941,\n",
       " 259327342,\n",
       " 28181871,\n",
       " 886128,\n",
       " 308348273,\n",
       " 219710835,\n",
       " 317392244,\n",
       " 141526391,\n",
       " 223315320,\n",
       " 313656698,\n",
       " 5408123,\n",
       " 357303677,\n",
       " 224134525,\n",
       " 388924799,\n",
       " 62686591,\n",
       " 17270145,\n",
       " 21628291,\n",
       " 24806788,\n",
       " 88966533,\n",
       " 429491593,\n",
       " 15992204,\n",
       " 46400911,\n",
       " 115508624,\n",
       " 41158031,\n",
       " 258311572,\n",
       " 35718550,\n",
       " 200312215,\n",
       " 381126043,\n",
       " 283411867,\n",
       " 314836379,\n",
       " 34145694,\n",
       " 23037342,\n",
       " 277022108,\n",
       " 310478239,\n",
       " 71566754,\n",
       " 271582627,\n",
       " 127796644,\n",
       " 328107425,\n",
       " 333841825,\n",
       " 13796773,\n",
       " 31491498,\n",
       " 125240747,\n",
       " 200770987,\n",
       " 195823021,\n",
       " 303138222,\n",
       " 104564143,\n",
       " 417269167,\n",
       " 85951923,\n",
       " 266241459,\n",
       " 67896757,\n",
       " 6555062,\n",
       " 178292151,\n",
       " 188679608,\n",
       " 178259385,\n",
       " 106661301,\n",
       " 320505275,\n",
       " 254379448,\n",
       " 17368509,\n",
       " 214140349,\n",
       " 370410943,\n",
       " 41452991,\n",
       " 26707389,\n",
       " 43779521,\n",
       " 141362626,\n",
       " 16844225,\n",
       " 195495364,\n",
       " 175867338,\n",
       " 376571338,\n",
       " 53806540,\n",
       " 4359628,\n",
       " 41813453,\n",
       " 205129164,\n",
       " 68421070,\n",
       " 24184269,\n",
       " 429622738,\n",
       " 119080400,\n",
       " 232097236,\n",
       " ...}"
      ]
     },
     "execution_count": 15,
     "metadata": {},
     "output_type": "execute_result"
    }
   ],
   "source": [
    "import pandas as pd\n",
    "import os\n",
    "from sklearn.model_selection import train_test_split\n",
    "\n",
    "data_dirpath = '/usr2/mamille2/tumblr/data/sample1k/'\n",
    "\n",
    "# Load feature info\n",
    "reblog_fpath = os.path.join(data_dirpath, 'feature_tables', 'reblog_features.csv')\n",
    "reblog_features = pd.read_csv(reblog_fpath)\n",
    "reblog_train, reblog_test = train_test_split(reblog_features, test_size=0.1, random_state=12345)\n",
    "print(len(reblog_test))\n",
    "# print(len(reblog_train))\n",
    "\n",
    "nonreblog_fpath = os.path.join(data_dirpath, 'feature_tables', 'nonreblog_features.csv')\n",
    "nonreblog_features = pd.read_csv(nonreblog_fpath)\n",
    "nonreblog_train, nonreblog_test = train_test_split(nonreblog_features, test_size=0.1, random_state=12345)\n",
    "print(len(nonreblog_test))\n",
    "# print(len(nonreblog_train))\n",
    "\n",
    "# Load gold labels\n",
    "ranking_fpath = os.path.join(data_dirpath, 'feature_tables', 'ranking_labels.csv')\n",
    "ranking_labels = pd.read_csv(ranking_fpath).iloc[:len(reblog_features)]\n",
    "labels_train, labels_test = train_test_split(ranking_labels['ranking_label'], test_size=0.1, random_state=12345)\n",
    "print(len(labels_test))\n",
    "# print(len(labels_train))\n",
    "\n",
    "# nonreblog_test.columns\n",
    "\n",
    "# Get all tumblog_ids in test set\n",
    "test_tumblog_ids = set(\n",
    "    reblog_test['tumblog_id_follower'].tolist() + reblog_test['tumblog_id_followee'].tolist() + nonreblog_test['tumblog_id_follower'].tolist() + nonreblog_test['tumblog_id_followee'].tolist()\n",
    ")\n",
    "\n",
    "print(len(test_tumblog_ids))\n",
    "test_tumblog_ids"
   ]
  },
  {
   "cell_type": "markdown",
   "metadata": {},
   "source": [
    "### Match tumblog IDs with names"
   ]
  },
  {
   "cell_type": "code",
   "execution_count": 11,
   "metadata": {},
   "outputs": [
    {
     "data": {
      "text/plain": [
       "Index(['blog_description_followee', 'blog_name_followee',\n",
       "       'blog_title_followee', 'blog_url_followee', 'is_group_blog_followee',\n",
       "       'is_private_followee', 'created_time_epoch_followee',\n",
       "       'updated_time_epoch_followee', 'timezone_followee', 'language_followee',\n",
       "       ...\n",
       "       'interests_terms_followee', 'location_terms_followee',\n",
       "       'personality type_terms_followee', 'pronouns_terms_followee',\n",
       "       'relationship status_terms_followee', 'roleplay_terms_followee',\n",
       "       'roleplay/fandoms_terms_followee', 'sexual orientation_terms_followee',\n",
       "       'weight_terms_followee', 'zodiac_terms_followee'],\n",
       "      dtype='object', length=104)"
      ]
     },
     "execution_count": 11,
     "metadata": {},
     "output_type": "execute_result"
    }
   ],
   "source": [
    "# Load reblog info\n",
    "reblog_info = pd.read_csv('/usr2/mamille2/tumblr/data/sample1k/reblogs_descs_annotated/reblogs_descs.tsv', sep='\\t')\n",
    "reblog_info.columns"
   ]
  },
  {
   "cell_type": "code",
   "execution_count": null,
   "metadata": {},
   "outputs": [
    {
     "data": {
      "application/vnd.jupyter.widget-view+json": {
       "model_id": "abe6bc2bf5e049c3a4c0531e8a83774a",
       "version_major": 2,
       "version_minor": 0
      },
      "text/plain": [
       "HBox(children=(IntProgress(value=0, max=961), HTML(value='')))"
      ]
     },
     "metadata": {},
     "output_type": "display_data"
    },
    {
     "name": "stderr",
     "output_type": "stream",
     "text": [
      "/usr0/home/mamille2/anaconda3/lib/python3.6/site-packages/IPython/core/interactiveshell.py:3049: DtypeWarning: Columns (6,18) have mixed types. Specify dtype option on import or set low_memory=False.\n",
      "  interactivity=interactivity, compiler=compiler, result=result)\n",
      "/usr0/home/mamille2/anaconda3/lib/python3.6/site-packages/IPython/core/interactiveshell.py:3049: DtypeWarning: Columns (6,13,18,48) have mixed types. Specify dtype option on import or set low_memory=False.\n",
      "  interactivity=interactivity, compiler=compiler, result=result)\n",
      "/usr0/home/mamille2/anaconda3/lib/python3.6/site-packages/IPython/core/interactiveshell.py:3049: DtypeWarning: Columns (27) have mixed types. Specify dtype option on import or set low_memory=False.\n",
      "  interactivity=interactivity, compiler=compiler, result=result)\n",
      "/usr0/home/mamille2/anaconda3/lib/python3.6/site-packages/IPython/core/interactiveshell.py:3049: DtypeWarning: Columns (6,9,10,27) have mixed types. Specify dtype option on import or set low_memory=False.\n",
      "  interactivity=interactivity, compiler=compiler, result=result)\n",
      "/usr0/home/mamille2/anaconda3/lib/python3.6/site-packages/IPython/core/interactiveshell.py:3049: DtypeWarning: Columns (18,27) have mixed types. Specify dtype option on import or set low_memory=False.\n",
      "  interactivity=interactivity, compiler=compiler, result=result)\n",
      "/usr0/home/mamille2/anaconda3/lib/python3.6/site-packages/IPython/core/interactiveshell.py:3049: DtypeWarning: Columns (18) have mixed types. Specify dtype option on import or set low_memory=False.\n",
      "  interactivity=interactivity, compiler=compiler, result=result)\n",
      "/usr0/home/mamille2/anaconda3/lib/python3.6/site-packages/IPython/core/interactiveshell.py:3049: DtypeWarning: Columns (6,9,10,21,22,27) have mixed types. Specify dtype option on import or set low_memory=False.\n",
      "  interactivity=interactivity, compiler=compiler, result=result)\n"
     ]
    }
   ],
   "source": [
    "# Load nonreblog_info\n",
    "from tqdm import tqdm_notebook as tqdm\n",
    "\n",
    "nonreblog_info_dfs = []\n",
    "selected_columns = ['tumblog_id_follower', 'tumblog_id_followee', 'blog_name_follower', 'blog_name_followee']\n",
    "# for i in range(999):\n",
    "parent_dirpath = '/usr2/mamille2/tumblr/data/sample1k/nonreblogs_descs_match/'\n",
    "\n",
    "for fname in tqdm(os.listdir(parent_dirpath)):\n",
    "    fpath = os.path.join(parent_dirpath, fname)\n",
    "    nonreblog_info_dfs.append(pd.read_csv(fpath, sep='\\t').loc[:, selected_columns])\n",
    "nonreblog_info = pd.concat(nonreblog_info_dfs)\n",
    "nonreblog_info.columns\n",
    "\n",
    "nonreblog_info.to_pickle('/data/icwsm2020_tumblr_identity/tmp/nonreblog_info.pkl')"
   ]
  },
  {
   "cell_type": "code",
   "execution_count": 9,
   "metadata": {},
   "outputs": [
    {
     "name": "stdout",
     "output_type": "stream",
     "text": [
      "Index(['tumblog_id_follower', 'tumblog_id_followee', 'blog_name_follower',\n",
      "       'blog_name_followee'],\n",
      "      dtype='object')\n"
     ]
    },
    {
     "data": {
      "text/plain": [
       "30765997"
      ]
     },
     "execution_count": 9,
     "metadata": {},
     "output_type": "execute_result"
    }
   ],
   "source": [
    "# Load pickle\n",
    "import pandas as pd\n",
    "\n",
    "nonreblog_info = pd.read_pickle('/data/icwsm2020_tumblr_identity/tmp/nonreblog_info.pkl')\n",
    "print(nonreblog_info.columns)\n",
    "len(nonreblog_info)"
   ]
  },
  {
   "cell_type": "code",
   "execution_count": 12,
   "metadata": {},
   "outputs": [],
   "source": [
    "# Select blog names from test blog IDs\n",
    "selected_columns = ['tumblog_id_follower', 'tumblog_id_followee', 'blog_name_follower', 'blog_name_followee']\n",
    "concatenated = pd.concat([reblog_info[selected_columns], nonreblog_info])"
   ]
  },
  {
   "cell_type": "code",
   "execution_count": 13,
   "metadata": {},
   "outputs": [
    {
     "data": {
      "text/plain": [
       "83276"
      ]
     },
     "execution_count": 13,
     "metadata": {},
     "output_type": "execute_result"
    }
   ],
   "source": [
    "blog_ids_names = pd.DataFrame()\n",
    "blog_ids_names['tumblog_id'] = concatenated['tumblog_id_follower'].tolist() + concatenated['tumblog_id_followee'].tolist()\n",
    "blog_ids_names['blog_name'] = concatenated['blog_name_follower'].astype(str).tolist() + concatenated['blog_name_followee'].astype(str).tolist()\n",
    "# len(blog_ids_names)\n",
    "\n",
    "blog_ids_names.drop_duplicates(inplace=True)\n",
    "len(blog_ids_names)"
   ]
  },
  {
   "cell_type": "code",
   "execution_count": 41,
   "metadata": {},
   "outputs": [
    {
     "name": "stdout",
     "output_type": "stream",
     "text": [
      "21011\n"
     ]
    },
    {
     "data": {
      "text/plain": [
       "21011"
      ]
     },
     "execution_count": 41,
     "metadata": {},
     "output_type": "execute_result"
    }
   ],
   "source": [
    "# Check that intersect\n",
    "print(len(test_tumblog_ids))\n",
    "len(test_tumblog_ids.intersection(set(blog_ids_names['tumblog_id'].tolist())))\n",
    "# len(test_tumblog_ids.intersection(set(reblog_info['tumblog_id_follower'].tolist())))"
   ]
  },
  {
   "cell_type": "code",
   "execution_count": 14,
   "metadata": {
    "scrolled": true
   },
   "outputs": [],
   "source": [
    "blogid2name = blog_ids_names.set_index('tumblog_id')['blog_name'].to_dict()\n",
    "blogid2name\n",
    "\n",
    "blogname2id = {val: key for key, val in blogid2name.items()}"
   ]
  },
  {
   "cell_type": "code",
   "execution_count": 43,
   "metadata": {},
   "outputs": [
    {
     "name": "stdout",
     "output_type": "stream",
     "text": [
      "21011\n"
     ]
    },
    {
     "data": {
      "text/plain": [
       "21011"
      ]
     },
     "execution_count": 43,
     "metadata": {},
     "output_type": "execute_result"
    }
   ],
   "source": [
    "# Check that intersect\n",
    "print(len(test_tumblog_ids))\n",
    "len(test_tumblog_ids.intersection(set(blogid2name.keys())))"
   ]
  },
  {
   "cell_type": "code",
   "execution_count": 44,
   "metadata": {
    "scrolled": true
   },
   "outputs": [
    {
     "data": {
      "text/plain": [
       "21011"
      ]
     },
     "execution_count": 44,
     "metadata": {},
     "output_type": "execute_result"
    }
   ],
   "source": [
    "# Lookup test tumblog ids\n",
    "\n",
    "test_blog_names = [blogid2name[tid] for tid in test_tumblog_ids]\n",
    "len(test_blog_names)"
   ]
  },
  {
   "cell_type": "code",
   "execution_count": 45,
   "metadata": {},
   "outputs": [],
   "source": [
    "# Save test set blog names out\n",
    "\n",
    "outpath = '/data/icwsm2020_tumblr_identity/test_set_blog_names.txt'\n",
    "with open(outpath, 'w') as f:\n",
    "    for name in test_blog_names:\n",
    "        f.write(f'{name}\\n')"
   ]
  },
  {
   "cell_type": "markdown",
   "metadata": {},
   "source": [
    "# Separate accuracies for blogs with profile images, without profile images"
   ]
  },
  {
   "cell_type": "code",
   "execution_count": 1,
   "metadata": {},
   "outputs": [
    {
     "name": "stdout",
     "output_type": "stream",
     "text": [
      "12327\n",
      "8683\n"
     ]
    }
   ],
   "source": [
    "path = '/data/icwsm2020_tumblr_identity/test_set_blog_names.txt'\n",
    "\n",
    "with open(path) as f:\n",
    "    test_blog_names = f.read().splitlines()\n",
    "    \n",
    "# len(test_blog_names)\n",
    "\n",
    "import os\n",
    "\n",
    "# num_scraped = 1000\n",
    "# attempted = test_blog_names[:num_scraped]\n",
    "attempted = test_blog_names\n",
    "\n",
    "images_dirpath = '/data/icwsm2020_tumblr_identity/profile_images/test_set/'\n",
    "have_nondefault_image = [os.path.splitext(fname)[0] for fname in os.listdir(images_dirpath)]\n",
    "print(len(have_nondefault_image))\n",
    "# print(have_nondefault_image[:10])\n",
    "\n",
    "default_no_image = [name for name in attempted if name not in have_nondefault_image]\n",
    "print(len(default_no_image))"
   ]
  },
  {
   "cell_type": "markdown",
   "metadata": {},
   "source": [
    "## Load test set instances, find number of profile images for 2 followees in each instance"
   ]
  },
  {
   "cell_type": "code",
   "execution_count": 3,
   "metadata": {},
   "outputs": [
    {
     "data": {
      "text/plain": [
       "(71267,)"
      ]
     },
     "execution_count": 3,
     "metadata": {},
     "output_type": "execute_result"
    }
   ],
   "source": [
    "import numpy as np\n",
    "\n",
    "final_preds_fpath = '/usr2/mamille2/tumblr/data/sample1k/output/predictions/lr_labels_baseline+exp1+exp2_all_test_preds.txt'\n",
    "final_preds = np.loadtxt(final_preds_fpath)\n",
    "final_preds.shape"
   ]
  },
  {
   "cell_type": "code",
   "execution_count": 6,
   "metadata": {
    "scrolled": true
   },
   "outputs": [
    {
     "name": "stdout",
     "output_type": "stream",
     "text": [
      "71267\n",
      "71267\n",
      "71267\n",
      "21011\n"
     ]
    }
   ],
   "source": [
    "import pandas as pd\n",
    "import os\n",
    "from sklearn.model_selection import train_test_split\n",
    "\n",
    "data_dirpath = '/usr2/mamille2/tumblr/data/sample1k/'\n",
    "\n",
    "# Load feature info\n",
    "reblog_fpath = os.path.join(data_dirpath, 'feature_tables', 'reblog_features.csv')\n",
    "reblog_features = pd.read_csv(reblog_fpath)\n",
    "reblog_train, reblog_test = train_test_split(reblog_features, test_size=0.1, random_state=12345)\n",
    "print(len(reblog_test))\n",
    "# print(len(reblog_train))\n",
    "\n",
    "nonreblog_fpath = os.path.join(data_dirpath, 'feature_tables', 'nonreblog_features.csv')\n",
    "nonreblog_features = pd.read_csv(nonreblog_fpath)\n",
    "nonreblog_train, nonreblog_test = train_test_split(nonreblog_features, test_size=0.1, random_state=12345)\n",
    "print(len(nonreblog_test))\n",
    "# print(len(nonreblog_train))\n",
    "\n",
    "# Load gold labels\n",
    "ranking_fpath = os.path.join(data_dirpath, 'feature_tables', 'ranking_labels.csv')\n",
    "ranking_labels = pd.read_csv(ranking_fpath).iloc[:len(reblog_features)]\n",
    "labels_train, labels_test = train_test_split(ranking_labels['ranking_label'], test_size=0.1, random_state=12345)\n",
    "print(len(labels_test))\n",
    "# print(len(labels_train))\n",
    "\n",
    "# nonreblog_test.columns\n",
    "\n",
    "# Get all tumblog_ids in test set\n",
    "test_tumblog_ids = set(\n",
    "    reblog_test['tumblog_id_follower'].tolist() + reblog_test['tumblog_id_followee'].tolist() + nonreblog_test['tumblog_id_follower'].tolist() + nonreblog_test['tumblog_id_followee'].tolist()\n",
    ")\n",
    "\n",
    "print(len(test_tumblog_ids))\n",
    "# test_tumblog_ids"
   ]
  },
  {
   "cell_type": "code",
   "execution_count": 12,
   "metadata": {},
   "outputs": [],
   "source": [
    "import pickle\n",
    "\n",
    "with open('/data/icwsm2020_tumblr_identity/tmp/blogid2name.pkl', 'wb') as f:\n",
    "    pickle.dump(blogid2name, f)\n",
    "with open('/data/icwsm2020_tumblr_identity/tmp/blogname2id.pkl', 'wb') as f:\n",
    "    pickle.dump(blogname2id, f)"
   ]
  },
  {
   "cell_type": "code",
   "execution_count": 13,
   "metadata": {},
   "outputs": [
    {
     "data": {
      "application/vnd.jupyter.widget-view+json": {
       "model_id": "95aa7303548a43758fa60f1b110fd6cb",
       "version_major": 2,
       "version_minor": 0
      },
      "text/plain": [
       "HBox(children=(IntProgress(value=0, max=71267), HTML(value='')))"
      ]
     },
     "metadata": {},
     "output_type": "display_data"
    },
    {
     "name": "stdout",
     "output_type": "stream",
     "text": [
      "\n",
      "71267\n",
      "Index(['actual_label', 'final_pred', 'n_blogs_profile_images'], dtype='object')\n"
     ]
    }
   ],
   "source": [
    "# Build dataset\n",
    "from tqdm import tqdm_notebook as tqdm\n",
    "\n",
    "lines = []\n",
    "header = ['actual_label', 'final_pred', 'n_blogs_profile_images']\n",
    "for i in tqdm(range(len(reblog_test))):\n",
    "    actual_label = labels_test.iloc[i]\n",
    "    final_pred = final_preds[i]\n",
    "    \n",
    "    follower_name = blogid2name[reblog_test.iloc[i]['tumblog_id_follower']]\n",
    "    reblog_followee_name = blogid2name[reblog_test.iloc[i]['tumblog_id_followee']]\n",
    "    nonreblog_followee_name = blogid2name[nonreblog_test.iloc[i]['tumblog_id_followee']]\n",
    "    \n",
    "    if not (follower_name in attempted and reblog_followee_name in attempted and nonreblog_followee_name in attempted):\n",
    "        continue\n",
    "        \n",
    "    n_blogs_profile_images = sum(1 for name in [follower_name, reblog_followee_name, nonreblog_followee_name] if name in have_nondefault_image)\n",
    "    lines.append([actual_label, final_pred, n_blogs_profile_images])\n",
    "    \n",
    "preds_tags = pd.DataFrame(lines, columns=header)\n",
    "print(len(preds_tags))\n",
    "print(preds_tags.columns)"
   ]
  },
  {
   "cell_type": "code",
   "execution_count": 14,
   "metadata": {},
   "outputs": [
    {
     "name": "stdout",
     "output_type": "stream",
     "text": [
      "0: 17500 (24.6%)\n",
      "1: 10590 (14.9%)\n",
      "2: 18734 (26.3%)\n",
      "3: 24443 (34.3%)\n"
     ]
    }
   ],
   "source": [
    "splits = {}\n",
    "\n",
    "for n in range(4):\n",
    "    \n",
    "    splits[n] = preds_tags[preds_tags['n_blogs_profile_images']==n]\n",
    "    print(f\"{n}: {len(splits[n])} ({len(splits[n])/len(preds_tags):.1%})\")"
   ]
  },
  {
   "cell_type": "code",
   "execution_count": 15,
   "metadata": {},
   "outputs": [
    {
     "name": "stdout",
     "output_type": "stream",
     "text": [
      "0: 0.7350857142857142\n",
      "1: 0.7357884796978281\n",
      "2: 0.753122664673855\n",
      "3: 0.750357975698564\n"
     ]
    }
   ],
   "source": [
    "# Accuracy for each group\n",
    "\n",
    "accuracies = {}\n",
    "\n",
    "# Final\n",
    "accuracies['final'] = {}\n",
    "for n in range(4):\n",
    "    accuracies['final'][n] = sum(splits[n]['actual_label'] == splits[n]['final_pred'])/len(splits[n])\n",
    "    print(f\"{n}: {accuracies['final'][n]}\")"
   ]
  },
  {
   "cell_type": "markdown",
   "metadata": {},
   "source": [
    "## Load test set instances, find number of profile images for 3 users in each instance"
   ]
  },
  {
   "cell_type": "code",
   "execution_count": 6,
   "metadata": {},
   "outputs": [
    {
     "data": {
      "text/plain": [
       "(71267,)"
      ]
     },
     "execution_count": 6,
     "metadata": {},
     "output_type": "execute_result"
    }
   ],
   "source": [
    "import numpy as np\n",
    "\n",
    "final_preds_fpath = '/usr2/mamille2/tumblr/data/sample1k/output/predictions/lr_labels_baseline+exp1+exp2_all_test_preds.txt'\n",
    "final_preds = np.loadtxt(final_preds_fpath)\n",
    "final_preds.shape"
   ]
  },
  {
   "cell_type": "code",
   "execution_count": 2,
   "metadata": {
    "scrolled": true
   },
   "outputs": [
    {
     "name": "stdout",
     "output_type": "stream",
     "text": [
      "71267\n",
      "71267\n",
      "71267\n",
      "21011\n"
     ]
    }
   ],
   "source": [
    "import pandas as pd\n",
    "import os\n",
    "from sklearn.model_selection import train_test_split\n",
    "\n",
    "data_dirpath = '/usr2/mamille2/tumblr/data/sample1k/'\n",
    "\n",
    "# Load feature info\n",
    "reblog_fpath = os.path.join(data_dirpath, 'feature_tables', 'reblog_features.csv')\n",
    "reblog_features = pd.read_csv(reblog_fpath)\n",
    "reblog_train, reblog_test = train_test_split(reblog_features, test_size=0.1, random_state=12345)\n",
    "print(len(reblog_test))\n",
    "# print(len(reblog_train))\n",
    "\n",
    "nonreblog_fpath = os.path.join(data_dirpath, 'feature_tables', 'nonreblog_features.csv')\n",
    "nonreblog_features = pd.read_csv(nonreblog_fpath)\n",
    "nonreblog_train, nonreblog_test = train_test_split(nonreblog_features, test_size=0.1, random_state=12345)\n",
    "print(len(nonreblog_test))\n",
    "# print(len(nonreblog_train))\n",
    "\n",
    "# Load gold labels\n",
    "ranking_fpath = os.path.join(data_dirpath, 'feature_tables', 'ranking_labels.csv')\n",
    "ranking_labels = pd.read_csv(ranking_fpath).iloc[:len(reblog_features)]\n",
    "labels_train, labels_test = train_test_split(ranking_labels['ranking_label'], test_size=0.1, random_state=12345)\n",
    "print(len(labels_test))\n",
    "# print(len(labels_train))\n",
    "\n",
    "# nonreblog_test.columns\n",
    "\n",
    "# Get all tumblog_ids in test set\n",
    "test_tumblog_ids = set(\n",
    "    reblog_test['tumblog_id_follower'].tolist() + reblog_test['tumblog_id_followee'].tolist() + nonreblog_test['tumblog_id_follower'].tolist() + nonreblog_test['tumblog_id_followee'].tolist()\n",
    ")\n",
    "\n",
    "print(len(test_tumblog_ids))\n",
    "# test_tumblog_ids"
   ]
  },
  {
   "cell_type": "code",
   "execution_count": 3,
   "metadata": {},
   "outputs": [],
   "source": [
    "# Load pickled info\n",
    "import pickle\n",
    "\n",
    "nonreblog_info = pd.read_pickle('/data/icwsm2020_tumblr_identity/tmp/nonreblog_info.pkl')\n",
    "# print(nonreblog_info.columns)\n",
    "# len(nonreblog_info)\n",
    "\n",
    "with open('/data/icwsm2020_tumblr_identity/tmp/blogid2name.pkl', 'rb') as f:\n",
    "    blogid2name = pickle.load(f)\n",
    "with open('/data/icwsm2020_tumblr_identity/tmp/blogname2id.pkl', 'rb') as f:\n",
    "    blogname2id = pickle.load(f)"
   ]
  },
  {
   "cell_type": "code",
   "execution_count": 8,
   "metadata": {},
   "outputs": [
    {
     "data": {
      "application/vnd.jupyter.widget-view+json": {
       "model_id": "c2e94f456bd84b748d6f4eb1e81e76c9",
       "version_major": 2,
       "version_minor": 0
      },
      "text/plain": [
       "HBox(children=(IntProgress(value=0, max=71267), HTML(value='')))"
      ]
     },
     "metadata": {},
     "output_type": "display_data"
    },
    {
     "name": "stdout",
     "output_type": "stream",
     "text": [
      "\n",
      "71267\n",
      "Index(['actual_label', 'final_pred', 'n_followee_profile_images'], dtype='object')\n"
     ]
    }
   ],
   "source": [
    "# Build dataset\n",
    "from tqdm import tqdm_notebook as tqdm\n",
    "\n",
    "lines = []\n",
    "header = ['actual_label', 'final_pred', 'n_followee_profile_images']\n",
    "\n",
    "for i in tqdm(range(len(reblog_test))):\n",
    "    actual_label = labels_test.iloc[i]\n",
    "    final_pred = final_preds[i]\n",
    "    \n",
    "#     follower_name = blogid2name[reblog_test.iloc[i]['tumblog_id_follower']]\n",
    "    reblog_followee_name = blogid2name[reblog_test.iloc[i]['tumblog_id_followee']]\n",
    "    nonreblog_followee_name = blogid2name[nonreblog_test.iloc[i]['tumblog_id_followee']]\n",
    "    \n",
    "#     if not (follower_name in attempted and reblog_followee_name in attempted and nonreblog_followee_name in attempted):\n",
    "#     if not (reblog_followee_name in attempted and nonreblog_followee_name in attempted):\n",
    "#         n_instances_skipped += 1\n",
    "#         continue\n",
    "        \n",
    "    #n_blogs_profile_images = sum(1 for name in [follower_name, reblog_followee_name, nonreblog_followee_name] if name in have_nondefault_image)\n",
    "    n_blogs_profile_images = sum(1 for name in [reblog_followee_name, nonreblog_followee_name] if name in have_nondefault_image)\n",
    "    lines.append([actual_label, final_pred, n_blogs_profile_images])\n",
    "    \n",
    "preds_tags = pd.DataFrame(lines, columns=header)\n",
    "print(len(preds_tags))\n",
    "print(preds_tags.columns)"
   ]
  },
  {
   "cell_type": "code",
   "execution_count": 11,
   "metadata": {},
   "outputs": [
    {
     "name": "stdout",
     "output_type": "stream",
     "text": [
      "0: 19692 (27.6%)\n",
      "1: 20151 (28.3%)\n",
      "2: 31424 (44.1%)\n"
     ]
    }
   ],
   "source": [
    "splits = {}\n",
    "\n",
    "for n in range(3):\n",
    "    \n",
    "    splits[n] = preds_tags[preds_tags['n_followee_profile_images']==n]\n",
    "    print(f\"{n}: {len(splits[n])} ({len(splits[n])/len(preds_tags):.1%})\")"
   ]
  },
  {
   "cell_type": "code",
   "execution_count": 13,
   "metadata": {},
   "outputs": [
    {
     "name": "stdout",
     "output_type": "stream",
     "text": [
      "0: 0.7315153361771277\n",
      "1: 0.7516252295171455\n",
      "2: 0.7495863034623218\n"
     ]
    }
   ],
   "source": [
    "# Accuracy for each group\n",
    "\n",
    "accuracies = {}\n",
    "\n",
    "# Final\n",
    "accuracies['final'] = {}\n",
    "for n in range(3):\n",
    "    accuracies['final'][n] = sum(splits[n]['actual_label'] == splits[n]['final_pred'])/len(splits[n])\n",
    "    print(f\"{n}: {accuracies['final'][n]}\")"
   ]
  },
  {
   "cell_type": "code",
   "execution_count": 22,
   "metadata": {
    "scrolled": true
   },
   "outputs": [
    {
     "data": {
      "text/plain": [
       "array([ True,  True,  True, ..., False,  True, False])"
      ]
     },
     "execution_count": 22,
     "metadata": {},
     "output_type": "execute_result"
    }
   ],
   "source": [
    "matches = splits[0]['actual_label']==splits[0]['final_pred']\n",
    "matches.values"
   ]
  },
  {
   "cell_type": "code",
   "execution_count": 23,
   "metadata": {},
   "outputs": [
    {
     "name": "stdout",
     "output_type": "stream",
     "text": [
      "Significance 1: Ttest_indResult(statistic=-4.586133816345967, pvalue=4.529013926785877e-06)\n",
      "Significance 2: Ttest_indResult(statistic=-4.548726548924355, pvalue=5.409537574588784e-06)\n"
     ]
    }
   ],
   "source": [
    "# T-test between means\n",
    "\n",
    "from scipy.stats import ttest_ind\n",
    "\n",
    "matches = splits[0]['actual_label']==splits[0]['final_pred']\n",
    "baseline = matches.values\n",
    "\n",
    "for i in range(1,3):\n",
    "    matches = splits[i]['actual_label']==splits[i]['final_pred']\n",
    "    tested = matches.values\n",
    "    print(f'Significance {i}: {ttest_ind(baseline, tested)}')"
   ]
  },
  {
   "cell_type": "markdown",
   "metadata": {},
   "source": [
    "# Stats on providing blog description, profile image"
   ]
  },
  {
   "cell_type": "code",
   "execution_count": 3,
   "metadata": {
    "scrolled": true
   },
   "outputs": [
    {
     "name": "stderr",
     "output_type": "stream",
     "text": [
      "Skipping line 119458: Expected 14 fields in line 119458, saw 27\n",
      "Skipping line 148688: Expected 14 fields in line 148688, saw 27\n",
      "Skipping line 156335: Expected 14 fields in line 156335, saw 27\n",
      "Skipping line 230847: Expected 14 fields in line 230847, saw 27\n",
      "Skipping line 242074: Expected 14 fields in line 242074, saw 27\n",
      "Skipping line 307609: Expected 14 fields in line 307609, saw 27\n",
      "Skipping line 360570: Expected 14 fields in line 360570, saw 27\n",
      "Skipping line 379222: Expected 14 fields in line 379222, saw 27\n",
      "Skipping line 384288: Expected 14 fields in line 384288, saw 27\n",
      "Skipping line 472072: Expected 14 fields in line 472072, saw 27\n",
      "Skipping line 472845: Expected 14 fields in line 472845, saw 27\n",
      "Skipping line 479855: Expected 14 fields in line 479855, saw 27\n",
      "Skipping line 503662: Expected 14 fields in line 503662, saw 27\n",
      "Skipping line 539319: Expected 14 fields in line 539319, saw 27\n",
      "Skipping line 554024: Expected 14 fields in line 554024, saw 27\n",
      "Skipping line 662068: Expected 14 fields in line 662068, saw 27\n",
      "Skipping line 683306: Expected 14 fields in line 683306, saw 27\n",
      "Skipping line 701635: Expected 14 fields in line 701635, saw 27\n",
      "Skipping line 763836: Expected 14 fields in line 763836, saw 27\n",
      "Skipping line 769940: Expected 14 fields in line 769940, saw 27\n",
      "Skipping line 847221: Expected 14 fields in line 847221, saw 27\n",
      "Skipping line 891814: Expected 14 fields in line 891814, saw 27\n",
      "Skipping line 920954: Expected 14 fields in line 920954, saw 27\n",
      "Skipping line 924892: Expected 14 fields in line 924892, saw 27\n",
      "Skipping line 925795: Expected 14 fields in line 925795, saw 27\n",
      "Skipping line 926618: Expected 14 fields in line 926618, saw 27\n"
     ]
    },
    {
     "name": "stdout",
     "output_type": "stream",
     "text": [
      "Index(['tumblog_id', 'tumblr_blog_name', 'tumblr_blog_title',\n",
      "       'tumblr_blog_url', 'is_group_blog', 'is_primary', 'created_time_epoch',\n",
      "       'updated_time_epoch', 'timezone', 'language', 'blog_classifier',\n",
      "       'reblog_count_2018-06-01/2018-11-30', 'has_blog_description',\n",
      "       'processed_blog_description'],\n",
      "      dtype='object')\n",
      "1000624\n"
     ]
    }
   ],
   "source": [
    "import pandas as pd\n",
    "\n",
    "# Load 1m data\n",
    "\n",
    "blog_data_fpath = '/data/icwsm2020_tumblr_identity/icwsm2020_blogs_1m.csv'\n",
    "# blog_info = pd.read_csv(blog_data_fpath, escapechar='\\\\', engine='python', encoding='utf8', error_bad_lines=False)\n",
    "blog_info = pd.read_csv(blog_data_fpath)\n",
    "print(blog_info.columns)\n",
    "print(len(blog_info))"
   ]
  },
  {
   "cell_type": "code",
   "execution_count": 4,
   "metadata": {},
   "outputs": [
    {
     "name": "stdout",
     "output_type": "stream",
     "text": [
      "283\n",
      "717\n"
     ]
    }
   ],
   "source": [
    "# Load profile image info\n",
    "\n",
    "profile_image_info_fpath = '/projects/icwsm2020_tumblr_identity/output/scrape_info_2019-08-21T0013.txt'\n",
    "\n",
    "with open(profile_image_info_fpath) as f:\n",
    "    lines = f.read().splitlines()\n",
    "    default_start_idx = lines.index('Blog names with default images:')\n",
    "    image_start_idx = lines.index('Blog names with other images:')\n",
    "    blognames_default = lines[default_start_idx+1: image_start_idx-1]\n",
    "    blognames_image = lines[image_start_idx+1:]\n",
    "    \n",
    "print(len(blognames_default))\n",
    "print(len(blognames_image))"
   ]
  },
  {
   "cell_type": "code",
   "execution_count": 7,
   "metadata": {
    "scrolled": true
   },
   "outputs": [
    {
     "data": {
      "application/vnd.jupyter.widget-view+json": {
       "model_id": "c5a26cee275a41f584775069191052ba",
       "version_major": 2,
       "version_minor": 0
      },
      "text/plain": [
       "HBox(children=(IntProgress(value=0, max=1000624), HTML(value='')))"
      ]
     },
     "metadata": {},
     "output_type": "display_data"
    },
    {
     "data": {
      "text/plain": [
       "283"
      ]
     },
     "execution_count": 7,
     "metadata": {},
     "output_type": "execute_result"
    }
   ],
   "source": [
    "from tqdm import tqdm_notebook as tqdm\n",
    "\n",
    "def annotate_blog_info(blogname):\n",
    "    if blogname in blognames_default:\n",
    "        return 'default'\n",
    "    elif blogname in blognames_image:\n",
    "        return 'image'\n",
    "    else:\n",
    "        return ''\n",
    "\n",
    "blog_info['profile_image'] = [annotate_blog_info(name) for name in tqdm(blog_info['tumblr_blog_name'].tolist())]\n",
    "len(blog_info[blog_info['profile_image']=='default'])"
   ]
  },
  {
   "cell_type": "code",
   "execution_count": 8,
   "metadata": {},
   "outputs": [
    {
     "data": {
      "text/plain": [
       "1000"
      ]
     },
     "execution_count": 8,
     "metadata": {},
     "output_type": "execute_result"
    }
   ],
   "source": [
    "with_profile_image = blog_info[blog_info['profile_image']!='']\n",
    "len(with_profile_image)"
   ]
  },
  {
   "cell_type": "code",
   "execution_count": 20,
   "metadata": {},
   "outputs": [
    {
     "name": "stdout",
     "output_type": "stream",
     "text": [
      "Just descriptions: 120\n",
      "Just images: 179\n",
      "Both description and image: 538\n"
     ]
    }
   ],
   "source": [
    "# Stats on profile image/blog description\n",
    "blognames_with_descriptions = set(with_profile_image.loc[with_profile_image['has_blog_description']=='true', 'tumblr_blog_name'])\n",
    "blognames_with_images = set(with_profile_image.loc[with_profile_image['profile_image']=='image', 'tumblr_blog_name'])\n",
    "\n",
    "intersect = blognames_with_descriptions.intersection(blognames_with_images)\n",
    "both = len(intersect)\n",
    "desc_only = len(blognames_with_descriptions - intersect)\n",
    "image_only = len(blognames_with_images - intersect)\n",
    "# print(f\"Have descriptions: {len(blognames_with_descriptions)}\")\n",
    "# print(f\"Have images: {len(blognames_with_images)}\")\n",
    "print(f\"Just descriptions: {desc_only}\")\n",
    "print(f\"Just images: {image_only}\")\n",
    "print(f\"Both description and image: {both}\")"
   ]
  },
  {
   "cell_type": "code",
   "execution_count": 24,
   "metadata": {},
   "outputs": [
    {
     "data": {
      "text/plain": [
       "(0.3098639330864374, 1.0749575488859195e-23)"
      ]
     },
     "execution_count": 24,
     "metadata": {},
     "output_type": "execute_result"
    }
   ],
   "source": [
    "# Calculate correlation\n",
    "from scipy.stats import pearsonr\n",
    "\n",
    "has_description = [1 if val == 'true' else 0 for val in with_profile_image['has_blog_description'].tolist()]\n",
    "has_image = [1 if val == 'image' else 0 for val in with_profile_image['profile_image'].tolist()]\n",
    "\n",
    "pearsonr(has_description, has_image)"
   ]
  },
  {
   "cell_type": "code",
   "execution_count": 25,
   "metadata": {},
   "outputs": [
    {
     "data": {
      "text/plain": [
       "Index(['tumblog_id', 'tumblr_blog_name', 'tumblr_blog_title',\n",
       "       'tumblr_blog_url', 'is_group_blog', 'is_primary', 'created_time_epoch',\n",
       "       'updated_time_epoch', 'timezone', 'language', 'blog_classifier',\n",
       "       'reblog_count_2018-06-01/2018-11-30', 'has_blog_description',\n",
       "       'processed_blog_description', 'profile_image'],\n",
       "      dtype='object')"
      ]
     },
     "execution_count": 25,
     "metadata": {},
     "output_type": "execute_result"
    }
   ],
   "source": [
    "blog_info.columns"
   ]
  },
  {
   "cell_type": "code",
   "execution_count": 26,
   "metadata": {},
   "outputs": [],
   "source": [
    "blog_info.to_csv(blog_data_fpath, index=False)"
   ]
  },
  {
   "cell_type": "markdown",
   "metadata": {},
   "source": [
    "# Sample 500 blog names from dataset "
   ]
  },
  {
   "cell_type": "code",
   "execution_count": 3,
   "metadata": {
    "scrolled": true
   },
   "outputs": [
    {
     "name": "stdout",
     "output_type": "stream",
     "text": [
      "153090\n"
     ]
    },
    {
     "data": {
      "text/plain": [
       "Index(['blog_description_followee', 'blog_name_followee',\n",
       "       'blog_title_followee', 'blog_url_followee', 'is_group_blog_followee',\n",
       "       'is_private_followee', 'created_time_epoch_followee',\n",
       "       'updated_time_epoch_followee', 'timezone_followee', 'language_followee',\n",
       "       ...\n",
       "       'interests_terms_followee', 'location_terms_followee',\n",
       "       'personality type_terms_followee', 'pronouns_terms_followee',\n",
       "       'relationship status_terms_followee', 'roleplay_terms_followee',\n",
       "       'roleplay/fandoms_terms_followee', 'sexual orientation_terms_followee',\n",
       "       'weight_terms_followee', 'zodiac_terms_followee'],\n",
       "      dtype='object', length=104)"
      ]
     },
     "execution_count": 3,
     "metadata": {},
     "output_type": "execute_result"
    }
   ],
   "source": [
    "import os\n",
    "import pandas as pd\n",
    "\n",
    "# Load reblog prediction dataset\n",
    "\n",
    "data_dirpath = '/usr2/mamille2/tumblr/data/sample1k/'\n",
    "\n",
    "reblog_fpath = os.path.join(data_dirpath, 'reblogs_descs_annotated', 'reblogs_descs.tsv')\n",
    "reblogs = pd.read_table(reblog_fpath)\n",
    "print(len(reblogs))\n",
    "reblogs.columns"
   ]
  },
  {
   "cell_type": "code",
   "execution_count": 6,
   "metadata": {},
   "outputs": [
    {
     "data": {
      "text/plain": [
       "306180"
      ]
     },
     "execution_count": 6,
     "metadata": {},
     "output_type": "execute_result"
    }
   ],
   "source": [
    "blognames = reblogs['blog_name_followee'].tolist() + reblogs['blog_name_follower'].tolist()\n",
    "len(blognames)"
   ]
  },
  {
   "cell_type": "code",
   "execution_count": 11,
   "metadata": {
    "scrolled": true
   },
   "outputs": [
    {
     "data": {
      "application/vnd.jupyter.widget-view+json": {
       "model_id": "f0f7993f1eef44c0a1eff9deb5802d8c",
       "version_major": 2,
       "version_minor": 0
      },
      "text/plain": [
       "HBox(children=(IntProgress(value=0, max=961), HTML(value='')))"
      ]
     },
     "metadata": {},
     "output_type": "display_data"
    },
    {
     "name": "stderr",
     "output_type": "stream",
     "text": [
      "/usr0/home/mamille2/anaconda3/lib/python3.6/site-packages/IPython/core/interactiveshell.py:2728: DtypeWarning: Columns (6,18) have mixed types. Specify dtype option on import or set low_memory=False.\n",
      "  interactivity=interactivity, compiler=compiler, result=result)\n",
      "/usr0/home/mamille2/anaconda3/lib/python3.6/site-packages/IPython/core/interactiveshell.py:2728: DtypeWarning: Columns (6,13,18,48) have mixed types. Specify dtype option on import or set low_memory=False.\n",
      "  interactivity=interactivity, compiler=compiler, result=result)\n"
     ]
    },
    {
     "name": "stdout",
     "output_type": "stream",
     "text": [
      "\n"
     ]
    },
    {
     "name": "stderr",
     "output_type": "stream",
     "text": [
      "Exception in thread Thread-4:\n",
      "Traceback (most recent call last):\n",
      "  File \"/usr0/home/mamille2/anaconda3/lib/python3.6/threading.py\", line 916, in _bootstrap_inner\n",
      "    self.run()\n",
      "  File \"/usr0/home/mamille2/anaconda3/lib/python3.6/site-packages/tqdm/_tqdm.py\", line 144, in run\n",
      "    for instance in self.tqdm_cls._instances:\n",
      "  File \"/usr0/home/mamille2/anaconda3/lib/python3.6/_weakrefset.py\", line 60, in __iter__\n",
      "    for itemref in self.data:\n",
      "RuntimeError: Set changed size during iteration\n",
      "\n",
      "/usr0/home/mamille2/anaconda3/lib/python3.6/site-packages/IPython/core/interactiveshell.py:2728: DtypeWarning: Columns (27) have mixed types. Specify dtype option on import or set low_memory=False.\n",
      "  interactivity=interactivity, compiler=compiler, result=result)\n",
      "/usr0/home/mamille2/anaconda3/lib/python3.6/site-packages/IPython/core/interactiveshell.py:2728: DtypeWarning: Columns (6,9,10,27) have mixed types. Specify dtype option on import or set low_memory=False.\n",
      "  interactivity=interactivity, compiler=compiler, result=result)\n",
      "/usr0/home/mamille2/anaconda3/lib/python3.6/site-packages/IPython/core/interactiveshell.py:2728: DtypeWarning: Columns (18,27) have mixed types. Specify dtype option on import or set low_memory=False.\n",
      "  interactivity=interactivity, compiler=compiler, result=result)\n",
      "/usr0/home/mamille2/anaconda3/lib/python3.6/site-packages/IPython/core/interactiveshell.py:2728: DtypeWarning: Columns (18) have mixed types. Specify dtype option on import or set low_memory=False.\n",
      "  interactivity=interactivity, compiler=compiler, result=result)\n",
      "/usr0/home/mamille2/anaconda3/lib/python3.6/site-packages/IPython/core/interactiveshell.py:2728: DtypeWarning: Columns (6,9,10,21,22,27) have mixed types. Specify dtype option on import or set low_memory=False.\n",
      "  interactivity=interactivity, compiler=compiler, result=result)\n",
      "/usr0/home/mamille2/anaconda3/lib/python3.6/site-packages/IPython/core/interactiveshell.py:2728: DtypeWarning: Columns (13,18,27,48) have mixed types. Specify dtype option on import or set low_memory=False.\n",
      "  interactivity=interactivity, compiler=compiler, result=result)\n",
      "/usr0/home/mamille2/anaconda3/lib/python3.6/site-packages/IPython/core/interactiveshell.py:2728: DtypeWarning: Columns (6) have mixed types. Specify dtype option on import or set low_memory=False.\n",
      "  interactivity=interactivity, compiler=compiler, result=result)\n",
      "/usr0/home/mamille2/anaconda3/lib/python3.6/site-packages/IPython/core/interactiveshell.py:2728: DtypeWarning: Columns (1,9,10,27,49) have mixed types. Specify dtype option on import or set low_memory=False.\n",
      "  interactivity=interactivity, compiler=compiler, result=result)\n",
      "/usr0/home/mamille2/anaconda3/lib/python3.6/site-packages/IPython/core/interactiveshell.py:2728: DtypeWarning: Columns (9,10,13,18,27,48) have mixed types. Specify dtype option on import or set low_memory=False.\n",
      "  interactivity=interactivity, compiler=compiler, result=result)\n",
      "/usr0/home/mamille2/anaconda3/lib/python3.6/site-packages/IPython/core/interactiveshell.py:2728: DtypeWarning: Columns (6,21,22) have mixed types. Specify dtype option on import or set low_memory=False.\n",
      "  interactivity=interactivity, compiler=compiler, result=result)\n",
      "/usr0/home/mamille2/anaconda3/lib/python3.6/site-packages/IPython/core/interactiveshell.py:2728: DtypeWarning: Columns (1,9,10,18,27,42,43,49) have mixed types. Specify dtype option on import or set low_memory=False.\n",
      "  interactivity=interactivity, compiler=compiler, result=result)\n",
      "/usr0/home/mamille2/anaconda3/lib/python3.6/site-packages/IPython/core/interactiveshell.py:2728: DtypeWarning: Columns (18,21,22) have mixed types. Specify dtype option on import or set low_memory=False.\n",
      "  interactivity=interactivity, compiler=compiler, result=result)\n",
      "/usr0/home/mamille2/anaconda3/lib/python3.6/site-packages/IPython/core/interactiveshell.py:2728: DtypeWarning: Columns (6,9,10,13,18,27,48) have mixed types. Specify dtype option on import or set low_memory=False.\n",
      "  interactivity=interactivity, compiler=compiler, result=result)\n",
      "/usr0/home/mamille2/anaconda3/lib/python3.6/site-packages/IPython/core/interactiveshell.py:2728: DtypeWarning: Columns (1,9,10,13,18,27,48,49) have mixed types. Specify dtype option on import or set low_memory=False.\n",
      "  interactivity=interactivity, compiler=compiler, result=result)\n",
      "/usr0/home/mamille2/anaconda3/lib/python3.6/site-packages/IPython/core/interactiveshell.py:2728: DtypeWarning: Columns (6,18,27) have mixed types. Specify dtype option on import or set low_memory=False.\n",
      "  interactivity=interactivity, compiler=compiler, result=result)\n",
      "/usr0/home/mamille2/anaconda3/lib/python3.6/site-packages/IPython/core/interactiveshell.py:2728: DtypeWarning: Columns (9,10,18) have mixed types. Specify dtype option on import or set low_memory=False.\n",
      "  interactivity=interactivity, compiler=compiler, result=result)\n",
      "/usr0/home/mamille2/anaconda3/lib/python3.6/site-packages/IPython/core/interactiveshell.py:2728: DtypeWarning: Columns (1,9,10,18,21,22,27,49) have mixed types. Specify dtype option on import or set low_memory=False.\n",
      "  interactivity=interactivity, compiler=compiler, result=result)\n",
      "/usr0/home/mamille2/anaconda3/lib/python3.6/site-packages/IPython/core/interactiveshell.py:2728: DtypeWarning: Columns (6,13,27,48) have mixed types. Specify dtype option on import or set low_memory=False.\n",
      "  interactivity=interactivity, compiler=compiler, result=result)\n",
      "/usr0/home/mamille2/anaconda3/lib/python3.6/site-packages/IPython/core/interactiveshell.py:2728: DtypeWarning: Columns (1,6,9,10,21,22,49) have mixed types. Specify dtype option on import or set low_memory=False.\n",
      "  interactivity=interactivity, compiler=compiler, result=result)\n",
      "/usr0/home/mamille2/anaconda3/lib/python3.6/site-packages/IPython/core/interactiveshell.py:2728: DtypeWarning: Columns (1,3,6,9,10,13,18,27,48,49) have mixed types. Specify dtype option on import or set low_memory=False.\n",
      "  interactivity=interactivity, compiler=compiler, result=result)\n",
      "/usr0/home/mamille2/anaconda3/lib/python3.6/site-packages/IPython/core/interactiveshell.py:2728: DtypeWarning: Columns (9,10,18,21,22) have mixed types. Specify dtype option on import or set low_memory=False.\n",
      "  interactivity=interactivity, compiler=compiler, result=result)\n",
      "/usr0/home/mamille2/anaconda3/lib/python3.6/site-packages/IPython/core/interactiveshell.py:2728: DtypeWarning: Columns (9,10,15) have mixed types. Specify dtype option on import or set low_memory=False.\n",
      "  interactivity=interactivity, compiler=compiler, result=result)\n",
      "/usr0/home/mamille2/anaconda3/lib/python3.6/site-packages/IPython/core/interactiveshell.py:2728: DtypeWarning: Columns (1,18,21,22,49) have mixed types. Specify dtype option on import or set low_memory=False.\n",
      "  interactivity=interactivity, compiler=compiler, result=result)\n",
      "/usr0/home/mamille2/anaconda3/lib/python3.6/site-packages/IPython/core/interactiveshell.py:2728: DtypeWarning: Columns (6,18,21,22) have mixed types. Specify dtype option on import or set low_memory=False.\n",
      "  interactivity=interactivity, compiler=compiler, result=result)\n",
      "/usr0/home/mamille2/anaconda3/lib/python3.6/site-packages/IPython/core/interactiveshell.py:2728: DtypeWarning: Columns (9,10,13,18,48) have mixed types. Specify dtype option on import or set low_memory=False.\n",
      "  interactivity=interactivity, compiler=compiler, result=result)\n",
      "/usr0/home/mamille2/anaconda3/lib/python3.6/site-packages/IPython/core/interactiveshell.py:2728: DtypeWarning: Columns (1,6,9,10,13,18,27,29,31,48,49) have mixed types. Specify dtype option on import or set low_memory=False.\n",
      "  interactivity=interactivity, compiler=compiler, result=result)\n",
      "/usr0/home/mamille2/anaconda3/lib/python3.6/site-packages/IPython/core/interactiveshell.py:2728: DtypeWarning: Columns (6,13,18,27,48) have mixed types. Specify dtype option on import or set low_memory=False.\n",
      "  interactivity=interactivity, compiler=compiler, result=result)\n",
      "/usr0/home/mamille2/anaconda3/lib/python3.6/site-packages/IPython/core/interactiveshell.py:2728: DtypeWarning: Columns (1,9,10,13,27,48,49) have mixed types. Specify dtype option on import or set low_memory=False.\n",
      "  interactivity=interactivity, compiler=compiler, result=result)\n",
      "/usr0/home/mamille2/anaconda3/lib/python3.6/site-packages/IPython/core/interactiveshell.py:2728: DtypeWarning: Columns (6,27) have mixed types. Specify dtype option on import or set low_memory=False.\n",
      "  interactivity=interactivity, compiler=compiler, result=result)\n"
     ]
    },
    {
     "name": "stderr",
     "output_type": "stream",
     "text": [
      "/usr0/home/mamille2/anaconda3/lib/python3.6/site-packages/IPython/core/interactiveshell.py:2728: DtypeWarning: Columns (9,10,13,27,48) have mixed types. Specify dtype option on import or set low_memory=False.\n",
      "  interactivity=interactivity, compiler=compiler, result=result)\n",
      "/usr0/home/mamille2/anaconda3/lib/python3.6/site-packages/IPython/core/interactiveshell.py:2728: DtypeWarning: Columns (18,27,48) have mixed types. Specify dtype option on import or set low_memory=False.\n",
      "  interactivity=interactivity, compiler=compiler, result=result)\n",
      "/usr0/home/mamille2/anaconda3/lib/python3.6/site-packages/IPython/core/interactiveshell.py:2728: DtypeWarning: Columns (6,9,10,13,27,48) have mixed types. Specify dtype option on import or set low_memory=False.\n",
      "  interactivity=interactivity, compiler=compiler, result=result)\n",
      "/usr0/home/mamille2/anaconda3/lib/python3.6/site-packages/IPython/core/interactiveshell.py:2728: DtypeWarning: Columns (1,6,49) have mixed types. Specify dtype option on import or set low_memory=False.\n",
      "  interactivity=interactivity, compiler=compiler, result=result)\n",
      "/usr0/home/mamille2/anaconda3/lib/python3.6/site-packages/IPython/core/interactiveshell.py:2728: DtypeWarning: Columns (6,9,10,18,21,22,27) have mixed types. Specify dtype option on import or set low_memory=False.\n",
      "  interactivity=interactivity, compiler=compiler, result=result)\n",
      "/usr0/home/mamille2/anaconda3/lib/python3.6/site-packages/IPython/core/interactiveshell.py:2728: DtypeWarning: Columns (6,9,10,13,21,22,27,48) have mixed types. Specify dtype option on import or set low_memory=False.\n",
      "  interactivity=interactivity, compiler=compiler, result=result)\n",
      "/usr0/home/mamille2/anaconda3/lib/python3.6/site-packages/IPython/core/interactiveshell.py:2728: DtypeWarning: Columns (1,6,18,21,22,27,49) have mixed types. Specify dtype option on import or set low_memory=False.\n",
      "  interactivity=interactivity, compiler=compiler, result=result)\n",
      "/usr0/home/mamille2/anaconda3/lib/python3.6/site-packages/IPython/core/interactiveshell.py:2728: DtypeWarning: Columns (6,9,10,18) have mixed types. Specify dtype option on import or set low_memory=False.\n",
      "  interactivity=interactivity, compiler=compiler, result=result)\n",
      "/usr0/home/mamille2/anaconda3/lib/python3.6/site-packages/IPython/core/interactiveshell.py:2728: DtypeWarning: Columns (9,10,27,48) have mixed types. Specify dtype option on import or set low_memory=False.\n",
      "  interactivity=interactivity, compiler=compiler, result=result)\n",
      "/usr0/home/mamille2/anaconda3/lib/python3.6/site-packages/IPython/core/interactiveshell.py:2728: DtypeWarning: Columns (21,22) have mixed types. Specify dtype option on import or set low_memory=False.\n",
      "  interactivity=interactivity, compiler=compiler, result=result)\n",
      "/usr0/home/mamille2/anaconda3/lib/python3.6/site-packages/IPython/core/interactiveshell.py:2728: DtypeWarning: Columns (3,6,18,21,22,27) have mixed types. Specify dtype option on import or set low_memory=False.\n",
      "  interactivity=interactivity, compiler=compiler, result=result)\n",
      "/usr0/home/mamille2/anaconda3/lib/python3.6/site-packages/IPython/core/interactiveshell.py:2728: DtypeWarning: Columns (1,6,9,10,18,27,29,31,49) have mixed types. Specify dtype option on import or set low_memory=False.\n",
      "  interactivity=interactivity, compiler=compiler, result=result)\n",
      "/usr0/home/mamille2/anaconda3/lib/python3.6/site-packages/IPython/core/interactiveshell.py:2728: DtypeWarning: Columns (13,27,48) have mixed types. Specify dtype option on import or set low_memory=False.\n",
      "  interactivity=interactivity, compiler=compiler, result=result)\n",
      "/usr0/home/mamille2/anaconda3/lib/python3.6/site-packages/IPython/core/interactiveshell.py:2728: DtypeWarning: Columns (1,13,18,27,48,49) have mixed types. Specify dtype option on import or set low_memory=False.\n",
      "  interactivity=interactivity, compiler=compiler, result=result)\n",
      "/usr0/home/mamille2/anaconda3/lib/python3.6/site-packages/IPython/core/interactiveshell.py:2728: DtypeWarning: Columns (9,10,18,27) have mixed types. Specify dtype option on import or set low_memory=False.\n",
      "  interactivity=interactivity, compiler=compiler, result=result)\n",
      "/usr0/home/mamille2/anaconda3/lib/python3.6/site-packages/IPython/core/interactiveshell.py:2728: DtypeWarning: Columns (1,6,9,10,13,18,27,48,49) have mixed types. Specify dtype option on import or set low_memory=False.\n",
      "  interactivity=interactivity, compiler=compiler, result=result)\n",
      "/usr0/home/mamille2/anaconda3/lib/python3.6/site-packages/IPython/core/interactiveshell.py:2728: DtypeWarning: Columns (13,48) have mixed types. Specify dtype option on import or set low_memory=False.\n",
      "  interactivity=interactivity, compiler=compiler, result=result)\n",
      "/usr0/home/mamille2/anaconda3/lib/python3.6/site-packages/IPython/core/interactiveshell.py:2728: DtypeWarning: Columns (1,3,9,10,21,22,27,49) have mixed types. Specify dtype option on import or set low_memory=False.\n",
      "  interactivity=interactivity, compiler=compiler, result=result)\n",
      "/usr0/home/mamille2/anaconda3/lib/python3.6/site-packages/IPython/core/interactiveshell.py:2728: DtypeWarning: Columns (13,18,21,22,48) have mixed types. Specify dtype option on import or set low_memory=False.\n",
      "  interactivity=interactivity, compiler=compiler, result=result)\n",
      "/usr0/home/mamille2/anaconda3/lib/python3.6/site-packages/IPython/core/interactiveshell.py:2728: DtypeWarning: Columns (18,21,22,27) have mixed types. Specify dtype option on import or set low_memory=False.\n",
      "  interactivity=interactivity, compiler=compiler, result=result)\n",
      "/usr0/home/mamille2/anaconda3/lib/python3.6/site-packages/IPython/core/interactiveshell.py:2728: DtypeWarning: Columns (3,18,27) have mixed types. Specify dtype option on import or set low_memory=False.\n",
      "  interactivity=interactivity, compiler=compiler, result=result)\n",
      "/usr0/home/mamille2/anaconda3/lib/python3.6/site-packages/IPython/core/interactiveshell.py:2728: DtypeWarning: Columns (1,6,9,10,27,49) have mixed types. Specify dtype option on import or set low_memory=False.\n",
      "  interactivity=interactivity, compiler=compiler, result=result)\n",
      "/usr0/home/mamille2/anaconda3/lib/python3.6/site-packages/IPython/core/interactiveshell.py:2728: DtypeWarning: Columns (13,18,48) have mixed types. Specify dtype option on import or set low_memory=False.\n",
      "  interactivity=interactivity, compiler=compiler, result=result)\n",
      "/usr0/home/mamille2/anaconda3/lib/python3.6/site-packages/IPython/core/interactiveshell.py:2728: DtypeWarning: Columns (9,10,27) have mixed types. Specify dtype option on import or set low_memory=False.\n",
      "  interactivity=interactivity, compiler=compiler, result=result)\n",
      "/usr0/home/mamille2/anaconda3/lib/python3.6/site-packages/IPython/core/interactiveshell.py:2728: DtypeWarning: Columns (1,3,9,10,18,21,22,49) have mixed types. Specify dtype option on import or set low_memory=False.\n",
      "  interactivity=interactivity, compiler=compiler, result=result)\n",
      "/usr0/home/mamille2/anaconda3/lib/python3.6/site-packages/IPython/core/interactiveshell.py:2728: DtypeWarning: Columns (1,6,9,10,13,27,48,49) have mixed types. Specify dtype option on import or set low_memory=False.\n",
      "  interactivity=interactivity, compiler=compiler, result=result)\n",
      "/usr0/home/mamille2/anaconda3/lib/python3.6/site-packages/IPython/core/interactiveshell.py:2728: DtypeWarning: Columns (1,21,22,27,49) have mixed types. Specify dtype option on import or set low_memory=False.\n",
      "  interactivity=interactivity, compiler=compiler, result=result)\n",
      "/usr0/home/mamille2/anaconda3/lib/python3.6/site-packages/IPython/core/interactiveshell.py:2728: DtypeWarning: Columns (1,13,21,22,27,48,49) have mixed types. Specify dtype option on import or set low_memory=False.\n",
      "  interactivity=interactivity, compiler=compiler, result=result)\n",
      "/usr0/home/mamille2/anaconda3/lib/python3.6/site-packages/IPython/core/interactiveshell.py:2728: DtypeWarning: Columns (1,18,27,49) have mixed types. Specify dtype option on import or set low_memory=False.\n",
      "  interactivity=interactivity, compiler=compiler, result=result)\n",
      "/usr0/home/mamille2/anaconda3/lib/python3.6/site-packages/IPython/core/interactiveshell.py:2728: DtypeWarning: Columns (6,9,10,21,22) have mixed types. Specify dtype option on import or set low_memory=False.\n",
      "  interactivity=interactivity, compiler=compiler, result=result)\n"
     ]
    },
    {
     "name": "stderr",
     "output_type": "stream",
     "text": [
      "/usr0/home/mamille2/anaconda3/lib/python3.6/site-packages/IPython/core/interactiveshell.py:2728: DtypeWarning: Columns (6,13,48) have mixed types. Specify dtype option on import or set low_memory=False.\n",
      "  interactivity=interactivity, compiler=compiler, result=result)\n",
      "/usr0/home/mamille2/anaconda3/lib/python3.6/site-packages/IPython/core/interactiveshell.py:2728: DtypeWarning: Columns (6,18,21,22,27) have mixed types. Specify dtype option on import or set low_memory=False.\n",
      "  interactivity=interactivity, compiler=compiler, result=result)\n",
      "/usr0/home/mamille2/anaconda3/lib/python3.6/site-packages/IPython/core/interactiveshell.py:2728: DtypeWarning: Columns (1,6,21,22,27,49) have mixed types. Specify dtype option on import or set low_memory=False.\n",
      "  interactivity=interactivity, compiler=compiler, result=result)\n",
      "/usr0/home/mamille2/anaconda3/lib/python3.6/site-packages/IPython/core/interactiveshell.py:2728: DtypeWarning: Columns (21,22,27) have mixed types. Specify dtype option on import or set low_memory=False.\n",
      "  interactivity=interactivity, compiler=compiler, result=result)\n",
      "/usr0/home/mamille2/anaconda3/lib/python3.6/site-packages/IPython/core/interactiveshell.py:2728: DtypeWarning: Columns (1,9,10,13,18,27,31,48,49) have mixed types. Specify dtype option on import or set low_memory=False.\n",
      "  interactivity=interactivity, compiler=compiler, result=result)\n",
      "/usr0/home/mamille2/anaconda3/lib/python3.6/site-packages/IPython/core/interactiveshell.py:2728: DtypeWarning: Columns (1,3,13,21,22,27,48,49) have mixed types. Specify dtype option on import or set low_memory=False.\n",
      "  interactivity=interactivity, compiler=compiler, result=result)\n",
      "/usr0/home/mamille2/anaconda3/lib/python3.6/site-packages/IPython/core/interactiveshell.py:2728: DtypeWarning: Columns (3,6,18,27) have mixed types. Specify dtype option on import or set low_memory=False.\n",
      "  interactivity=interactivity, compiler=compiler, result=result)\n",
      "/usr0/home/mamille2/anaconda3/lib/python3.6/site-packages/IPython/core/interactiveshell.py:2728: DtypeWarning: Columns (1,27,49) have mixed types. Specify dtype option on import or set low_memory=False.\n",
      "  interactivity=interactivity, compiler=compiler, result=result)\n",
      "/usr0/home/mamille2/anaconda3/lib/python3.6/site-packages/IPython/core/interactiveshell.py:2728: DtypeWarning: Columns (6,9,10,18,27) have mixed types. Specify dtype option on import or set low_memory=False.\n",
      "  interactivity=interactivity, compiler=compiler, result=result)\n",
      "/usr0/home/mamille2/anaconda3/lib/python3.6/site-packages/IPython/core/interactiveshell.py:2728: DtypeWarning: Columns (9,10) have mixed types. Specify dtype option on import or set low_memory=False.\n",
      "  interactivity=interactivity, compiler=compiler, result=result)\n",
      "/usr0/home/mamille2/anaconda3/lib/python3.6/site-packages/IPython/core/interactiveshell.py:2728: DtypeWarning: Columns (9,10,21,22,27) have mixed types. Specify dtype option on import or set low_memory=False.\n",
      "  interactivity=interactivity, compiler=compiler, result=result)\n",
      "/usr0/home/mamille2/anaconda3/lib/python3.6/site-packages/IPython/core/interactiveshell.py:2728: DtypeWarning: Columns (6,9,10,18,21,22,27,31) have mixed types. Specify dtype option on import or set low_memory=False.\n",
      "  interactivity=interactivity, compiler=compiler, result=result)\n",
      "/usr0/home/mamille2/anaconda3/lib/python3.6/site-packages/IPython/core/interactiveshell.py:2728: DtypeWarning: Columns (1,3,6,21,22,27,49) have mixed types. Specify dtype option on import or set low_memory=False.\n",
      "  interactivity=interactivity, compiler=compiler, result=result)\n",
      "/usr0/home/mamille2/anaconda3/lib/python3.6/site-packages/IPython/core/interactiveshell.py:2728: DtypeWarning: Columns (9,10,13,21,22,27,48) have mixed types. Specify dtype option on import or set low_memory=False.\n",
      "  interactivity=interactivity, compiler=compiler, result=result)\n",
      "/usr0/home/mamille2/anaconda3/lib/python3.6/site-packages/IPython/core/interactiveshell.py:2728: DtypeWarning: Columns (1,3,6,9,10,13,18,21,22,27,48,49) have mixed types. Specify dtype option on import or set low_memory=False.\n",
      "  interactivity=interactivity, compiler=compiler, result=result)\n",
      "/usr0/home/mamille2/anaconda3/lib/python3.6/site-packages/IPython/core/interactiveshell.py:2728: DtypeWarning: Columns (6,9,10,18,21,22) have mixed types. Specify dtype option on import or set low_memory=False.\n",
      "  interactivity=interactivity, compiler=compiler, result=result)\n",
      "/usr0/home/mamille2/anaconda3/lib/python3.6/site-packages/IPython/core/interactiveshell.py:2728: DtypeWarning: Columns (3,27) have mixed types. Specify dtype option on import or set low_memory=False.\n",
      "  interactivity=interactivity, compiler=compiler, result=result)\n",
      "/usr0/home/mamille2/anaconda3/lib/python3.6/site-packages/IPython/core/interactiveshell.py:2728: DtypeWarning: Columns (1,6,27,49) have mixed types. Specify dtype option on import or set low_memory=False.\n",
      "  interactivity=interactivity, compiler=compiler, result=result)\n",
      "/usr0/home/mamille2/anaconda3/lib/python3.6/site-packages/IPython/core/interactiveshell.py:2728: DtypeWarning: Columns (3,18) have mixed types. Specify dtype option on import or set low_memory=False.\n",
      "  interactivity=interactivity, compiler=compiler, result=result)\n",
      "/usr0/home/mamille2/anaconda3/lib/python3.6/site-packages/IPython/core/interactiveshell.py:2728: DtypeWarning: Columns (18,27,29,31) have mixed types. Specify dtype option on import or set low_memory=False.\n",
      "  interactivity=interactivity, compiler=compiler, result=result)\n",
      "/usr0/home/mamille2/anaconda3/lib/python3.6/site-packages/IPython/core/interactiveshell.py:2728: DtypeWarning: Columns (6,13,18,21,22,27,48) have mixed types. Specify dtype option on import or set low_memory=False.\n",
      "  interactivity=interactivity, compiler=compiler, result=result)\n",
      "/usr0/home/mamille2/anaconda3/lib/python3.6/site-packages/IPython/core/interactiveshell.py:2728: DtypeWarning: Columns (6,18,21,22,31) have mixed types. Specify dtype option on import or set low_memory=False.\n",
      "  interactivity=interactivity, compiler=compiler, result=result)\n",
      "/usr0/home/mamille2/anaconda3/lib/python3.6/site-packages/IPython/core/interactiveshell.py:2728: DtypeWarning: Columns (1,13,18,27,42,43,48,49) have mixed types. Specify dtype option on import or set low_memory=False.\n",
      "  interactivity=interactivity, compiler=compiler, result=result)\n",
      "/usr0/home/mamille2/anaconda3/lib/python3.6/site-packages/IPython/core/interactiveshell.py:2728: DtypeWarning: Columns (3,6,21,22,27) have mixed types. Specify dtype option on import or set low_memory=False.\n",
      "  interactivity=interactivity, compiler=compiler, result=result)\n",
      "/usr0/home/mamille2/anaconda3/lib/python3.6/site-packages/IPython/core/interactiveshell.py:2728: DtypeWarning: Columns (13,18,27,42,43,48) have mixed types. Specify dtype option on import or set low_memory=False.\n",
      "  interactivity=interactivity, compiler=compiler, result=result)\n",
      "/usr0/home/mamille2/anaconda3/lib/python3.6/site-packages/IPython/core/interactiveshell.py:2728: DtypeWarning: Columns (6,21,22,27) have mixed types. Specify dtype option on import or set low_memory=False.\n",
      "  interactivity=interactivity, compiler=compiler, result=result)\n",
      "/usr0/home/mamille2/anaconda3/lib/python3.6/site-packages/IPython/core/interactiveshell.py:2728: DtypeWarning: Columns (3,6,27) have mixed types. Specify dtype option on import or set low_memory=False.\n",
      "  interactivity=interactivity, compiler=compiler, result=result)\n",
      "/usr0/home/mamille2/anaconda3/lib/python3.6/site-packages/IPython/core/interactiveshell.py:2728: DtypeWarning: Columns (6,9,10,27,31) have mixed types. Specify dtype option on import or set low_memory=False.\n",
      "  interactivity=interactivity, compiler=compiler, result=result)\n",
      "/usr0/home/mamille2/anaconda3/lib/python3.6/site-packages/IPython/core/interactiveshell.py:2728: DtypeWarning: Columns (1,6,13,27,48,49) have mixed types. Specify dtype option on import or set low_memory=False.\n",
      "  interactivity=interactivity, compiler=compiler, result=result)\n",
      "/usr0/home/mamille2/anaconda3/lib/python3.6/site-packages/IPython/core/interactiveshell.py:2728: DtypeWarning: Columns (1,9,10,18,27,49) have mixed types. Specify dtype option on import or set low_memory=False.\n",
      "  interactivity=interactivity, compiler=compiler, result=result)\n"
     ]
    },
    {
     "name": "stderr",
     "output_type": "stream",
     "text": [
      "/usr0/home/mamille2/anaconda3/lib/python3.6/site-packages/IPython/core/interactiveshell.py:2728: DtypeWarning: Columns (1,18,21,22,27,49) have mixed types. Specify dtype option on import or set low_memory=False.\n",
      "  interactivity=interactivity, compiler=compiler, result=result)\n",
      "/usr0/home/mamille2/anaconda3/lib/python3.6/site-packages/IPython/core/interactiveshell.py:2728: DtypeWarning: Columns (1,2,9,10,13,27,48,49) have mixed types. Specify dtype option on import or set low_memory=False.\n",
      "  interactivity=interactivity, compiler=compiler, result=result)\n",
      "/usr0/home/mamille2/anaconda3/lib/python3.6/site-packages/IPython/core/interactiveshell.py:2728: DtypeWarning: Columns (1,3,6,9,10,13,27,29,31,42,43,48,49) have mixed types. Specify dtype option on import or set low_memory=False.\n",
      "  interactivity=interactivity, compiler=compiler, result=result)\n",
      "/usr0/home/mamille2/anaconda3/lib/python3.6/site-packages/IPython/core/interactiveshell.py:2728: DtypeWarning: Columns (1,13,18,48,49) have mixed types. Specify dtype option on import or set low_memory=False.\n",
      "  interactivity=interactivity, compiler=compiler, result=result)\n",
      "/usr0/home/mamille2/anaconda3/lib/python3.6/site-packages/IPython/core/interactiveshell.py:2728: DtypeWarning: Columns (1,9,10,21,22,49) have mixed types. Specify dtype option on import or set low_memory=False.\n",
      "  interactivity=interactivity, compiler=compiler, result=result)\n",
      "/usr0/home/mamille2/anaconda3/lib/python3.6/site-packages/IPython/core/interactiveshell.py:2728: DtypeWarning: Columns (6,9,10) have mixed types. Specify dtype option on import or set low_memory=False.\n",
      "  interactivity=interactivity, compiler=compiler, result=result)\n",
      "/usr0/home/mamille2/anaconda3/lib/python3.6/site-packages/IPython/core/interactiveshell.py:2728: DtypeWarning: Columns (13,18,27,29,31,48) have mixed types. Specify dtype option on import or set low_memory=False.\n",
      "  interactivity=interactivity, compiler=compiler, result=result)\n",
      "/usr0/home/mamille2/anaconda3/lib/python3.6/site-packages/IPython/core/interactiveshell.py:2728: DtypeWarning: Columns (6,13,21,22,27,48) have mixed types. Specify dtype option on import or set low_memory=False.\n",
      "  interactivity=interactivity, compiler=compiler, result=result)\n",
      "/usr0/home/mamille2/anaconda3/lib/python3.6/site-packages/IPython/core/interactiveshell.py:2728: DtypeWarning: Columns (1,3,21,22,49) have mixed types. Specify dtype option on import or set low_memory=False.\n",
      "  interactivity=interactivity, compiler=compiler, result=result)\n",
      "/usr0/home/mamille2/anaconda3/lib/python3.6/site-packages/IPython/core/interactiveshell.py:2728: DtypeWarning: Columns (3,6,18) have mixed types. Specify dtype option on import or set low_memory=False.\n",
      "  interactivity=interactivity, compiler=compiler, result=result)\n",
      "/usr0/home/mamille2/anaconda3/lib/python3.6/site-packages/IPython/core/interactiveshell.py:2728: DtypeWarning: Columns (1,6,13,18,27,48,49) have mixed types. Specify dtype option on import or set low_memory=False.\n",
      "  interactivity=interactivity, compiler=compiler, result=result)\n",
      "/usr0/home/mamille2/anaconda3/lib/python3.6/site-packages/IPython/core/interactiveshell.py:2728: DtypeWarning: Columns (3,6) have mixed types. Specify dtype option on import or set low_memory=False.\n",
      "  interactivity=interactivity, compiler=compiler, result=result)\n",
      "/usr0/home/mamille2/anaconda3/lib/python3.6/site-packages/IPython/core/interactiveshell.py:2728: DtypeWarning: Columns (1,13,18,21,22,27,29,31,48,49) have mixed types. Specify dtype option on import or set low_memory=False.\n",
      "  interactivity=interactivity, compiler=compiler, result=result)\n",
      "/usr0/home/mamille2/anaconda3/lib/python3.6/site-packages/IPython/core/interactiveshell.py:2728: DtypeWarning: Columns (3,18,21,22) have mixed types. Specify dtype option on import or set low_memory=False.\n",
      "  interactivity=interactivity, compiler=compiler, result=result)\n",
      "/usr0/home/mamille2/anaconda3/lib/python3.6/site-packages/IPython/core/interactiveshell.py:2728: DtypeWarning: Columns (1,6,9,10,13,21,22,27,48,49) have mixed types. Specify dtype option on import or set low_memory=False.\n",
      "  interactivity=interactivity, compiler=compiler, result=result)\n",
      "/usr0/home/mamille2/anaconda3/lib/python3.6/site-packages/IPython/core/interactiveshell.py:2728: DtypeWarning: Columns (1,3,9,10,18,27,49) have mixed types. Specify dtype option on import or set low_memory=False.\n",
      "  interactivity=interactivity, compiler=compiler, result=result)\n",
      "/usr0/home/mamille2/anaconda3/lib/python3.6/site-packages/IPython/core/interactiveshell.py:2728: DtypeWarning: Columns (1,13,18,27,31,48,49) have mixed types. Specify dtype option on import or set low_memory=False.\n",
      "  interactivity=interactivity, compiler=compiler, result=result)\n",
      "/usr0/home/mamille2/anaconda3/lib/python3.6/site-packages/IPython/core/interactiveshell.py:2728: DtypeWarning: Columns (18,27,29) have mixed types. Specify dtype option on import or set low_memory=False.\n",
      "  interactivity=interactivity, compiler=compiler, result=result)\n",
      "/usr0/home/mamille2/anaconda3/lib/python3.6/site-packages/IPython/core/interactiveshell.py:2728: DtypeWarning: Columns (6,9,10,13,18,21,22,27,48) have mixed types. Specify dtype option on import or set low_memory=False.\n",
      "  interactivity=interactivity, compiler=compiler, result=result)\n",
      "/usr0/home/mamille2/anaconda3/lib/python3.6/site-packages/IPython/core/interactiveshell.py:2728: DtypeWarning: Columns (31) have mixed types. Specify dtype option on import or set low_memory=False.\n",
      "  interactivity=interactivity, compiler=compiler, result=result)\n",
      "/usr0/home/mamille2/anaconda3/lib/python3.6/site-packages/IPython/core/interactiveshell.py:2728: DtypeWarning: Columns (3,9,10,13,27,48) have mixed types. Specify dtype option on import or set low_memory=False.\n",
      "  interactivity=interactivity, compiler=compiler, result=result)\n",
      "/usr0/home/mamille2/anaconda3/lib/python3.6/site-packages/IPython/core/interactiveshell.py:2728: DtypeWarning: Columns (1,6,9,10,21,22,27,49) have mixed types. Specify dtype option on import or set low_memory=False.\n",
      "  interactivity=interactivity, compiler=compiler, result=result)\n",
      "/usr0/home/mamille2/anaconda3/lib/python3.6/site-packages/IPython/core/interactiveshell.py:2728: DtypeWarning: Columns (1,13,27,48,49) have mixed types. Specify dtype option on import or set low_memory=False.\n",
      "  interactivity=interactivity, compiler=compiler, result=result)\n",
      "/usr0/home/mamille2/anaconda3/lib/python3.6/site-packages/IPython/core/interactiveshell.py:2728: DtypeWarning: Columns (6,9,10,13,21,22,27,42,43,48) have mixed types. Specify dtype option on import or set low_memory=False.\n",
      "  interactivity=interactivity, compiler=compiler, result=result)\n",
      "/usr0/home/mamille2/anaconda3/lib/python3.6/site-packages/IPython/core/interactiveshell.py:2728: DtypeWarning: Columns (3,6,9,10,18) have mixed types. Specify dtype option on import or set low_memory=False.\n",
      "  interactivity=interactivity, compiler=compiler, result=result)\n",
      "/usr0/home/mamille2/anaconda3/lib/python3.6/site-packages/IPython/core/interactiveshell.py:2728: DtypeWarning: Columns (3,21,22) have mixed types. Specify dtype option on import or set low_memory=False.\n",
      "  interactivity=interactivity, compiler=compiler, result=result)\n",
      "/usr0/home/mamille2/anaconda3/lib/python3.6/site-packages/IPython/core/interactiveshell.py:2728: DtypeWarning: Columns (1,6,18,27,29,31,49) have mixed types. Specify dtype option on import or set low_memory=False.\n",
      "  interactivity=interactivity, compiler=compiler, result=result)\n",
      "/usr0/home/mamille2/anaconda3/lib/python3.6/site-packages/IPython/core/interactiveshell.py:2728: DtypeWarning: Columns (18,21,22,27,42,43) have mixed types. Specify dtype option on import or set low_memory=False.\n",
      "  interactivity=interactivity, compiler=compiler, result=result)\n",
      "/usr0/home/mamille2/anaconda3/lib/python3.6/site-packages/IPython/core/interactiveshell.py:2728: DtypeWarning: Columns (1,6,21,22,49) have mixed types. Specify dtype option on import or set low_memory=False.\n",
      "  interactivity=interactivity, compiler=compiler, result=result)\n",
      "/usr0/home/mamille2/anaconda3/lib/python3.6/site-packages/IPython/core/interactiveshell.py:2728: DtypeWarning: Columns (1,9,10,21,22,27,49) have mixed types. Specify dtype option on import or set low_memory=False.\n",
      "  interactivity=interactivity, compiler=compiler, result=result)\n"
     ]
    },
    {
     "name": "stderr",
     "output_type": "stream",
     "text": [
      "/usr0/home/mamille2/anaconda3/lib/python3.6/site-packages/IPython/core/interactiveshell.py:2728: DtypeWarning: Columns (9,10,13,18,27,31,48) have mixed types. Specify dtype option on import or set low_memory=False.\n",
      "  interactivity=interactivity, compiler=compiler, result=result)\n",
      "/usr0/home/mamille2/anaconda3/lib/python3.6/site-packages/IPython/core/interactiveshell.py:2728: DtypeWarning: Columns (1,6,13,18,27,31,48,49) have mixed types. Specify dtype option on import or set low_memory=False.\n",
      "  interactivity=interactivity, compiler=compiler, result=result)\n",
      "/usr0/home/mamille2/anaconda3/lib/python3.6/site-packages/IPython/core/interactiveshell.py:2728: DtypeWarning: Columns (3,6,13,27,48) have mixed types. Specify dtype option on import or set low_memory=False.\n",
      "  interactivity=interactivity, compiler=compiler, result=result)\n",
      "/usr0/home/mamille2/anaconda3/lib/python3.6/site-packages/IPython/core/interactiveshell.py:2728: DtypeWarning: Columns (9,10,27,42,43) have mixed types. Specify dtype option on import or set low_memory=False.\n",
      "  interactivity=interactivity, compiler=compiler, result=result)\n",
      "/usr0/home/mamille2/anaconda3/lib/python3.6/site-packages/IPython/core/interactiveshell.py:2728: DtypeWarning: Columns (1,6,13,21,22,27,48,49) have mixed types. Specify dtype option on import or set low_memory=False.\n",
      "  interactivity=interactivity, compiler=compiler, result=result)\n",
      "/usr0/home/mamille2/anaconda3/lib/python3.6/site-packages/IPython/core/interactiveshell.py:2728: DtypeWarning: Columns (1,6,9,10,13,27,31,48,49) have mixed types. Specify dtype option on import or set low_memory=False.\n",
      "  interactivity=interactivity, compiler=compiler, result=result)\n",
      "/usr0/home/mamille2/anaconda3/lib/python3.6/site-packages/IPython/core/interactiveshell.py:2728: DtypeWarning: Columns (9,10,13,15,18,21,22,27,42,43,48) have mixed types. Specify dtype option on import or set low_memory=False.\n",
      "  interactivity=interactivity, compiler=compiler, result=result)\n",
      "/usr0/home/mamille2/anaconda3/lib/python3.6/site-packages/IPython/core/interactiveshell.py:2728: DtypeWarning: Columns (13,18,27,29,48) have mixed types. Specify dtype option on import or set low_memory=False.\n",
      "  interactivity=interactivity, compiler=compiler, result=result)\n",
      "/usr0/home/mamille2/anaconda3/lib/python3.6/site-packages/IPython/core/interactiveshell.py:2728: DtypeWarning: Columns (1,6,18,27,49) have mixed types. Specify dtype option on import or set low_memory=False.\n",
      "  interactivity=interactivity, compiler=compiler, result=result)\n",
      "/usr0/home/mamille2/anaconda3/lib/python3.6/site-packages/IPython/core/interactiveshell.py:2728: DtypeWarning: Columns (6,18,31) have mixed types. Specify dtype option on import or set low_memory=False.\n",
      "  interactivity=interactivity, compiler=compiler, result=result)\n",
      "/usr0/home/mamille2/anaconda3/lib/python3.6/site-packages/IPython/core/interactiveshell.py:2728: DtypeWarning: Columns (9,10,13,48) have mixed types. Specify dtype option on import or set low_memory=False.\n",
      "  interactivity=interactivity, compiler=compiler, result=result)\n",
      "/usr0/home/mamille2/anaconda3/lib/python3.6/site-packages/IPython/core/interactiveshell.py:2728: DtypeWarning: Columns (9,10,13,18,21,22,27,48) have mixed types. Specify dtype option on import or set low_memory=False.\n",
      "  interactivity=interactivity, compiler=compiler, result=result)\n",
      "/usr0/home/mamille2/anaconda3/lib/python3.6/site-packages/IPython/core/interactiveshell.py:2728: DtypeWarning: Columns (3,6,18,21,22) have mixed types. Specify dtype option on import or set low_memory=False.\n",
      "  interactivity=interactivity, compiler=compiler, result=result)\n"
     ]
    },
    {
     "name": "stdout",
     "output_type": "stream",
     "text": [
      "\n"
     ]
    },
    {
     "data": {
      "text/plain": [
       "67043234"
      ]
     },
     "execution_count": 11,
     "metadata": {},
     "output_type": "execute_result"
    }
   ],
   "source": [
    "from tqdm import tqdm_notebook as tqdm\n",
    "\n",
    "nonreblog_fnames = os.listdir(os.path.join(data_dirpath, 'nonreblogs_descs_match'))\n",
    "for fname in tqdm(nonreblog_fnames):\n",
    "    fpath = os.path.join(data_dirpath, 'nonreblogs_descs_match', fname)\n",
    "    nonreblogs = pd.read_table(fpath)\n",
    "    blognames += nonreblogs['blog_name_followee'].tolist() + nonreblogs['blog_name_follower'].tolist()\n",
    "    \n",
    "len(blognames)"
   ]
  },
  {
   "cell_type": "code",
   "execution_count": 13,
   "metadata": {},
   "outputs": [],
   "source": [
    "with open(os.path.join(data_dirpath, 'blognames.txt'), 'w') as f:\n",
    "    for blogname in blognames:\n",
    "        f.write(f'{blogname}\\n')"
   ]
  },
  {
   "cell_type": "code",
   "execution_count": 19,
   "metadata": {},
   "outputs": [
    {
     "data": {
      "text/plain": [
       "1000"
      ]
     },
     "execution_count": 19,
     "metadata": {},
     "output_type": "execute_result"
    }
   ],
   "source": [
    "import random\n",
    "\n",
    "# Random sample of 500 unique blog names, weighted by probability in data\n",
    "\n",
    "selection = set()\n",
    "\n",
    "while len(selection) < 1000:\n",
    "    choice = random.choice(blognames)\n",
    "    if not choice in selection:\n",
    "        selection.add(choice)\n",
    "        \n",
    "len(selection)"
   ]
  },
  {
   "cell_type": "code",
   "execution_count": 18,
   "metadata": {},
   "outputs": [
    {
     "data": {
      "text/plain": [
       "['123-tamarindo',\n",
       " '1998life-dream',\n",
       " '260to120thinspo',\n",
       " '666miss-u',\n",
       " 'abrandarei',\n",
       " 'absolutelynothingjustforgetit',\n",
       " 'adultvideosclub',\n",
       " 'alejandrard',\n",
       " 'alexanderuhoton',\n",
       " 'alexsorange',\n",
       " 'aliceisinlesbianwonderlandagain',\n",
       " 'alienpicnic',\n",
       " 'allo-mishamigos',\n",
       " 'allthingseurope',\n",
       " 'alotofshittypeople',\n",
       " 'amargedom',\n",
       " 'amazinglybeautifulphotography',\n",
       " 'amber2horny',\n",
       " 'ambiguities',\n",
       " 'amy-ambrosio']"
      ]
     },
     "execution_count": 18,
     "metadata": {},
     "output_type": "execute_result"
    }
   ],
   "source": [
    "sorted(selection)[:20]"
   ]
  }
 ],
 "metadata": {
  "kernelspec": {
   "display_name": "Python 3",
   "language": "python",
   "name": "python3"
  },
  "language_info": {
   "codemirror_mode": {
    "name": "ipython",
    "version": 3
   },
   "file_extension": ".py",
   "mimetype": "text/x-python",
   "name": "python",
   "nbconvert_exporter": "python",
   "pygments_lexer": "ipython3",
   "version": "3.6.8"
  }
 },
 "nbformat": 4,
 "nbformat_minor": 2
}
